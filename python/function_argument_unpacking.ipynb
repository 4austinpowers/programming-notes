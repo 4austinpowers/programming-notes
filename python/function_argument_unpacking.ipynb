{
 "cells": [
  {
   "cell_type": "markdown",
   "metadata": {},
   "source": [
    "# Function Argument Unpacking \n",
    "\n",
    "In this tutorial you will learn how to use Python's Function Arugment Unpacking operators to simplify your code. First, let's see the context of the problem they solve. Look at the piece of code below. "
   ]
  },
  {
   "cell_type": "code",
   "execution_count": 8,
   "metadata": {},
   "outputs": [
    {
     "name": "stdout",
     "output_type": "stream",
     "text": [
      "<2, 4, 6>\n"
     ]
    }
   ],
   "source": [
    "def print_vec(x, y, z): \n",
    "    print ('<{}, {}, {}>'.format(x, y, z))\n",
    "    \n",
    "print_vec(2, 4, 6)"
   ]
  },
  {
   "cell_type": "markdown",
   "metadata": {},
   "source": [
    "This is a simple script that uses the string formatter to print out 3 variables to look like a nice vector. Pretty simple. But elsewhere in the code we can store the input data to `print_vec` as a tuple, or list, or something else. If that is the case, then we will need to manually unpack the tuple or list which is a bit cumbersome: "
   ]
  },
  {
   "cell_type": "code",
   "execution_count": 11,
   "metadata": {},
   "outputs": [
    {
     "name": "stdout",
     "output_type": "stream",
     "text": [
      "<2, 4, 6>\n"
     ]
    }
   ],
   "source": [
    "my_tuple = (2, 4, 6)\n",
    "\n",
    "#need to unpack each value of the tuple to print... :(\n",
    "print_vec(my_tuple[0], my_tuple[1], my_tuple[2])"
   ]
  },
  {
   "cell_type": "markdown",
   "metadata": {},
   "source": [
    "Python's Function Argument Unpacker is a handy-dandy tool to do that manual write-out for us. We use it by simply using a * right before calling the object we want to unpack. "
   ]
  },
  {
   "cell_type": "code",
   "execution_count": 12,
   "metadata": {},
   "outputs": [
    {
     "name": "stdout",
     "output_type": "stream",
     "text": [
      "<2, 4, 6>\n"
     ]
    }
   ],
   "source": [
    "print_vec(*my_tuple)"
   ]
  },
  {
   "cell_type": "markdown",
   "metadata": {},
   "source": [
    "And it works with lists! "
   ]
  },
  {
   "cell_type": "code",
   "execution_count": 15,
   "metadata": {},
   "outputs": [
    {
     "name": "stdout",
     "output_type": "stream",
     "text": [
      "<3, 9, 6>\n"
     ]
    }
   ],
   "source": [
    "my_list = [3, 9, 6]\n",
    "\n",
    "print_vec(*my_list)"
   ]
  },
  {
   "cell_type": "markdown",
   "metadata": {},
   "source": [
    "Let's see what happens if we try and break the unpacking operator. Not because we're anarchists, but because we want to see what it can and can not do. "
   ]
  },
  {
   "cell_type": "code",
   "execution_count": 27,
   "metadata": {},
   "outputs": [
    {
     "ename": "SyntaxError",
     "evalue": "can't use starred expression here (<ipython-input-27-07b75780013b>, line 2)",
     "output_type": "error",
     "traceback": [
      "\u001b[1;36m  File \u001b[1;32m\"<ipython-input-27-07b75780013b>\"\u001b[1;36m, line \u001b[1;32m2\u001b[0m\n\u001b[1;33m    *my_list\u001b[0m\n\u001b[1;37m            ^\u001b[0m\n\u001b[1;31mSyntaxError\u001b[0m\u001b[1;31m:\u001b[0m can't use starred expression here\n"
     ]
    }
   ],
   "source": [
    "#can we use the function unpacker by itself, without a function?\n",
    "*my_list"
   ]
  },
  {
   "cell_type": "code",
   "execution_count": 28,
   "metadata": {},
   "outputs": [
    {
     "ename": "TypeError",
     "evalue": "print_vec() takes 3 positional arguments but 6 were given",
     "output_type": "error",
     "traceback": [
      "\u001b[1;31m---------------------------------------------------------------------------\u001b[0m",
      "\u001b[1;31mTypeError\u001b[0m                                 Traceback (most recent call last)",
      "\u001b[1;32m<ipython-input-28-0f0aa9b5f591>\u001b[0m in \u001b[0;36m<module>\u001b[1;34m()\u001b[0m\n\u001b[0;32m      3\u001b[0m \u001b[0mlong_list\u001b[0m \u001b[1;33m=\u001b[0m \u001b[1;33m[\u001b[0m\u001b[1;36m5\u001b[0m\u001b[1;33m,\u001b[0m \u001b[1;36m23\u001b[0m\u001b[1;33m,\u001b[0m \u001b[1;36m7\u001b[0m\u001b[1;33m,\u001b[0m \u001b[1;36m9\u001b[0m\u001b[1;33m,\u001b[0m \u001b[1;36m3\u001b[0m\u001b[1;33m,\u001b[0m \u001b[1;36m8\u001b[0m\u001b[1;33m]\u001b[0m\u001b[1;33m\u001b[0m\u001b[0m\n\u001b[0;32m      4\u001b[0m \u001b[1;33m\u001b[0m\u001b[0m\n\u001b[1;32m----> 5\u001b[1;33m \u001b[0mprint_vec\u001b[0m\u001b[1;33m(\u001b[0m\u001b[1;33m*\u001b[0m\u001b[0mlong_list\u001b[0m\u001b[1;33m)\u001b[0m\u001b[1;33m\u001b[0m\u001b[0m\n\u001b[0m",
      "\u001b[1;31mTypeError\u001b[0m: print_vec() takes 3 positional arguments but 6 were given"
     ]
    }
   ],
   "source": [
    "#what happens if we unpack too many values for the function input?\n",
    "\n",
    "long_list = [5, 23, 7, 9, 3, 8]\n",
    "\n",
    "print_vec(*long_list)"
   ]
  },
  {
   "cell_type": "code",
   "execution_count": 29,
   "metadata": {},
   "outputs": [
    {
     "name": "stdout",
     "output_type": "stream",
     "text": [
      "<5, 23, 7>\n"
     ]
    }
   ],
   "source": [
    "#but maybe we can truncate the excess?\n",
    "print_vec(*long_list[:3])"
   ]
  },
  {
   "cell_type": "markdown",
   "metadata": {},
   "source": [
    "Great! So that is the single * function unpacker. But wait, there's more. We can use this with dictionaries inputs, simply by doubling the function unpacker to:\n",
    "\n",
    "```python \n",
    "**\n",
    "```\n",
    "\n",
    "One important thing to note here is that since dictionaries are not ordered, the names of the keys must match up exactly as the arguments of the function, `x, y, z` in our case. So unpacking a dictionary with values `x, g, z` would not work. \n",
    "\n",
    "But dictionaries will be ordered in Python 3.6, so this won't be a problem :) "
   ]
  },
  {
   "cell_type": "code",
   "execution_count": 41,
   "metadata": {},
   "outputs": [
    {
     "name": "stdout",
     "output_type": "stream",
     "text": [
      "<1, 1, 4>\n"
     ]
    }
   ],
   "source": [
    "d = {'x': 1, \n",
    "     'y': 1, \n",
    "     'z': 4}\n",
    "\n",
    "print_vec(**d)"
   ]
  },
  {
   "cell_type": "markdown",
   "metadata": {},
   "source": [
    "Note that a single * would only give us the keys of the dictionary, rather than the values. "
   ]
  },
  {
   "cell_type": "code",
   "execution_count": 42,
   "metadata": {},
   "outputs": [
    {
     "name": "stdout",
     "output_type": "stream",
     "text": [
      "<x, z, y>\n"
     ]
    }
   ],
   "source": [
    "print_vec(*d)"
   ]
  },
  {
   "cell_type": "code",
   "execution_count": null,
   "metadata": {
    "collapsed": true
   },
   "outputs": [],
   "source": []
  }
 ],
 "metadata": {
  "kernelspec": {
   "display_name": "Python 3",
   "language": "python",
   "name": "python3"
  },
  "language_info": {
   "codemirror_mode": {
    "name": "ipython",
    "version": 3
   },
   "file_extension": ".py",
   "mimetype": "text/x-python",
   "name": "python",
   "nbconvert_exporter": "python",
   "pygments_lexer": "ipython3",
   "version": "3.5.2"
  },
  "widgets": {
   "state": {},
   "version": "1.1.2"
  }
 },
 "nbformat": 4,
 "nbformat_minor": 2
}
