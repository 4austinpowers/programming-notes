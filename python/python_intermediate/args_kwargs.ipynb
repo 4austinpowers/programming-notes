{
 "cells": [
  {
   "cell_type": "markdown",
   "metadata": {},
   "source": [
    "# Args and Kwargs (Key Word Arguments)\n",
    "\n",
    "Args and kwargs are more than just sounds pirate make. In Python, args and kwargs are tools to be used when we want function arguments to be optional. Let's see an example. Below I built a function that takes in one required argment, the `*args` argument, and the `**kwargs` argument. Based on the structure of the cell below, try and guess what each does before reading on. "
   ]
  },
  {
   "cell_type": "code",
   "execution_count": 1,
   "metadata": {
    "collapsed": true
   },
   "outputs": [],
   "source": [
    "def test(required, *args, **kwargs): \n",
    "    print (required)\n",
    "    if args: \n",
    "        print (args)\n",
    "    if kwargs: \n",
    "        print (kwargs)"
   ]
  },
  {
   "cell_type": "markdown",
   "metadata": {},
   "source": [
    "Let's try calling the function with no arugments. It should be obvious why this fails. "
   ]
  },
  {
   "cell_type": "code",
   "execution_count": 2,
   "metadata": {},
   "outputs": [
    {
     "ename": "TypeError",
     "evalue": "test() missing 1 required positional argument: 'required'",
     "output_type": "error",
     "traceback": [
      "\u001b[1;31m---------------------------------------------------------------------------\u001b[0m",
      "\u001b[1;31mTypeError\u001b[0m                                 Traceback (most recent call last)",
      "\u001b[1;32m<ipython-input-2-ea594c21b25d>\u001b[0m in \u001b[0;36m<module>\u001b[1;34m()\u001b[0m\n\u001b[1;32m----> 1\u001b[1;33m \u001b[0mtest\u001b[0m\u001b[1;33m(\u001b[0m\u001b[1;33m)\u001b[0m\u001b[1;33m\u001b[0m\u001b[0m\n\u001b[0m",
      "\u001b[1;31mTypeError\u001b[0m: test() missing 1 required positional argument: 'required'"
     ]
    }
   ],
   "source": [
    "test()"
   ]
  },
  {
   "cell_type": "markdown",
   "metadata": {},
   "source": [
    "Let's now give the function one argument. As you might be able to guess, this only argument is the `required` argument. "
   ]
  },
  {
   "cell_type": "code",
   "execution_count": 4,
   "metadata": {},
   "outputs": [
    {
     "name": "stdout",
     "output_type": "stream",
     "text": [
      "sup world\n"
     ]
    }
   ],
   "source": [
    "test('sup world')"
   ]
  },
  {
   "cell_type": "markdown",
   "metadata": {},
   "source": [
    "####  *args\n",
    "\n",
    "Okay, now things get interesting. What happens when we pass in another argument. This second argument is a `*args` argument. It is an optional argument, and the function works with and without it. "
   ]
  },
  {
   "cell_type": "code",
   "execution_count": 8,
   "metadata": {},
   "outputs": [
    {
     "name": "stdout",
     "output_type": "stream",
     "text": [
      "sup world\n",
      "('this is an arg',)\n"
     ]
    }
   ],
   "source": [
    "test('sup world', 'this is an arg')"
   ]
  },
  {
   "cell_type": "markdown",
   "metadata": {},
   "source": [
    "Args are arguments that go into the function that are not preceeded with a `=`. The input args is unpacked in the function as a tuple, hence the parenthesis above. Each args that goes in as an argument to the function is a member of the internal tuple called args. "
   ]
  },
  {
   "cell_type": "code",
   "execution_count": 9,
   "metadata": {},
   "outputs": [
    {
     "name": "stdout",
     "output_type": "stream",
     "text": [
      "sup world\n",
      "('arg1', 2, 'arg3')\n"
     ]
    }
   ],
   "source": [
    "test('sup world', 'arg1', 2, 'arg3')"
   ]
  },
  {
   "cell_type": "markdown",
   "metadata": {},
   "source": [
    "#### **kwargs\n",
    "\n",
    "If you know about Function Unpacking Operators, you may know what is coming next. The double asteriks means that we are unpacking a dictionary. Any non-required argument that is preceeded with an `=` is a key-word argument, or kwarg. Note that the variable which carrys the kwarg value can be names anything, and the value can be a variety of datatypes. "
   ]
  },
  {
   "cell_type": "code",
   "execution_count": 14,
   "metadata": {},
   "outputs": [
    {
     "name": "stdout",
     "output_type": "stream",
     "text": [
      "sup world\n",
      "('arg1',)\n",
      "{'key2': 100, 'key1': 'keyword', 'd': [53]}\n"
     ]
    }
   ],
   "source": [
    "test('sup world', 'arg1', key1 = 'keyword', key2 = 100, d=[53])"
   ]
  },
  {
   "cell_type": "markdown",
   "metadata": {},
   "source": [
    "## Examples \n",
    "\n",
    "Neat. Let's see how useful args and kwargs actually are. One example is that args and kwargs are tools that can save a lot of typing (and therefore silly mistakes) for initializing subclasses. Take the following example: "
   ]
  },
  {
   "cell_type": "code",
   "execution_count": 17,
   "metadata": {},
   "outputs": [],
   "source": [
    "class Car: \n",
    "    def __init__(self, color, mileage): \n",
    "        self.color = color \n",
    "        self.mileage = mileage\n",
    "        \n",
    "class AlwaysBlueCar(Car): \n",
    "    '''\n",
    "    - subclass of Car that always has Blue color property\n",
    "    - use the super().__init__ method to inherit all properties of Car parent\n",
    "    - use args and kwargs to avoid writing __init__ args \n",
    "    '''\n",
    "    def __init__(self, *args, **kwargs): \n",
    "        super().__init__(self, *args, **kwargs) \n",
    "        #override color \n",
    "        self.color = 'blue'"
   ]
  },
  {
   "cell_type": "markdown",
   "metadata": {},
   "source": [
    "This is convenient in terms of not replicating code, but it also presents some new problems. args and kwargs are not descriptive at all, so if you use this, you will need to provide a really good doc string indicating that AlwaysBlueCar is just a simple wrapper for Car. "
   ]
  },
  {
   "cell_type": "code",
   "execution_count": null,
   "metadata": {
    "collapsed": true
   },
   "outputs": [],
   "source": []
  }
 ],
 "metadata": {
  "kernelspec": {
   "display_name": "Python 3",
   "language": "python",
   "name": "python3"
  },
  "language_info": {
   "codemirror_mode": {
    "name": "ipython",
    "version": 3
   },
   "file_extension": ".py",
   "mimetype": "text/x-python",
   "name": "python",
   "nbconvert_exporter": "python",
   "pygments_lexer": "ipython3",
   "version": "3.5.2"
  },
  "widgets": {
   "state": {},
   "version": "1.1.2"
  }
 },
 "nbformat": 4,
 "nbformat_minor": 2
}
