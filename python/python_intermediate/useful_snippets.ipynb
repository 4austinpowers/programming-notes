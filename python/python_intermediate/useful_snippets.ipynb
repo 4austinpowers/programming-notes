{
 "cells": [
  {
   "cell_type": "markdown",
   "metadata": {},
   "source": [
    "# Snippets\n",
    "\n",
    "Here are some smaller snippets of Python code that I find useful to transfer into other projects. I posting them here so they are easy for me to find and copy/paste. \n",
    "\n",
    "# Logging \n",
    "\n",
    "## psutil\n",
    "\n",
    "[Psutil](https://github.com/giampaolo/psutil) is a great way to check on your memory/CPU usage."
   ]
  },
  {
   "cell_type": "code",
   "execution_count": 3,
   "metadata": {},
   "outputs": [
    {
     "data": {
      "text/plain": [
       "0.00821291344964073"
      ]
     },
     "execution_count": 3,
     "metadata": {},
     "output_type": "execute_result"
    }
   ],
   "source": [
    "import psutil\n",
    "import os\n",
    "\n",
    "def mem_usage():\n",
    "    '''get the memory useage of the current process \n",
    "    \n",
    "    os.getpid() gets the process ID #. \n",
    "    Then get RSS (RAM used by process)\n",
    "    Divide by total virtual memory\n",
    "    \n",
    "    returns : process memory usage as a percentage \n",
    "    '''\n",
    "    process = psutil.Process(os.getpid())\n",
    "    return process.memory_info().rss / psutil.virtual_memory().total\n",
    "\n",
    "mem_usage()"
   ]
  },
  {
   "cell_type": "markdown",
   "metadata": {},
   "source": [
    "Machine Learning processes can crash if they use too much CPU compute or RAM, so we can keep an eye on those parameters with these functions. "
   ]
  },
  {
   "cell_type": "code",
   "execution_count": 4,
   "metadata": {},
   "outputs": [
    {
     "data": {
      "text/plain": [
       "12.1"
      ]
     },
     "execution_count": 4,
     "metadata": {},
     "output_type": "execute_result"
    }
   ],
   "source": [
    "#get CPU% used by ALL current processes \n",
    "psutil.cpu_percent()"
   ]
  },
  {
   "cell_type": "code",
   "execution_count": 5,
   "metadata": {},
   "outputs": [
    {
     "data": {
      "text/plain": [
       "58.0"
      ]
     },
     "execution_count": 5,
     "metadata": {},
     "output_type": "execute_result"
    }
   ],
   "source": [
    "#get available RAM memory \n",
    "psutil.virtual_memory().percent"
   ]
  },
  {
   "cell_type": "markdown",
   "metadata": {},
   "source": [
    "## TQDM\n",
    "\n",
    "[TQDM](https://github.com/tqdm/tqdm) - Good for logging progress. Wrap an interator in the TQDM function."
   ]
  },
  {
   "cell_type": "code",
   "execution_count": 6,
   "metadata": {},
   "outputs": [
    {
     "name": "stderr",
     "output_type": "stream",
     "text": [
      "100%|████████████████████████████████████████████████████████████████████████████████| 100/100 [00:01<00:00, 59.85it/s]\n"
     ]
    }
   ],
   "source": [
    "#basic version \n",
    "#wrap the iterable with tqdm, thats it! \n",
    "from time import sleep \n",
    "from tqdm import tqdm\n",
    "\n",
    "for i in tqdm(range(100)):\n",
    "    sleep(0.01)"
   ]
  },
  {
   "cell_type": "code",
   "execution_count": 7,
   "metadata": {},
   "outputs": [
    {
     "name": "stderr",
     "output_type": "stream",
     "text": [
      "epoch 98:  50%|███████████████████▎                   | 99/200 [00:01<00:01, 60.01it/s, train_loss=1.01, val_loss=2.02]"
     ]
    },
    {
     "name": "stdout",
     "output_type": "stream",
     "text": [
      "exception occured, break line\n"
     ]
    },
    {
     "name": "stderr",
     "output_type": "stream",
     "text": [
      "epoch 199: 100%|█████████████████████████████████████████| 200/200 [00:03<00:00, 60.00it/s, train_loss=0.5, val_loss=1]\n"
     ]
    }
   ],
   "source": [
    "#robust ML verison: set dynamic descrptions \n",
    "#postfix reports extra stats \n",
    "#note: breaking TQDM creates new line, and you can see iteration stats at break\n",
    "\n",
    "from time import sleep \n",
    "from tqdm import tqdm\n",
    "\n",
    "epochs = 200\n",
    "t = tqdm(range(epochs))\n",
    "for i in t:\n",
    "    t.set_description('epoch {}'.format(i))\n",
    "    t.set_postfix(train_loss = 100/(i+1), val_loss = 200/(i+1))\n",
    "    \n",
    "    \n",
    "    if i == 100: \n",
    "        print ('exception occured, break line')\n",
    "    sleep(0.001)"
   ]
  },
  {
   "cell_type": "markdown",
   "metadata": {
    "collapsed": true
   },
   "source": [
    "## Get Source Code of Function or Class \n",
    "\n",
    "Because the docstring does not give the actual source code and inner workings. "
   ]
  },
  {
   "cell_type": "code",
   "execution_count": 8,
   "metadata": {
    "collapsed": true
   },
   "outputs": [],
   "source": [
    "import inspect \n",
    "def print_func(function): \n",
    "    print(\"\".join(inspect.getsourcelines(function)[0]))"
   ]
  },
  {
   "cell_type": "code",
   "execution_count": 13,
   "metadata": {},
   "outputs": [
    {
     "name": "stdout",
     "output_type": "stream",
     "text": [
      "def mem_usage():\n",
      "    '''get the memory useage of the current process \n",
      "    \n",
      "    os.getpid() gets the process ID #. \n",
      "    Then get RSS (RAM used by process)\n",
      "    Divide by total virtual memory\n",
      "    \n",
      "    returns : process memory usage as a percentage \n",
      "    '''\n",
      "    process = psutil.Process(os.getpid())\n",
      "    return process.memory_info().rss / psutil.virtual_memory().total\n",
      "\n"
     ]
    }
   ],
   "source": [
    "print_func(mem_usage)"
   ]
  },
  {
   "cell_type": "code",
   "execution_count": null,
   "metadata": {
    "collapsed": true
   },
   "outputs": [],
   "source": []
  }
 ],
 "metadata": {
  "kernelspec": {
   "display_name": "Python 3",
   "language": "python",
   "name": "python3"
  },
  "language_info": {
   "codemirror_mode": {
    "name": "ipython",
    "version": 3
   },
   "file_extension": ".py",
   "mimetype": "text/x-python",
   "name": "python",
   "nbconvert_exporter": "python",
   "pygments_lexer": "ipython3",
   "version": "3.6.3"
  }
 },
 "nbformat": 4,
 "nbformat_minor": 2
}
