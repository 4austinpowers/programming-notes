{
 "cells": [
  {
   "cell_type": "markdown",
   "metadata": {},
   "source": [
    "## Woohoo! \n",
    "\n",
    "If you're re' reading this, congratulations! You made it to Jupyter. You'll quicky start seeing how this type of text editor is useful. First off, what you're reading now is a language called Markdown. It is pretty much exactly like writing regularly, but you do a few special things to make **bold** or make titles. There is also no spel chek, but it looks nice. You can double click on this cell (the text) to get an idea of how it works. This is also how you would edit the text. Note that you can't do functions, this is totally static and is just for documenting your work.\n",
    "\n",
    "The advantage of using Jupyter is that you can execute code in these cells one at a time. Instead of having a 100 line script, you can break it into 20 cells and run them individually and peer into how your code is running. You can imagine how this is super useful in the science and engineering fields, where you want to constatnly examine your variables/data, monitor changes, double check your work, etc. This is not the platform for automating tasks or running scripts on hardware, but it is the go-to for statistics and machine learning. Now I'll cover a few of the basics on how to use Jupyter Notebooks. \n",
    "\n",
    "## Basics of Jupyter \n",
    "\n",
    "What you're using now is a Notebook, built with the platform Jupyter (hence Jupyter Notebooks). You may also hear the term iPython notebook. \n",
    "\n",
    "You're already here, but just to recap, to get to Jupyter, you use the terminal/command prompt. If your new to Mac terminal, [breifly study this](https://github.com/0nn0/terminal-mac-cheatsheet). \n",
    "\n",
    "You'll only need cd, ls, and cd - (cd.. on Windows).  Navigate to your directory (folder) with the files you need and then type **jupyter**. This will get you to the landing page, where you can either create a new notebook or work on an existing one. To stop Jupyer type cntrl+C or just exit out of the terminal. \n",
    "\n",
    "To run a cell, make sure your cursor is inside the cell and you can edit the text, then press shift+enter. You can also press the play button at the top"
   ]
  },
  {
   "cell_type": "code",
   "execution_count": null,
   "metadata": {
    "collapsed": true
   },
   "outputs": [],
   "source": [
    "print ('I just printed something!')"
   ]
  },
  {
   "cell_type": "markdown",
   "metadata": {},
   "source": [
    "#### Stop the Scripts \n",
    "The stop button is for when you run longer scripts. If you are doing a process that takes a while and you want to kill it because you did something wrong, press the stop button. You can also press Kernel >> Interrrupt. \n",
    "\n",
    "Within 'Kernel' you also see restart. Restart stops the script, just like Interrupt, but it also clears all the variables and flushes the memory. You may want to do this to tidy up debug messages, clear the memory if you are doing a big data processing task, or reset variables if you think you've assigned something wrong. Be mindful that if you restart, you have to run all your code over again. \n",
    "\n",
    "You can tell the status of a cell by reading the In[ ]: block on the top right of the cell. Blank means the cell hasn't been run, a number gives you the order of when a cell was executed, and [*] means the cell is running. If one cell is running you can't run another. If the cell is running longer than you expect, thats the signal to stop the execution using Interrupt or Restart.\n",
    "\n",
    "#### Delete Cells \n",
    "To delete a cell, press the scissors (cut), and to add a cell press the save. To save the file press the floppy disk, or control+s (command for Macs?). \n",
    "\n",
    "#### Undo Delete Cells (important)\n",
    "No one told me this when I started. Its surprisinly easy to accidentaly delete cells. To restore the deleted cell, press Edit >> Undo Delete Cell. Hopefully that saves you a heart-attack or two. \n",
    "\n",
    "#### Markdown vs. Code \n",
    "To switch between Markdown and Code, press the drop-down menu and pick what you need. \n",
    "\n",
    "You can practice some of the commands below. \n"
   ]
  },
  {
   "cell_type": "code",
   "execution_count": null,
   "metadata": {
    "collapsed": true
   },
   "outputs": [],
   "source": [
    "# switch this cell to markdown \n",
    "\n",
    "## second biggest header \n",
    "\n",
    "### smaller \n",
    "\n",
    "#### even smallest"
   ]
  },
  {
   "cell_type": "markdown",
   "metadata": {},
   "source": [
    "delete this cell "
   ]
  },
  {
   "cell_type": "code",
   "execution_count": null,
   "metadata": {
    "collapsed": true
   },
   "outputs": [],
   "source": [
    "#watch what happens with the In []: during the infinite loop.\n",
    "#kill the cell you get bored...\n",
    "while True: \n",
    "    pass "
   ]
  },
  {
   "cell_type": "markdown",
   "metadata": {},
   "source": [
    "That error message is ugly. Restart the notebook (but don't run all)"
   ]
  },
  {
   "cell_type": "markdown",
   "metadata": {},
   "source": [
    "feelin' good with Markdown/Jupyter? Let's write some code .\n",
    "\n",
    "# Python/Programming Review \n",
    "\n",
    "Here I'll cover some of the basics of Python - the syntax, special stuff about the language, need-to-know errors, best practices etc. I'm assuming you remember some of the basics, so this is more of an refresher. If you need a more comprehensive review or just want to hear the topics expalined again by someone else, I highly recommend [pythonprogramming.net](https://pythonprogramming.net/introduction-to-python-programming/). The guy, Harrison, has awesome tutorials from beginning to advanced level python for everything you can image. He's actually my go-to for when I want to learn new niches of python - from him I was able to dip my feet in openCV (computer vision library), the pandas library (data analysis), web development and quantitative finance and learn enough to get me going on my own. I'm also going to copy or paraphrase some his code, examples, and explanations, so credit where credit due. \n",
    "\n",
    "### Why Python? \n",
    "\n",
    "As Harrison explains, you can do pretty much anything with Python that you can with other languages, but not vice-versa. It is the Leatherman Knife of programming languages. There are well documented libraries for computer vision, web development, move making, physics simulators, robotics, bioinformatics, artificial intelligence. You name it. All you need to do is take the basic python package and import these libraries to add these extra gadgets to your Leatherman. And more of the libraries, or modules as some call it, get created and open-sourced every day. The power of Python really comes when you leverage those libraries to create new applications. We stand on the shoulders of giants. \n",
    "\n",
    "A few technical bits about Python: it is actually a language that is written on top of C/C++. This means that it can take advantage of the efficieny of those low-level languages that work closer to the hardware, and there are actually ways to embed C code in Python. Python is still slower than C, though. When you execute Python code, it gets sent to a interpretted into C and then sent to a compiler. This compiler turns your code into 0s and 1s that a computer understands. \n",
    "\n",
    "There are broadly two types of debug errors in Python. One when the code gets compiled. This types of errors may be syntax errors if your code is not properly written. The other type is runtime errors, where your code has compiled and is being run, but then some variable or function trys to do something it can't. You may see \"ValueError\" or \"KeyError\" or something like that. We'll go more into that later, but just an FYI for now. \n",
    "\n",
    "Python syntax is pretty intuitive. I bet you can figure out what this code is going to do before you hit run. "
   ]
  },
  {
   "cell_type": "code",
   "execution_count": null,
   "metadata": {
    "collapsed": true
   },
   "outputs": [],
   "source": [
    "countries = ['the US', 'Namibia', 'Spain', 'Germany', 'The Philippenes']\n",
    "\n",
    "for country in countries: \n",
    "    print ('I have a friend in', country)"
   ]
  },
  {
   "cell_type": "markdown",
   "metadata": {},
   "source": [
    "## Printing \n",
    "\n",
    "Printing, on the face of it, looks pretty useful. You're just reporting known data to a screen (or console). But this is hugely important for debugging. When you start building big programs with multiple files, hundreds of variables etc.  you can simply print out the contents of a variable to see what you're working with, and debugging. Its easy to wrap your head around, so I'll go quick. \n",
    "\n",
    "The basic syntax for prints are print (CONTENTS). CONTENTS is what is called theh arugment of the print statement (what goes into it). It can be a string, where you would need single or double quotes, or a integer, float, or array. "
   ]
  },
  {
   "cell_type": "code",
   "execution_count": null,
   "metadata": {
    "collapsed": true
   },
   "outputs": [],
   "source": [
    "print ('single quotes')\n",
    "print (\"double quotes\")\n",
    "print (50)\n",
    "print (50.000005)\n",
    "\n",
    "# you can add the print arguments with a comma  \n",
    "print ('The milk costs $', 40)"
   ]
  },
  {
   "cell_type": "markdown",
   "metadata": {},
   "source": [
    "## Math with Python \n",
    "\n",
    "Math is syntactially pretty intuitive, but there are a few exceptions. I'll cover them below. "
   ]
  },
  {
   "cell_type": "code",
   "execution_count": null,
   "metadata": {
    "collapsed": true
   },
   "outputs": [],
   "source": [
    "#adding \n",
    "print (5+3)\n",
    "\n",
    "#subtract \n",
    "print (5-3)\n",
    "\n",
    "#multiply  \n",
    "print (5*3)\n",
    "\n",
    "#divide\n",
    "print (5/3)\n",
    "\n",
    "#power \n",
    "print (5**3)"
   ]
  },
  {
   "cell_type": "markdown",
   "metadata": {},
   "source": [
    "The divide operation converted our integer (whole numbers) to a floating point (real numbers with decimals). In some cases we may want to keep it as an integer, like when it references the index of something. In this case we use double slashes"
   ]
  },
  {
   "cell_type": "code",
   "execution_count": null,
   "metadata": {
    "collapsed": true
   },
   "outputs": [],
   "source": [
    "print (67/3)\n",
    "print (67//3)\n",
    "\n",
    "#you can also convert from floats to ints with these commands \n",
    "\n",
    "print ( int(4.5) )\n",
    "print ( float(4) )"
   ]
  },
  {
   "cell_type": "markdown",
   "metadata": {},
   "source": [
    "To use fancier math, you can access the math library. You can look through the documentation [here](https://docs.python.org/2/library/math.html) to see if there are any functions you might need. \n",
    "\n",
    "If you get this error: \n",
    "\n",
    "    ImportError: No module named 'math'\n",
    "\n",
    "that means you do not have the library installed. To install it, go to the terminal and type \"pip install math\". Pip is a python libray installer that takes care of all the dirty work of indexing and installing the files. If pip doesn't work, try pip3 install math. If that doesn't work, text me."
   ]
  },
  {
   "cell_type": "code",
   "execution_count": null,
   "metadata": {
    "collapsed": true
   },
   "outputs": [],
   "source": [
    "import math\n",
    "\n",
    "'''\n",
    "we just imported our first library! This means we can use all the functionality \n",
    "of 'math' that someone else shared with us. Also this is a multiline comment \n",
    "created with triple quotes. \n",
    "'''\n",
    "\n",
    "print (math.pi)\n",
    "print (math.cos(2.45))\n",
    "print (math.sqrt(25))"
   ]
  },
  {
   "cell_type": "markdown",
   "metadata": {},
   "source": [
    "There is another operator that is a little trickier called modulo, %. The module gets the remainder of the two numbers divided together. "
   ]
  },
  {
   "cell_type": "code",
   "execution_count": null,
   "metadata": {
    "collapsed": true
   },
   "outputs": [],
   "source": [
    "5%3"
   ]
  },
  {
   "cell_type": "markdown",
   "metadata": {},
   "source": [
    "did you know Jupyter prints out the last line of the cell if you just leave the value there? Kinda convenient in some cases! \n",
    "\n",
    "Okay a quick check to see where we're at. Try to calculate the distance between the two points (x1, y1), (x2,y2) and print the answer out.  \n",
    "\n",
    "distance formula: \n",
    "\n",
    "$\\sqrt[]{(y2-y1)^2 + (x2-x1)^2}$"
   ]
  },
  {
   "cell_type": "code",
   "execution_count": null,
   "metadata": {
    "collapsed": true
   },
   "outputs": [],
   "source": [
    "x1 = 6\n",
    "y1 = 12\n",
    "x2 = -16\n",
    "y2 = -8\n",
    "\n",
    "# your answer here"
   ]
  },
  {
   "cell_type": "markdown",
   "metadata": {},
   "source": [
    "Here's a little tougher one. Recall some old trig identities from high school. Try to prove this one using the math library. Use the angle x=45 degrees, but as a challenge, convert the angle to radians first using math.pi.\n",
    "\n",
    "$        cos^2(x) + sin^2(x)  = 1        $ "
   ]
  },
  {
   "cell_type": "code",
   "execution_count": null,
   "metadata": {
    "collapsed": true
   },
   "outputs": [],
   "source": [
    "#sometimes it helps to write psuedocode when solving a problem - an easy to read outline for problem solving \n",
    "'''\n",
    "1) convert degrees to radians \n",
    "2) find cos and sin of angle \n",
    "3) square each\n",
    "4) add \n",
    "'''\n",
    "\n",
    "#your answer here"
   ]
  },
  {
   "cell_type": "markdown",
   "metadata": {},
   "source": [
    "Finally, calulate the volume of a sphere \n",
    "\n",
    "$\\dfrac{4*\\pi*r^2}{3}$\n",
    "\n",
    "for radius': 4, 12, and 64. Once you figure out how to do it once, it should be easy to do it more times. "
   ]
  },
  {
   "cell_type": "code",
   "execution_count": null,
   "metadata": {
    "collapsed": true
   },
   "outputs": [],
   "source": [
    "#volume of 3 spheres \n",
    "#your answer here"
   ]
  },
  {
   "cell_type": "markdown",
   "metadata": {
    "collapsed": true
   },
   "source": [
    "It may seem silly to do math on here at first, but when your looping through many calcluations or repeating the same calculations in automating tasks, it helps to be able to write out equations like this. "
   ]
  },
  {
   "cell_type": "markdown",
   "metadata": {},
   "source": [
    "## Variables\n",
    "\n",
    "Variables, as you might recall, store the value of something. The same way in the math problem above where the radius could be said r=4. In programming you can change the value of a variable as it passed around the function. So you can maninpulate a variable to solve an equation, or you can set a variable as text (a string) that gets displayed on a website. \n",
    "\n",
    "A common error you might see is NameError. This is an issue at compile time and is caused when you reference a variable that hasn't been declared. If you see this, hopefully you know what it means now. "
   ]
  },
  {
   "cell_type": "code",
   "execution_count": null,
   "metadata": {
    "collapsed": true
   },
   "outputs": [],
   "source": [
    "print (new_var)"
   ]
  },
  {
   "cell_type": "markdown",
   "metadata": {},
   "source": [
    "The main data types are ints, floats, and strings. These are sort of like the atoms that make up bigger molecules in more complex programs. Ints, or integers, are whole numbers. Floats are real numbers with decimal places, and strings are text. Strings must have single of double quotes. These are represented differently in the memory of the computer which is why there is a distinction. \n",
    "\n",
    "You can check the type of a variable by using the type() function. It will return the data type. This is useful in debugging. \n",
    "\n",
    "Python is whats called a dynamically typed language. This means that you can change the datatype of a variable throughout the program. In other languages, like C, you would have to declare that some variable, X, is an int and always will be an int for this program, so the computer memory allocates that away. That is called a statically typed language. In Python, the compiler releases that memory and is able to change the datatype easily. "
   ]
  },
  {
   "cell_type": "code",
   "execution_count": null,
   "metadata": {
    "collapsed": true
   },
   "outputs": [],
   "source": [
    "a = 5\n",
    "b = 4.784\n",
    "c = \"this text is a string\"\n",
    "d = no quotes #this will give an error, add quotes to fix it\n",
    "\n",
    "e = a/b #you can reference variables within others, and do math operations as a variable \n",
    "\n",
    "print (type(a)\n",
    "       \n",
    "## TO DO: print out the value and datatypes of the rest of the variables "
   ]
  },
  {
   "cell_type": "markdown",
   "metadata": {},
   "source": [
    "Okay, we've gone through all the basic stuff so things should be more fun from here. \n",
    "\n",
    "## Loops \n",
    "\n",
    "I've been mentioning loops earlier. The two distinctive loops we have in Python logic are the \"for loop\" and the \"while loop.\" Both of them achieve very similar results, and can almost always be used interchangeably towards a goal. Many times it comes down to programmer preference or efficiency. Generally, the for loop can be more efficient than the while loop, but not always.\n",
    "\n",
    "\n",
    "### While Loop\n",
    "\n",
    "The idea of the While loop is:\n",
    "\n",
    "While something is the case, do the following block of code.\n",
    "\n",
    "Here is an example of a while loop:"
   ]
  },
  {
   "cell_type": "code",
   "execution_count": null,
   "metadata": {
    "collapsed": true
   },
   "outputs": [],
   "source": [
    "condition = 1\n",
    "\n",
    "while condition < 10:\n",
    "    print(condition)\n",
    "    condition = condition + 1 #increment the condition "
   ]
  },
  {
   "cell_type": "markdown",
   "metadata": {},
   "source": [
    "These are all the necesarry parts of a while loop. First initalize it with \"while\", then declar some condition for it to run under. This condition is generally a comparison between two values. You finish the while statement you end it with a colon (:). Next you typically do something during loop, like print a value or do an operation. Finally, you want to change the condition, so the while loop eventually stops. If you forget to do this, or if the logic is such that the condition is never met, you will get stuck in an infinite loop you won't get an error (since nothing is technically wrong), but your program won't do anything useful. You will have to manually crash your program. No fun. (interrupt, not restart will work) \n",
    "\n",
    "### Comparisons\n",
    "\n",
    "This is also a good time to introduce the different comparison objects. As you can see, there is greater than and less than, >, <. You can also do greater than/equal to, >=. To check if two values are equal, you have a double equals, ==. this is different than a single equals, =, which assigns a value to something. Finally you have not equals, !=. \n",
    "\n",
    "    == check if equal \n",
    "    != check if not equal\n",
    "    < check if less than\n",
    "    > check if greater than\n",
    "    >= check if greater than or equal \n",
    "    <= check if less than or equal \n",
    "\n",
    "### Incrementors\n",
    "\n",
    "I'll also mention a bit about incrementing. This is taking a variable, adding some value to it, but keeping the same variable name, As you saw in the above example, I incremented with \n",
    "    \n",
    "    condition = condition + 1\n",
    "    \n",
    "But ugh. This is so long to type. So Python made it easier with +=\n",
    "\n",
    "    condition += 1 #increment by 1\n",
    "    condition += 25 #increment by 25\n",
    "    \n",
    "There are also a few other things you can do with this: \n",
    "\n",
    "    a -= 2 #decrement by two \n",
    "    a *= 2 #multiply by two \n",
    "    a /= 2 #divide by two \n",
    "\n",
    "Here are some exercises. "
   ]
  },
  {
   "cell_type": "code",
   "execution_count": null,
   "metadata": {
    "collapsed": true
   },
   "outputs": [],
   "source": [
    "start = 0 \n",
    "\n",
    "while start < 100: \n",
    "    #TO DO increment start by 25 and print the result "
   ]
  },
  {
   "cell_type": "code",
   "execution_count": null,
   "metadata": {
    "collapsed": true
   },
   "outputs": [],
   "source": [
    "start = 256\n",
    "\n",
    "while start < 2: \n",
    "    #TO DO decrement start and print \n",
    "    # it such that you see each power of two (2^8 = 256, show 2^7, 2^6 ... )"
   ]
  },
  {
   "cell_type": "code",
   "execution_count": null,
   "metadata": {
    "collapsed": true
   },
   "outputs": [],
   "source": [
    "#run this cell and read the error messages, fix whats wrong until it works \n",
    "#the program should decrement by 50 and print the result, and not get stuck in an infinite loop ;) \n",
    "a = 100 \n",
    "while a > -100\n",
    "    print a\n",
    "    a -- 50 "
   ]
  },
  {
   "cell_type": "markdown",
   "metadata": {},
   "source": [
    "### For Loops \n",
    "\n",
    "For loops are super similar to while loops. The basic strucutre of iterating through a condition and doing something at each iteration remains the same. What is different, is that the condition is no longer an equality expression. Instead you will be iterating through a set of items. Typically, you will see the while loop being used for finite tasks that have predetermined length, and the for loop being used for tasks that have uncertain and variable time-frames.\n",
    "\n",
    "That said, the for loop can be used for the exact same tasks as the while loop. I prefer the for loop, and you will see more people use the for loop unless a while is necessary. Its good to get used to sharing the same methodologies as other programmers so you can easily share code, help eachother debug on Stackoverflow or Github, and work easily with people if its your job. \n",
    "\n",
    "Here is the basic syntax of the for loop: "
   ]
  },
  {
   "cell_type": "code",
   "execution_count": null,
   "metadata": {
    "collapsed": true
   },
   "outputs": [],
   "source": [
    "exampleList = [1,5,6,6,2,1,5,2,1,4]\n",
    "\n",
    "for x in exampleList:\n",
    "    print(x)"
   ]
  },
  {
   "cell_type": "markdown",
   "metadata": {},
   "source": [
    "As you can see, its quite similar to the while loop. The colon is still necessary at the end. X is a variable that is created when the loop is initialized by Python's compiler, so you don't need to pre-declare this. The value of X is then changed throughout each iteration. One important note (again, a tip no one told me till I had to figure it out myself), is that the value of X is kept after the last iteration. If you use another variable earlier in the code, then you just overwrote it. Also if you have loops nested within eachother, having the same iterator, X, will cause issues, but not throw error messages. So try and use different iterator names (i, j, k) are popular ones, or better yet, iterator names that are more descriptive than a single letter. Ex.: "
   ]
  },
  {
   "cell_type": "code",
   "execution_count": null,
   "metadata": {
    "collapsed": true
   },
   "outputs": [],
   "source": [
    "names = ['Elton John', 'Bob Dylan', 'Cat Stevens', 'Beyonce']\n",
    "\n",
    "for name in names: \n",
    "    print (name, 'is awesome')"
   ]
  },
  {
   "cell_type": "markdown",
   "metadata": {},
   "source": [
    "There are a few new functions that will be useful to use with for loops: \n",
    "\n",
    "### Lists \n",
    "\n",
    "A list is exactly what is sounds like - a list of items. The items can be integers, strings, floats, or even more complex objects. For now just know that an object is an item that has properties. An object dog has properties shaggy, blonde, cute etc.. A list of musicians was created above.\n",
    "\n",
    "You can increment over each item in a list. You can also reference any item in the list with its index. Above, Elton John has index 0, Bob index 1, Cat Stevens index 2, and Beyonce index 3. Indexing in Python always starts at 0. \n",
    "\n",
    "A common error is \n",
    "\n",
    "    IndexError: list index out of range\n",
    "    \n",
    "Which, as you can imagine, means that you are trying to access an index that is larger than the length of your list. "
   ]
  },
  {
   "cell_type": "code",
   "execution_count": null,
   "metadata": {
    "collapsed": true
   },
   "outputs": [],
   "source": [
    "#grab the 5th index in a phone number \n",
    "phone_number = [8, 6, 7, 5, 3, 0, 9]\n",
    "phone_number[4]"
   ]
  },
  {
   "cell_type": "code",
   "execution_count": null,
   "metadata": {
    "collapsed": true
   },
   "outputs": [],
   "source": [
    "#TO DO: print out the names list in reverse order using indexing \n"
   ]
  },
  {
   "cell_type": "markdown",
   "metadata": {},
   "source": [
    "You can add to an existing list using the append method. "
   ]
  },
  {
   "cell_type": "code",
   "execution_count": null,
   "metadata": {
    "collapsed": true
   },
   "outputs": [],
   "source": [
    "l = [1, 2, 3, 4, 5]\n",
    "l.append(6)\n",
    "l"
   ]
  },
  {
   "cell_type": "markdown",
   "metadata": {},
   "source": [
    "### Len \n",
    "\n",
    "This returns the length of a list. "
   ]
  },
  {
   "cell_type": "code",
   "execution_count": null,
   "metadata": {
    "collapsed": true
   },
   "outputs": [],
   "source": [
    "names = ['Elton John', 'Bob Dylan', 'Cat Stevens', 'Beyonce']\n",
    "\n",
    "len(names)"
   ]
  },
  {
   "cell_type": "markdown",
   "metadata": {},
   "source": [
    "### Range \n",
    "\n",
    "Range creates an object that you can increment over. It is like a list, but you cannot reference it through indexing. But it is nice because you can create a list-like object super easily and iterate over it. \n",
    "\n",
    "It takes in up to 3 values: start, stop, and step. So\n",
    "\n",
    "    range (0, 10, 1)\n",
    "    \n",
    "will return an an object with values [0, 1, 2, 3, 4, 5, 6, 7, 8, 9]. "
   ]
  },
  {
   "cell_type": "code",
   "execution_count": null,
   "metadata": {
    "collapsed": true
   },
   "outputs": [],
   "source": [
    "for x in range(10, 20, 1):\n",
    "    print (x)"
   ]
  },
  {
   "cell_type": "markdown",
   "metadata": {},
   "source": [
    "You can also give it just one value, and it will assume that start=0, stop=given value, and step = 1. "
   ]
  },
  {
   "cell_type": "code",
   "execution_count": null,
   "metadata": {
    "collapsed": true
   },
   "outputs": [],
   "source": [
    "for x in range(10):\n",
    "    print (x)"
   ]
  },
  {
   "cell_type": "markdown",
   "metadata": {},
   "source": [
    "Can you imagine how range might be super useful? If we have a list of some arbitrary length, we can take the len() of it to get the length, then take the range of that to create a iterable. This iterable will be a list of indexes of the original list! Let's see what that looks like. In the example below, feel free to print on the values like length, iterable, and index to peer into the program to see what it is doing under the hood. "
   ]
  },
  {
   "cell_type": "code",
   "execution_count": null,
   "metadata": {
    "collapsed": true
   },
   "outputs": [],
   "source": [
    "names = ['Elton John', 'Bob Dylan', 'Cat Stevens', 'Beyonce', 'John Lengend', 'Jimmy Hendrix', 'David Bowie']\n",
    "\n",
    "length = len(names)\n",
    "iterable = range(length)\n",
    "\n",
    "for index in iterable: \n",
    "    print ('musician', index, 'is', names[index])"
   ]
  },
  {
   "cell_type": "markdown",
   "metadata": {},
   "source": [
    "Ok, here are a couple exerecises for you to try/debug. "
   ]
  },
  {
   "cell_type": "code",
   "execution_count": null,
   "metadata": {
    "collapsed": true
   },
   "outputs": [],
   "source": [
    "#TO DO: create a list that is your phone number, loop over it, and add up each number. Print out the result\n",
    "\n"
   ]
  },
  {
   "cell_type": "code",
   "execution_count": null,
   "metadata": {
    "collapsed": true
   },
   "outputs": [],
   "source": [
    "# TO DO: sum all the numbers from 0 to 100 \n",
    "#hint - create a range object 0 to 100 to iterate through, and have a second value that is the running total \n",
    "#you should end up with 4950\n",
    "    "
   ]
  },
  {
   "cell_type": "code",
   "execution_count": null,
   "metadata": {
    "collapsed": true
   },
   "outputs": [],
   "source": [
    "# challenge question \n",
    "'''\n",
    "create 2 lists: one of all your family members, another of all their birthdays (in the same order)\n",
    "iterate through the length of the lists and print out the name and corresponding birthday \n",
    "ex. \"Bob's birthday is June 1st 1999 ...\"\n",
    "you'll want to make use of indexing \n",
    "'''\n",
    "\n"
   ]
  },
  {
   "cell_type": "markdown",
   "metadata": {},
   "source": [
    "## if/else/elif logic\n",
    "\n",
    "In addition to loops another cornerstone of programming is if/else logic. The if statement is one of the most basic forms of logic that can be introduced into your program. The idea of the if statement is to assess whether something is the case, and, if it is, then to perform the following block of code within the statement. Here's an example. "
   ]
  },
  {
   "cell_type": "code",
   "execution_count": null,
   "metadata": {
    "collapsed": true
   },
   "outputs": [],
   "source": [
    "x = 5\n",
    "y = 10\n",
    "\n",
    "if x > y:\n",
    "    print('x is greater than y')"
   ]
  },
  {
   "cell_type": "markdown",
   "metadata": {},
   "source": [
    "Nothing happened. Can you guess why? Its pretty intuitive, so change the values of x and y so that it works. \n",
    "\n",
    "If else logic can be used in while loops for stop conditions. They can also be used in basic decision making for presenting information. The If-Else statement is designed to build on the if statement's logic. Here, we ask if something is the case, and, if it is we do something. Then we say otherwise, which is contingent on the previous if statement, do something else. If the previous if statement is true, then the else will not run. If the if statement is false, then the else statement will run. "
   ]
  },
  {
   "cell_type": "code",
   "execution_count": null,
   "metadata": {
    "collapsed": true
   },
   "outputs": [],
   "source": [
    "x = 5\n",
    "\n",
    "if x > 55:\n",
    "    print('x is greater than 55')\n",
    "else:\n",
    "    print('x is not greater than 55')"
   ]
  },
  {
   "cell_type": "markdown",
   "metadata": {},
   "source": [
    "It is important to note that the else statement only applies to the most recent if statement. You can stack multiple if statements, but the else statement will only be contingent on the if statement that is right above it. So you can only have one if and one else per statement. Now we bring the in \"elif\" statement. The elif allows us to tie multiple if statements together as we might have intended to before with multiple if statements before we learned that the else will only be contingent on the if statement above it.\n",
    "\n",
    "The \"elif\" statement is a hybrid of the else and the if. The way it works is:\n",
    "\n",
    "We ask if something is the case. If it is, then the elif and the else will not run. If it is not, then the elif will run and question the if statement. If it is True, then it will run and the else will not run. If it is not true, then the else statement will run. Here's an example:"
   ]
  },
  {
   "cell_type": "code",
   "execution_count": null,
   "metadata": {
    "collapsed": true
   },
   "outputs": [],
   "source": [
    "x = 5\n",
    "y = 10\n",
    "z = 22\n",
    "\n",
    "if x > y:\n",
    "    print('x is greater than y')\n",
    "elif x < z:\n",
    "    print('x is less than z')\n",
    "else:\n",
    "    print('if and elif never ran...')"
   ]
  },
  {
   "cell_type": "code",
   "execution_count": null,
   "metadata": {
    "collapsed": true
   },
   "outputs": [],
   "source": [
    "## TO DO\n",
    "'''\n",
    "copy your list of family names and birthdays from above and place it here. \n",
    "iterate through the family names again, this time only printing the names and bdays \n",
    "if the person is a parent \n",
    "''';\n",
    "\n",
    "#your answer here"
   ]
  },
  {
   "cell_type": "markdown",
   "metadata": {},
   "source": [
    "So far we've only done little toy exercises. Lets do something more practical now. I downloaded a genome sequence from the UCSC Genome Browser (go Slugs!) and saved it as genome.txt. It contains the raw genome sequence of an organism in GTCA's. I just took a section so it was a management file size to download. \n",
    "\n",
    "Below I went and opened the file and iterated through the file to create a list of all the nucleotides. I initialized it by creating an empty list []. Note that the [:-2] is a form of indexing to grab everything (:) up until the last two charactersYou can read more about those methods [here](https://www.tutorialspoint.com/python/python_lists.htm). Append adds the new rows to the list, and .lower() makes the string all lowercase. Next I used this [this guy's](https://stackoverflow.com/questions/4481724/convert-a-list-of-characters-into-a-string) to flatten the list of strings into one big one. This is nice because we can iterate through the charcters in a string the same way we do a list. \n",
    "\n",
    "Your task is going to be to count up all the unique nucleotides in the genome list. You should print out the result as how many of each of the four nucleotides you got. I'll help you a little bit along the way. "
   ]
  },
  {
   "cell_type": "code",
   "execution_count": null,
   "metadata": {},
   "outputs": [],
   "source": [
    "## DONT MODIFY THIS CELL ## \n",
    "file = open('files/chr6.txt')\n",
    "genome = []\n",
    "for row in file: \n",
    "    genome.append(row.lower()[:-2])\n",
    "genome =  ''.join(genome)\n",
    "\n",
    "#print first 500 nucleotides \n",
    "print (genome[:500])"
   ]
  },
  {
   "cell_type": "code",
   "execution_count": null,
   "metadata": {
    "collapsed": true
   },
   "outputs": [],
   "source": [
    "#iterate and print the first 5 nucleotides \n",
    "for nuc in genome[:5]:\n",
    "    print (nuc)"
   ]
  },
  {
   "cell_type": "markdown",
   "metadata": {},
   "source": [
    "First, it will be useful to figure out how many nucleotides you have - the lenth. You can use this to check that the nucleotides are distributed how you imagine they might be. "
   ]
  },
  {
   "cell_type": "code",
   "execution_count": null,
   "metadata": {
    "collapsed": true
   },
   "outputs": [],
   "source": [
    "#TO DO: get the length of the genome\n"
   ]
  },
  {
   "cell_type": "markdown",
   "metadata": {},
   "source": [
    "Heres some psuedocode to help you get started on the counting task. \n",
    "    \n",
    "    1) create a counter for each nucleotide, GTCA, and initialize each to 0 \n",
    "    2) iterate through the genome \n",
    "    3) do an if/elif/else check to see what the nucleotide of the current iteration is  \n",
    "    4) depending on the type, increment that nucleotides counter \n",
    "    5) after the end of the loop, print your results "
   ]
  },
  {
   "cell_type": "code",
   "execution_count": null,
   "metadata": {
    "collapsed": true
   },
   "outputs": [],
   "source": [
    "## your answer here \n"
   ]
  },
  {
   "cell_type": "markdown",
   "metadata": {},
   "source": [
    "Double check your results. If you sum up the GTCA counts, do you get the same as the length of the total genome? \n",
    "\n",
    "Since you now have the sum of all your counts. It may be interesting to see the distributions of each nucletide. Calculate the percentages of each one below. "
   ]
  },
  {
   "cell_type": "code",
   "execution_count": null,
   "metadata": {
    "collapsed": true
   },
   "outputs": [],
   "source": [
    "# TO DO: calculate percentages of each nucleotide \n"
   ]
  },
  {
   "cell_type": "markdown",
   "metadata": {},
   "source": [
    "Did you know that Excel sucks? Okay, kinda harsh, but once you start learning how to manipulate tabular data and work with some of the plotting libraries in Python, you'll never go back. Here's a quick example with what you've done so far. If you don't have matplotlib or Anaconda installed, type the following into your terminal: \n",
    "        \n",
    "        pip install matplotlib \n",
    "        "
   ]
  },
  {
   "cell_type": "code",
   "execution_count": null,
   "metadata": {
    "collapsed": true
   },
   "outputs": [],
   "source": [
    "#TO DO: create a list of your four counters in the order G,T,C,A below \n",
    "counter_list = []\n",
    "\n",
    "##DO NOT MODIFY BELOW THIS COMMENT##\n",
    "import matplotlib.pyplot as plt \n",
    "\n",
    "x = range(4)\n",
    "plt.bar(x, counter_list, width=0.3)\n",
    "labels = ['G', 'T', 'C','A']\n",
    "plt.xticks(x, labels)\n",
    "plt.ylabel('Counts')\n",
    "plt.xlabel('Nucleotides')\n",
    "plt.show()"
   ]
  },
  {
   "cell_type": "markdown",
   "metadata": {},
   "source": [
    "## Wrapping up\n",
    "\n",
    "If you've gotten to here, congratulations! You've made quite a bit of progress so far. I'd say you understand a solid 70% of the fundementals. The rest is just putting things together in creative and useful ways. If you were learning chemistry, its comparable now that you understand the periodic table, how atoms and molecules work together, and the different states of matter. The next steps are just understanding how to use those basic, first principles to create more complex things. \n",
    "\n",
    "Next up would be to learn how functions work, how to read and write files, more on objects and classes, and finally using the unique libraries in functions to do more specialized tasks. As I said earlier, you can get a head start on that at [pythonprogramming.net](https://pythonprogramming.net/python-fundamental-tutorials/). \n",
    "\n",
    "Onwards! "
   ]
  }
 ],
 "metadata": {
  "kernelspec": {
   "display_name": "Python 3",
   "language": "python",
   "name": "python3"
  },
  "language_info": {
   "codemirror_mode": {
    "name": "ipython",
    "version": 3
   },
   "file_extension": ".py",
   "mimetype": "text/x-python",
   "name": "python",
   "nbconvert_exporter": "python",
   "pygments_lexer": "ipython3",
   "version": "3.5.2"
  },
  "widgets": {
   "state": {},
   "version": "1.1.2"
  }
 },
 "nbformat": 4,
 "nbformat_minor": 2
}
