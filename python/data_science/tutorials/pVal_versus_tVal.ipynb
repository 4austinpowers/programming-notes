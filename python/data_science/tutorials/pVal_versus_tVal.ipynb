{
 "cells": [
  {
   "cell_type": "markdown",
   "metadata": {},
   "source": [
    "# P-values vs. T-values \n",
    "\n",
    "If you've run a t-test before, you might have wondered what about the difference between p-values and t-values. The vague names of the statistics don't tell us much about what they represent or where they come from. Those from a science field might have heard of the importnace of $p<0.5$ interpreting your results. Are t -values even important, then? Are they related? The answer to both is yes. \n",
    "\n",
    "P-values and t-values are inextricably linked, but very distinguishable. When you run a simple t-test you're usually trying to find evidence of a significant difference between two datasets. For example, suppose, that you want to test the hypothesis that the average height of males at your workplace is taller than the average height of people from your hometown. You collect heights of 200 employees and 200 residents, selected at random, and calculate that the sample mean is 5ft. 10 inches vs 6ft. But that difference is not statistically significant on its own; it could easily just be random chance that a couple people you randomly sampled from work make it seem like city-folk are short. You need statistical rigor to figure out much of the data your model explains. This is what t and p-values both measure. \n",
    "\n",
    "Let's build a python model to explain this. "
   ]
  },
  {
   "cell_type": "code",
   "execution_count": 1,
   "metadata": {
    "collapsed": false
   },
   "outputs": [
    {
     "data": {
      "image/png": "[encoded data removed]",
      "text/plain": [
       "<matplotlib.figure.Figure at 0x90b7278>"
      ]
     },
     "metadata": {},
     "output_type": "display_data"
    }
   ],
   "source": [
    "import numpy as np  \n",
    "from scipy.stats import ttest_ind\n",
    "import matplotlib.pyplot as plt\n",
    "import matplotlib.patches as mpatches\n",
    "%matplotlib inline\n",
    "\n",
    "#two populations: \n",
    "np.random.seed(1) #ensure we get the same results every time \n",
    "y1 = np.random.normal(5.8, .7, 200) #normally distributed data centered on 5.8ft, variance of .7ft, 200 samples\n",
    "y2 = np.random.normal(6.0, .7, 200) #normally distributed data centered on 6ft, variance of .7ft, 200 samples\n",
    "\n",
    "#plot histograms of data \n",
    "fig = plt.figure(figsize=(10, 5))\n",
    "ax1 = fig.add_subplot(1,1,1)\n",
    "ax1.hist(y1, bins=15)\n",
    "ax1.hist(y2, bins=15)\n",
    "\n",
    "plt.ylabel('frequency');\n",
    "plt.xlabel('height');\n",
    "b_patch = mpatches.Patch(color='blue', label='hometown heights');\n",
    "r_patch = mpatches.Patch(color='orange', label='workplace heights');\n",
    "plt.legend(handles=[b_patch, r_patch])\n",
    "plt.show()"
   ]
  },
  {
   "cell_type": "code",
   "execution_count": 2,
   "metadata": {
    "collapsed": false
   },
   "outputs": [
    {
     "name": "stdout",
     "output_type": "stream",
     "text": [
      "t_test results:\n",
      "t-value -1.77830037658\n",
      "p-value 0.0761178586726\n"
     ]
    }
   ],
   "source": [
    "#run t-test, compute p and t values \n",
    "t_val, p_val = ttest_ind(y1, y2)\n",
    "print 't_test results:'\n",
    "print 't-value', t_val\n",
    "print 'p-value', p_val"
   ]
  },
  {
   "cell_type": "markdown",
   "metadata": {},
   "source": [
    "Above we run scipy's t-test to compare our two populations of heights. We are looking for a t-value and p-value that indicate that our populations are significantly different. \n",
    "\n",
    "The t-value measures the size of the difference between the two populations relative to the variation in the data. Put another way, T is the calculated difference represented in units of standard error. \n",
    "\n",
    "$$ t=\\frac{\\bar{x}-\\mu_0} {SE_\\bar{x}} =\\frac{difference_{populations}}{variation} $$\n",
    "\n",
    "Where $\\bar{x}$ is the sample mean, $\\mu$ is the population mean and $SE_\\bar{x}$ is the standard error.\n",
    "\n",
    "The greater the magnitude of T (either positive or negative), the greater the evidence against the null hypothesis that there is no significant difference in the heights of city and townfolks. The closer T is to 0, the more likely there isn't a significant difference. As you can see, the magnitude of the difference and/or the magnitude of the error will ultimately drive these changes. The t-statistic alone is difficult to interpret, because it extends to $+/- \\infty$. Scaling this value will address this issue. \n",
    "\n",
    "We can use a t-distribution to solve this. You might generate a chart like this, which represents the frequency distribution of the spectrum of t-values. \n",
    "\n",
    "<img src='../files/t_dist.png' width='350'>\n",
    "\n",
    "The shaded region represents the probability of obtaining a t-value of 1.77 or greater. Imagine a magical dart that could be thrown to land randomly anywhere under the distribution curve. What's the chance it would land in the shaded region, after our t-value? The calculated probability is  0.076. This is our p-value! \n",
    "\n",
    "Recall that a probability can only be between 0-1, so our t-value has effectively been scaled. A p-value near 0, say 0.05, means that only 5% of the difference in our datasets can be attributed to random chance. The other 95% is because of some feature in our data.The smaller the magnitude of $p$, the greater the evidence against the null hypothesis that there is no significant difference in the heights of city and townfolks. Typically we use this cutoff of $p < 0.05$ for significance. In practice you can derive the p-value from the t-value by looking it up a t-table, but python will calculate it automatically. \n",
    "\n",
    "## To recap: \n",
    "\n",
    "The t-value and p-value are inextricably linked, and inversely related. The t-value extends from to $+/- \\infty$, while the p-value is a probability bound from 0-1. As the absolute value of the t-value  grows, the p-value shrinks, and the greater the evidence against the null hypothesis. A cutoff of $p < 0.05$ is used to declare statistical significance. If this is the case, it does not necessarily mean that your hypothesis is true. It just means that the null hypothesis is not true; that the idea that there is no difference in your datasets is not true. \n",
    "\n",
    "Though this is not very straightforward, it ultimately guides the scientific process - which consists of creating a hypothesis and running tests to disprove it. If you cannot disprove your hypothesis, you may have found a truth. Statisitcs, science, and findings truths is difficult, and it is in this rigor that the scientific process should be admired. \n",
    "\n",
    "-----------------------------------------------------------------------------------------\n",
    "\n",
    "## Further Reading  \n",
    "\n",
    "*[Another great explanation on t-tests](https://blog.minitab.com/blog/statistics-and-quality-data-analysis/what-are-t-values-and-p-values-in-statistics)\n",
    "    \n",
    "*[Which statistical test to use?](https://fhssrsc.byu.edu/SitePages/ANOVA,%20t-tests,%20Regression,%20and%20Chi%20Square.aspx)"
   ]
  },
  {
   "cell_type": "code",
   "execution_count": null,
   "metadata": {
    "collapsed": true
   },
   "outputs": [],
   "source": []
  }
 ],
 "metadata": {
  "kernelspec": {
   "display_name": "Python 2",
   "language": "python",
   "name": "python2"
  },
  "language_info": {
   "codemirror_mode": {
    "name": "ipython",
    "version": 2
   },
   "file_extension": ".py",
   "mimetype": "text/x-python",
   "name": "python",
   "nbconvert_exporter": "python",
   "pygments_lexer": "ipython2",
   "version": "2.7.13"
  }
 },
 "nbformat": 4,
 "nbformat_minor": 2
}
