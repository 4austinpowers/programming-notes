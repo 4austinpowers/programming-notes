{
 "cells": [
  {
   "cell_type": "markdown",
   "metadata": {},
   "source": [
    "## Functions \n",
    "\n",
    "A function is a piece of code you can write that makes your code modular and reusable. Often there is some operation we may want to use many times, and rewriting the code is a pain and messy. No bueno. By using functions, keep our code clean and easier to maintain. \n",
    "\n",
    "We've actually used functions before, like std::cout. A function simply performs an operation. It can take inputs and return an output, but these are optional. As with variables, we must specify the type of the output we want (even if it is none). We must define the function once, and then call it when we need to use it. \n",
    "\n",
    "Lets see an example. "
   ]
  },
  {
   "cell_type": "code",
   "execution_count": 1,
   "metadata": {},
   "outputs": [
    {
     "name": "stdout",
     "output_type": "stream",
     "text": [
      "(int) 10\n"
     ]
    }
   ],
   "source": [
    "//define the function \n",
    "int add(int a, int b)\n",
    "{\n",
    "    int sum = a+b; \n",
    "    return sum; \n",
    "}\n",
    "\n",
    "//call the function \n",
    "int test = add(3, 7); \n",
    "test"
   ]
  },
  {
   "cell_type": "markdown",
   "metadata": {},
   "source": [
    "So what happened here? First we declared the function 'add'. We specified the return type, int. The we wrote the function name, add parenthesis, and in the parenthesis we specified the inputs (if any). We followed up with curly brackets which specify the scope of the function; where we perform the operation. Anything happening inside the scope is local to the function, not global to the whole program. Finally we return the output, which is an int as we specified. \n",
    "\n",
    "To call the function, we specified a variable, test, where we want to store the output of the add function. We wrote the function name, add, then put in to arugments to the function that we want to add. "
   ]
  },
  {
   "cell_type": "code",
   "execution_count": null,
   "metadata": {
    "collapsed": true
   },
   "outputs": [],
   "source": []
  }
 ],
 "metadata": {
  "kernelspec": {
   "display_name": "xeus C++14",
   "language": "",
   "name": "xeus-cling-cpp14"
  },
  "language_info": {
   "codemirror_mode": "text/x-c++src",
   "file_extension": ".cpp",
   "mimetype": "text/x-c++src",
   "name": "c++",
   "version": ""
  }
 },
 "nbformat": 4,
 "nbformat_minor": 2
}
