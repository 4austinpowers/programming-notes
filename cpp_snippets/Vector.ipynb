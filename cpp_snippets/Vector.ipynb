{
 "cells": [
  {
   "cell_type": "markdown",
   "metadata": {},
   "source": [
    "## Vector\n",
    "\n",
    "Vector is essentially an array. Unlike array, it can dynamically resize, which is very useful. What happens is that when you exceed your space in memory, the vector actually copies itself to a larger vector and deletes the old one, which can be... less than optimal. But its still useful. "
   ]
  },
  {
   "cell_type": "code",
   "execution_count": 1,
   "metadata": {},
   "outputs": [],
   "source": [
    "#include <vector>\n",
    "#include <iostream>\n",
    "\n",
    "std::vector<int> verticies; "
   ]
  },
  {
   "cell_type": "code",
   "execution_count": 2,
   "metadata": {},
   "outputs": [],
   "source": [
    "//append a data point \n",
    "verticies.push_back(0);\n",
    "verticies.push_back(4);\n",
    "verticies.push_back(5);"
   ]
  },
  {
   "cell_type": "code",
   "execution_count": 3,
   "metadata": {},
   "outputs": [
    {
     "name": "stdout",
     "output_type": "stream",
     "text": [
      "(std::vector<int> &) { 0, 4, 5 }\n"
     ]
    }
   ],
   "source": [
    "verticies"
   ]
  },
  {
   "cell_type": "code",
   "execution_count": 4,
   "metadata": {},
   "outputs": [
    {
     "name": "stdout",
     "output_type": "stream",
     "text": [
      "0\n",
      "4\n",
      "5\n"
     ]
    }
   ],
   "source": [
    "for (int i=0; i<verticies.size(); i++)\n",
    "{\n",
    "    std::cout << verticies[i] << std::endl; \n",
    "}"
   ]
  },
  {
   "cell_type": "code",
   "execution_count": 6,
   "metadata": {},
   "outputs": [
    {
     "name": "stdout",
     "output_type": "stream",
     "text": [
      "0\n",
      "4\n",
      "5\n"
     ]
    }
   ],
   "source": [
    "//simpler\n",
    "for (int& i : verticies )\n",
    "{\n",
    "    std::cout << i << std::endl; \n",
    "}"
   ]
  },
  {
   "cell_type": "code",
   "execution_count": 7,
   "metadata": {},
   "outputs": [
    {
     "name": "stdout",
     "output_type": "stream",
     "text": [
      "(std::vector<int, std::allocator<int> >::iterator) @0x55ce530\n"
     ]
    }
   ],
   "source": [
    "//remove an element \n",
    "//takes in an iterator, so you must use .begin\n",
    "verticies.erase(verticies.begin() + 1)"
   ]
  },
  {
   "cell_type": "code",
   "execution_count": 8,
   "metadata": {},
   "outputs": [
    {
     "name": "stdout",
     "output_type": "stream",
     "text": [
      "(std::vector<int> &) { 0, 5 }\n"
     ]
    }
   ],
   "source": [
    "verticies"
   ]
  },
  {
   "cell_type": "markdown",
   "metadata": {},
   "source": [
    "## Optimizing Vector \n",
    "\n",
    "C++ is chosen for optimization, and for optimization you need to understand what is slow and why. For the vector standard class, we need to avoid copying and reallocting memory when doing dynamic resizing. Here I will build a Vertex class with a constructor that will tell us when the data is copied, to tag inefficiencies."
   ]
  },
  {
   "cell_type": "code",
   "execution_count": 11,
   "metadata": {},
   "outputs": [],
   "source": [
    "struct Vertex \n",
    "{\n",
    "    float x, y, z; \n",
    "    Vertex(float x, float y, float z)\n",
    "        : x(x), y(y), z(z)\n",
    "        {}\n",
    "    \n",
    "    //copy constructor \n",
    "    Vertex(const Vertex& vertex)\n",
    "        : x(vertex.x), y(vertex.y), z(vertex.z)\n",
    "        {\n",
    "            std::cout << \"copied\" << std::endl;\n",
    "        }\n",
    "};"
   ]
  },
  {
   "cell_type": "code",
   "execution_count": 13,
   "metadata": {},
   "outputs": [
    {
     "name": "stdout",
     "output_type": "stream",
     "text": [
      "copied\n",
      "copied\n",
      "copied\n",
      "copied\n",
      "copied\n",
      "copied\n"
     ]
    }
   ],
   "source": [
    "std::vector<Vertex> v; \n",
    "v.push_back({1, 2, 3});\n",
    "v.push_back({4, 5, 6});\n",
    "v.push_back({7, 8, 9});"
   ]
  },
  {
   "cell_type": "markdown",
   "metadata": {},
   "source": [
    "Wow! Six copies! This is happening for a variety of reasons. The primary is that the vector class is initialized to a size that is too small, and so needs to get dynamically resized to fit the larger data strucutre. The way to solve this is to manually tell the vertex constructor at instantiation how big we expect our vector to be. This is *not* the same as passing 3 into the construtor, this will construct 3 Vertex objects; we just want to preallocate the memory. "
   ]
  },
  {
   "cell_type": "code",
   "execution_count": 14,
   "metadata": {},
   "outputs": [
    {
     "name": "stdout",
     "output_type": "stream",
     "text": [
      "copied\n",
      "copied\n",
      "copied\n"
     ]
    }
   ],
   "source": [
    "std::vector<Vertex> v2; \n",
    "//explicitly preallocate the size \n",
    "v2.reserve(3); \n",
    "\n",
    "v2.push_back({1, 2, 3});\n",
    "v2.push_back({4, 5, 6});\n",
    "v2.push_back({7, 8, 9});"
   ]
  },
  {
   "cell_type": "markdown",
   "metadata": {},
   "source": [
    "Down to 3! Not bad. But we can do better! \n",
    "    \n",
    "These 3 are caused since each vertex is constructed and then copied into the vector. We can solve this with `emplace_back`, instead of `push_back`, which performs construction in-place. "
   ]
  },
  {
   "cell_type": "code",
   "execution_count": 15,
   "metadata": {},
   "outputs": [],
   "source": [
    "std::vector<Vertex> v3; \n",
    "//explicitly preallocate the size \n",
    "v3.reserve(3); \n",
    "\n",
    "v3.emplace_back(1, 2, 3);\n",
    "v3.emplace_back(4, 5, 6);\n",
    "v3.emplace_back(7, 8, 9);"
   ]
  },
  {
   "cell_type": "markdown",
   "metadata": {},
   "source": [
    "Clean as a whistle! Nice. And this was all accomplished just be knowing the environment and being aware of the ineffiencies of copying. "
   ]
  }
 ],
 "metadata": {
  "kernelspec": {
   "display_name": "xeus C++14",
   "language": "",
   "name": "xeus-cling-cpp14"
  },
  "language_info": {
   "codemirror_mode": "text/x-c++src",
   "file_extension": ".cpp",
   "mimetype": "text/x-c++src",
   "name": "c++",
   "version": ""
  }
 },
 "nbformat": 4,
 "nbformat_minor": 2
}
