{
 "cells": [
  {
   "cell_type": "markdown",
   "metadata": {},
   "source": [
    "## Multiple Return Types \n",
    "\n",
    "Generally in C++, you can only return one type per function, which can be limiting. Specifically, in can only return one variable, so if we need to return and `int` and a `string`, we're in trouble. \n",
    "\n",
    "#### Arrays \n",
    "\n",
    "If you need to return multiple variables of the same return type, one solution is to return an array, in the form of a heap allocated pointer. "
   ]
  },
  {
   "cell_type": "code",
   "execution_count": 1,
   "metadata": {},
   "outputs": [],
   "source": [
    "#include <string>\n",
    "#include <iostream>\n",
    "\n",
    "std::string* strArray()\n",
    "{\n",
    "    std::string a = \"string 1\";\n",
    "    std::string b = \"string 2\";\n",
    "    std::string c = \"string 3\";\n",
    "    \n",
    "    //must specify size \n",
    "    return new std::string[3]{a, b, c};\n",
    "}\n",
    "\n",
    "//this is a pointer! \n",
    "std::string* arr = strArray();"
   ]
  },
  {
   "cell_type": "code",
   "execution_count": 2,
   "metadata": {},
   "outputs": [
    {
     "name": "stdout",
     "output_type": "stream",
     "text": [
      "string 1\n",
      "string 2\n",
      "string 3\n"
     ]
    }
   ],
   "source": [
    "for (int i = 0; i < 3; i++)\n",
    "{\n",
    "    std::cout << arr[i] << std::endl;\n",
    "}"
   ]
  },
  {
   "cell_type": "markdown",
   "metadata": {},
   "source": [
    "However, wit this this method we do not know how large the output is, since all we get is a pointer. \n",
    "\n",
    "#### Tuple\n",
    "\n",
    "A tuple is a class that can store X variables, and does not care about the types. It is in the standard library. "
   ]
  },
  {
   "cell_type": "code",
   "execution_count": 3,
   "metadata": {},
   "outputs": [],
   "source": [
    "#include <utility>\n",
    "#include <tuple>"
   ]
  },
  {
   "cell_type": "code",
   "execution_count": 4,
   "metadata": {},
   "outputs": [
    {
     "name": "stderr",
     "output_type": "stream",
     "text": [
      "input_line_11:3:1: error: function definition is not allowed here\n",
      "{\n",
      "^\n"
     ]
    }
   ],
   "source": [
    "std::tuple<std::string, int> testTuple()\n",
    "{\n",
    "    std::string s = \"string\"; \n",
    "    int i = 0; \n",
    "    return std::make_pair(s, i); \n",
    "}"
   ]
  },
  {
   "cell_type": "code",
   "execution_count": 5,
   "metadata": {},
   "outputs": [
    {
     "name": "stderr",
     "output_type": "stream",
     "text": [
      "input_line_12:3:37: error: use of undeclared identifier 'testTuple'\n",
      "std::tuple<std::string, int> out  = testTuple();\n",
      "                                    ^\n",
      "input_line_12:4:13: error: use of undeclared identifier 'testTuple'\n",
      "auto out2 = testTuple(); //easier \n",
      "            ^\n",
      "input_line_12:5:13: error: expected unqualified-id\n",
      "std::string = first std::get<0>(out); //access the first data member\n",
      "            ^\n"
     ]
    }
   ],
   "source": [
    "//to access the data \n",
    "\n",
    "std::tuple<std::string, int> out  = testTuple();\n",
    "auto out2 = testTuple(); //easier \n",
    "\n",
    "std::string = first std::get<0>(out); //access the first data member"
   ]
  },
  {
   "cell_type": "markdown",
   "metadata": {},
   "source": [
    "However, this is messy and using `std::get<index>(varName)` is not convenient to implement. \n",
    "\n",
    "#### Struct \n",
    "\n",
    "But the best way is using a struct! You get named variables, and since the default visibility is public, it is easy to read and write. "
   ]
  },
  {
   "cell_type": "code",
   "execution_count": 6,
   "metadata": {},
   "outputs": [],
   "source": [
    "struct output \n",
    "{\n",
    "    std::string str; \n",
    "    int i; \n",
    "};"
   ]
  },
  {
   "cell_type": "code",
   "execution_count": 9,
   "metadata": {},
   "outputs": [],
   "source": [
    "output returnStruct()\n",
    "{\n",
    "    std::string s = \"string\"; \n",
    "    int i = 0; \n",
    "    \n",
    "    //note the implicit conversion. tidy! \n",
    "    return {s, i}; \n",
    "}"
   ]
  },
  {
   "cell_type": "code",
   "execution_count": 10,
   "metadata": {},
   "outputs": [
    {
     "name": "stdout",
     "output_type": "stream",
     "text": [
      "string"
     ]
    }
   ],
   "source": [
    "output multipleReturn  = returnStruct(); \n",
    "std::cout << multipleReturn.str;"
   ]
  },
  {
   "cell_type": "code",
   "execution_count": null,
   "metadata": {},
   "outputs": [],
   "source": []
  }
 ],
 "metadata": {
  "kernelspec": {
   "display_name": "xeus C++14",
   "language": "",
   "name": "xeus-cling-cpp14"
  },
  "language_info": {
   "codemirror_mode": "text/x-c++src",
   "file_extension": ".cpp",
   "mimetype": "text/x-c++src",
   "name": "c++",
   "version": ""
  }
 },
 "nbformat": 4,
 "nbformat_minor": 2
}
