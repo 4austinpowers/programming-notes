{
 "cells": [
  {
   "cell_type": "markdown",
   "metadata": {},
   "source": [
    "## Virtual Functions\n",
    "\n",
    "A virtual function allow us to overwrite methods in subclasses. If we have a parent class, A, and a subclass, B, we can mark a method as `virual` in A to overwrite its function in B. Lets see an example. "
   ]
  },
  {
   "cell_type": "code",
   "execution_count": 1,
   "metadata": {},
   "outputs": [],
   "source": [
    "#include <iostream>\n",
    "#include <string>\n",
    "\n",
    "class Entity\n",
    "{\n",
    "    public: \n",
    "        std::string GetName() {return \"Entity\";}\n",
    "};\n",
    "\n",
    "class Player : public Entity\n",
    "{\n",
    "    private: \n",
    "        std::string m_Name; \n",
    "    public: \n",
    "        Player(const std::string&  name) \n",
    "            : m_Name(name){}\n",
    "        \n",
    "        std::string GetName(){return m_Name;}\n",
    "        \n",
    "};"
   ]
  },
  {
   "cell_type": "code",
   "execution_count": 2,
   "metadata": {
    "scrolled": false
   },
   "outputs": [
    {
     "name": "stdout",
     "output_type": "stream",
     "text": [
      "Entity\n",
      "Harrison\n"
     ]
    }
   ],
   "source": [
    "Entity* e = new Entity(); \n",
    "std::cout << e->GetName() << std::endl; \n",
    "\n",
    "Player* p = new Player(\"Harrison\"); \n",
    "std::cout << p->GetName() << std::endl; "
   ]
  },
  {
   "cell_type": "markdown",
   "metadata": {},
   "source": [
    "Great. This works as expected. But this will all crumble if we decide to use polymorphism. That is, this won't work if we decide to refer to any Player object as an entity object. For example, say we have a method that takes in an Entity object, so it will also take in any method that inherits from Entity, and calls the method GetName, which has been reimplemented in the subclass. One might expect that it would call the GetName method based off of the object that was being passed in right? Right??"
   ]
  },
  {
   "cell_type": "code",
   "execution_count": 3,
   "metadata": {},
   "outputs": [
    {
     "name": "stdout",
     "output_type": "stream",
     "text": [
      "Entity\n",
      "Entity\n"
     ]
    }
   ],
   "source": [
    "void callGetName(Entity* entity)\n",
    "{\n",
    "    std::cout << entity->GetName() << std::endl; \n",
    "}\n",
    "\n",
    "callGetName(e);\n",
    "callGetName(p);"
   ]
  },
  {
   "cell_type": "markdown",
   "metadata": {},
   "source": [
    "Maybe not. The code compiles because both `e` and `p` are Entity objects (or inherited from). But when we call the `callGetName` method, it in turn just calls whichever implementation of GetName that belongs to the type of its argument, which is an Entity. \n",
    "\n",
    "What we want is C++ to recognize that we infact passed in a Player, not a pure Entity object. \n",
    "\n",
    "Enter virual function. A virual function will completely override the implementation that it inherit froms. If we mark the parent method's implementation as `virtual`, and optionally add `override` to the end of the sublclass' corresponding method, we can solve the problem we had before. \n",
    "\n",
    "Virtual functions introduce something called dynamic dispatch, which is implemented in compilers via a V-table. A V-table is a table which contains a mapping of all our virtual functions inside the base class so we can map them to the correct overwritten function an run time.  \n",
    "\n",
    "So when a method is marked as virtual, it tells the compiler \"Hey, whenver this method is called, check the V-table to call the correct implementation for the type that is being requested\"."
   ]
  },
  {
   "cell_type": "code",
   "execution_count": 11,
   "metadata": {},
   "outputs": [],
   "source": [
    "class Entity2\n",
    "{\n",
    "    public:\n",
    "        virtual std::string GetName() {return \"Entity\";}\n",
    "};\n",
    "\n",
    "class Player2 : public Entity2 \n",
    "{\n",
    "    private: \n",
    "        std::string m_Name; \n",
    "        \n",
    "    public: \n",
    "        Player2(const std::string& name) \n",
    "            : m_Name(name) {}\n",
    "            \n",
    "        std::string GetName() override { return m_Name; }\n",
    "};"
   ]
  },
  {
   "cell_type": "markdown",
   "metadata": {},
   "source": [
    "Instantiating and testing the methods just as we did before. "
   ]
  },
  {
   "cell_type": "code",
   "execution_count": 13,
   "metadata": {},
   "outputs": [
    {
     "name": "stdout",
     "output_type": "stream",
     "text": [
      "Entity\n",
      "Harrison\n"
     ]
    }
   ],
   "source": [
    "Entity2* e2 = new Entity2(); \n",
    "std::cout << e2->GetName() << std::endl; \n",
    "\n",
    "Player2* p2 = new Player2(\"Harrison\"); \n",
    "std::cout << p2->GetName() << std::endl;"
   ]
  },
  {
   "cell_type": "markdown",
   "metadata": {},
   "source": [
    "Now let's test the virtual method implementations. "
   ]
  },
  {
   "cell_type": "code",
   "execution_count": 14,
   "metadata": {},
   "outputs": [
    {
     "name": "stdout",
     "output_type": "stream",
     "text": [
      "Entity\n",
      "Harrison\n"
     ]
    }
   ],
   "source": [
    "void callGetName(Entity2* entity)\n",
    "{\n",
    "    std::cout << entity->GetName() << std::endl; \n",
    "}\n",
    "\n",
    "callGetName(e2);\n",
    "callGetName(p2);"
   ]
  }
 ],
 "metadata": {
  "kernelspec": {
   "display_name": "xeus C++14",
   "language": "",
   "name": "xeus-cling-cpp14"
  },
  "language_info": {
   "codemirror_mode": "text/x-c++src",
   "file_extension": ".cpp",
   "mimetype": "text/x-c++src",
   "name": "c++",
   "version": ""
  }
 },
 "nbformat": 4,
 "nbformat_minor": 2
}
