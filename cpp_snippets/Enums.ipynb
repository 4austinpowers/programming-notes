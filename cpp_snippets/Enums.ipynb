{
 "cells": [
  {
   "cell_type": "markdown",
   "metadata": {},
   "source": [
    "## Enums \n",
    "\n",
    "Enum is short for enumeration, which is a way to give a name to a value. So instead of having a list of integers with variable names A, B, C, we can an Enum data structure with those labels and integers. \n",
    "\n",
    "    A : 1 \n",
    "    B : 2\n",
    "    C : 3\n",
    "    \n",
    "It is most useful as a way to represent integers as a certain state or value. For example, 0 = stop, 1 = slow, and 2 = go.  Enums can only be some variation of an int (signed, unsigned etc.). Enums are useful because the restrict what values you can set for a variable in your desired range. For the example above, I would not want to accidentally set a value to 4, since it does nto represent any of the 3 choices. \n",
    "\n",
    "By default, the enum values initialize chronologically, so `enum {A, B , C}` would have A = 0, B = 1, C = 2. You can override this by specifying the values when defining the enum. "
   ]
  },
  {
   "cell_type": "code",
   "execution_count": 1,
   "metadata": {},
   "outputs": [],
   "source": [
    "enum Drive : int\n",
    "{\n",
    "  stop, slow, go\n",
    "};"
   ]
  },
  {
   "cell_type": "code",
   "execution_count": 2,
   "metadata": {},
   "outputs": [
    {
     "name": "stdout",
     "output_type": "stream",
     "text": [
      "(Drive) (Drive::go) : (int) 2\n"
     ]
    }
   ],
   "source": [
    "//access one of the variables. \n",
    "Drive:: go"
   ]
  },
  {
   "cell_type": "code",
   "execution_count": 3,
   "metadata": {},
   "outputs": [
    {
     "name": "stderr",
     "output_type": "stream",
     "text": [
      "input_line_10:3:11: error: expression is not assignable\n",
      "Drive::go = 12;\n",
      "~~~~~~~~~ ^\n"
     ]
    }
   ],
   "source": [
    "//cannot reassign\n",
    "Drive::go = 12;"
   ]
  },
  {
   "cell_type": "code",
   "execution_count": 4,
   "metadata": {},
   "outputs": [],
   "source": [
    "//set a new variable to a enum value  \n",
    "Drive status = stop; "
   ]
  },
  {
   "cell_type": "code",
   "execution_count": 7,
   "metadata": {},
   "outputs": [
    {
     "name": "stdout",
     "output_type": "stream",
     "text": [
      "car is stopped\n"
     ]
    }
   ],
   "source": [
    "#include <iostream>\n",
    "if (status == Drive::go)\n",
    "{\n",
    "    std::cout << \"car is driving\" << std::endl;\n",
    "}\n",
    "else if (status == Drive::stop)\n",
    "{\n",
    "    std::cout << \"car is stopped\" << std::endl;\n",
    "}"
   ]
  },
  {
   "cell_type": "code",
   "execution_count": null,
   "metadata": {},
   "outputs": [],
   "source": []
  }
 ],
 "metadata": {
  "kernelspec": {
   "display_name": "xeus C++14",
   "language": "",
   "name": "xeus-cling-cpp14"
  },
  "language_info": {
   "codemirror_mode": "text/x-c++src",
   "file_extension": ".cpp",
   "mimetype": "text/x-c++src",
   "name": "c++",
   "version": ""
  }
 },
 "nbformat": 4,
 "nbformat_minor": 2
}
