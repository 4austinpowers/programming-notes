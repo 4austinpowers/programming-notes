{
 "cells": [
  {
   "cell_type": "markdown",
   "metadata": {},
   "source": [
    "## Const keyword \n",
    "\n",
    "Const is a keyword that you can use to mark a data member to be constant - to make it immutable. "
   ]
  },
  {
   "cell_type": "code",
   "execution_count": 1,
   "metadata": {},
   "outputs": [],
   "source": [
    "//works \n",
    "int a = 5; \n",
    "a = 1; "
   ]
  },
  {
   "cell_type": "code",
   "execution_count": 2,
   "metadata": {},
   "outputs": [
    {
     "name": "stderr",
     "output_type": "stream",
     "text": [
      "input_line_8:4:3: error: cannot assign to variable 'b' with const-qualified type 'const int'\n",
      "b = 3; \n",
      "~ ^\n",
      "input_line_8:3:11: note: variable 'b' declared const here\n",
      "const int b = 8; \n",
      "~~~~~~~~~~^~~~~\n"
     ]
    }
   ],
   "source": [
    "//not possible \n",
    "const int b = 8; \n",
    "b = 3; "
   ]
  },
  {
   "cell_type": "markdown",
   "metadata": {},
   "source": [
    "What are the uses for const? One is the same as visibility - marking a data member to set constraints on the code so it is used as intended and is designed to avoid breaking. You can also do a few tricky things with const pointers. \n",
    "\n",
    "The following makes it so you cannot modify the contents of this pointer - the data at that memory address. But you can change what it points to. "
   ]
  },
  {
   "cell_type": "code",
   "execution_count": 3,
   "metadata": {},
   "outputs": [
    {
     "name": "stdout",
     "output_type": "stream",
     "text": [
      "(const int *) 0x7f3fcb0e9050\n"
     ]
    }
   ],
   "source": [
    "int MAXAGE = 90; \n",
    "const int* p = &MAXAGE;\n",
    "p"
   ]
  },
  {
   "cell_type": "code",
   "execution_count": 9,
   "metadata": {},
   "outputs": [
    {
     "name": "stderr",
     "output_type": "stream",
     "text": [
      "input_line_20:2:5: error: read-only variable is not assignable\n",
      " *p = 0;\n",
      " ~~ ^\n"
     ]
    }
   ],
   "source": [
    "//trying to change the contents of the pointer\n",
    "*p = 0;"
   ]
  },
  {
   "cell_type": "code",
   "execution_count": 4,
   "metadata": {},
   "outputs": [],
   "source": [
    "//point to a different variable \n",
    "int MINAGE = 0; \n",
    "p = (int*)&MINAGE; \n",
    "*p "
   ]
  },
  {
   "cell_type": "markdown",
   "metadata": {},
   "source": [
    "You can also do the inverse. You can change the contents of the pointer, but prevent pointing to something else. You do this by moving the const keyword to after the int declaration. "
   ]
  },
  {
   "cell_type": "code",
   "execution_count": 11,
   "metadata": {},
   "outputs": [],
   "source": [
    "//changing the contents OK\n",
    "int* const c = &MAXAGE;\n",
    "*c = 0; "
   ]
  },
  {
   "cell_type": "code",
   "execution_count": 13,
   "metadata": {},
   "outputs": [
    {
     "name": "stderr",
     "output_type": "stream",
     "text": [
      "input_line_24:3:3: error: cannot assign to variable 'c' with const-qualified type 'int *const'\n",
      "c = (int*)&MINAGE;\n",
      "~ ^\n",
      "input_line_22:2:13: note: variable 'c' declared const here\n",
      " int* const c = &MAXAGE;\n",
      " ~~~~~~~~~~~^~~~~~~~~~~\n"
     ]
    }
   ],
   "source": [
    "//pointing to a different variable not OK\n",
    "c = (int*)&MINAGE;"
   ]
  },
  {
   "cell_type": "markdown",
   "metadata": {},
   "source": [
    "This holds true as long as the const is before the `*`\n",
    "\n",
    "```c++\n",
    "const int* a == int const* a \n",
    "\n",
    "```\n",
    "\n",
    "You can apply both the constraints by writing two consts: "
   ]
  },
  {
   "cell_type": "code",
   "execution_count": 15,
   "metadata": {},
   "outputs": [],
   "source": [
    "const int* const z = &MAXAGE; "
   ]
  }
 ],
 "metadata": {
  "kernelspec": {
   "display_name": "xeus C++14",
   "language": "",
   "name": "xeus-cling-cpp14"
  },
  "language_info": {
   "codemirror_mode": "text/x-c++src",
   "file_extension": ".cpp",
   "mimetype": "text/x-c++src",
   "name": "c++",
   "version": ""
  }
 },
 "nbformat": 4,
 "nbformat_minor": 2
}
