{
 "cells": [
  {
   "cell_type": "markdown",
   "metadata": {},
   "source": [
    "## The stack and the heap\n",
    "\n",
    "We need memory in programming to store data: variables, files etc. Memory in C++ is roughly divided into 2 types: stack and heap. When our program runs, it allocates the right amount of space in RAM to execute the program. Of this RAM space, we divided it into the stack and the heap. The stack typically has a predefined size, usually about 2MB, while the heap size is allowed to grow as the program goes on. Fundmentally, we ask both the stack and the heap for memory, and we recieve. The differnce is how that memory is allocated and given. \n",
    "\n",
    "Recall that we allocate data, we need it to be a contiguous block, meaning one straight section of memory. \n",
    "\n",
    "#### Stack "
   ]
  },
  {
   "cell_type": "code",
   "execution_count": 1,
   "metadata": {},
   "outputs": [],
   "source": [
    "int value = 5; "
   ]
  },
  {
   "cell_type": "markdown",
   "metadata": {},
   "source": [
    "#### Heap "
   ]
  },
  {
   "cell_type": "code",
   "execution_count": 2,
   "metadata": {},
   "outputs": [],
   "source": [
    "int* value2 = new int; \n",
    "*value2 = 5; "
   ]
  },
  {
   "cell_type": "markdown",
   "metadata": {},
   "source": [
    "So notice that we get a pointer when allocating on the heap, so we need to dereference and assign. More importantly, we use the `new` keyword. \n",
    "\n",
    "For a stack allocation, we literally just stack the data. To distill it, our first stack allocated data will have position 0 for its pointer in memory. If its four bytes, then the next stack allocated data pointer will start at position 4. If that object is 20 bytes, then the next stack allocated object will be at 24 bytes. The stack allocation is just stacking one object atop the other in memory, which is why its quick. \n",
    "\n",
    "Meanwhile, the heap memory must do a lot of book-keeping with a free-list of memory to allocate the right amount of memory, since it is dynamic. If you run out of dynanmic memory, you must ask the OS for more, which is much more expensive in terms of efficiency. \n",
    "\n",
    "The actual difference of access efficiency of either of these variables *after* they are allocated is negligible, its is the allocation time itself that is different. Since stack only costs 1 CPU cycle, it is quick and preferred. \n",
    "\n",
    "## How to create objects in C++: \n",
    "\n",
    "The quick and dirty: there are two ways to create objects in C++: on the stack and on the heap. If your object is really big, or if you want to explicitly control the lifetime of your object, then create your object on the heap. \n",
    "\n",
    "### Stack \n",
    "1. Allocating the the stack is automated and its faster. \n",
    "2. Allocate here, unless you can't ;) \n",
    "\n",
    "### Heap \n",
    "1. Allocate here if you want you data to last longer than the scope it is in\n",
    "2. Allocating on the heap takes longer than on the stack. \n",
    "3. On the heap, you have to manually delete that memory you allocated. \n",
    "4. If you forget, this leads to memory leaks. "
   ]
  },
  {
   "cell_type": "markdown",
   "metadata": {},
   "source": [
    "#### The `new` keyword\n",
    "\n",
    "`new` is used when allocating on the heap. `new` figures out how big of an object, in bytes, the compiler needs to create to instantiate your object. It asks the OS, 'hey, please give me a pointer for X byes of contiguous memory for this object'. Again **`new` returns a pointer**. Additionally, new calls the constructor of whatever object it is allocating. This all takes a while! This is why allocating on the stack is slower than that on the heap. \n",
    "\n",
    "New is roughly the equivanlent of: \n",
    "\n",
    "```c++\n",
    "int* i = new int; \n",
    "int* i  = (int*)malloc(sizeof(int)); \n",
    "```\n",
    "\n",
    "Except the later won't call the constructor. But the memory allocation is the same: allocate the memory of an object, cast to pointer of that object type. \n",
    "\n",
    "#### The `delete` keyword\n",
    "\n",
    "`delete` is the accompanying keyword to `new`. It deallocates memory of heap allocated objects and calls their destructor. It allows that memory to be recycled back into the program. It is important to use this to avoid memory leaks, which is bad for performance. "
   ]
  },
  {
   "cell_type": "markdown",
   "metadata": {},
   "source": [
    "## Carry Over from C\n",
    "### malloc, calloc, realloc, free\n",
    "\n",
    "Since C++ has backwards compatibility with C, we can also use the 4 core functions mentioned above to manipulate our stack and heap memory. \n",
    "\n",
    "#### `malloc` and `free`\n",
    "\n",
    "`malloc` asks for x amount of data to be reserved on the heap. It returns a void pointer, so we need to specify the type we want afterwards. If we do not type-cast, then we can not dereference! Below I will ask for 4 bytes (one int), and cast that to a int pointer. "
   ]
  },
  {
   "cell_type": "code",
   "execution_count": 3,
   "metadata": {},
   "outputs": [],
   "source": [
    "int * p; \n",
    "p = (int*)malloc(sizeof(int)); "
   ]
  },
  {
   "cell_type": "code",
   "execution_count": 4,
   "metadata": {},
   "outputs": [
    {
     "name": "stdout",
     "output_type": "stream",
     "text": [
      "(void *) 0x6626930\n"
     ]
    }
   ],
   "source": [
    "malloc(sizeof(int))  //without casting "
   ]
  },
  {
   "cell_type": "markdown",
   "metadata": {},
   "source": [
    "Something to keep in mind, and this goes for `new` too, is that if we try to allocate the same heap memory for `p` again, it will work. We will simply get a new pointer to memory, and the old one will not be wasted. There is no warning for this memory wastage, so its important to keep track of when you call these heap allocations. For the case of `malloc`, we clear the memory with `free`."
   ]
  },
  {
   "cell_type": "code",
   "execution_count": 5,
   "metadata": {},
   "outputs": [],
   "source": [
    "//this is horrible! \n",
    "\n",
    "*p = 12; \n",
    "p = (int*)malloc(sizeof(int)); \n",
    "*p = 12453; \n",
    "p = (int*)malloc(sizeof(int)); \n",
    "*p = 22; \n",
    "p = (int*)malloc(sizeof(int)); "
   ]
  },
  {
   "cell_type": "code",
   "execution_count": 6,
   "metadata": {},
   "outputs": [],
   "source": [
    "free (p); //deallocate "
   ]
  },
  {
   "cell_type": "markdown",
   "metadata": {},
   "source": [
    "#### `calloc`\n",
    "\n",
    "`calloc`, like `malloc`, returns a void pointer when requesting heap memory. However it takes 2 arguments, number of elements and size of elements. `calloc` initializes all byte positions to zero. \n",
    "\n",
    "#### `realloc`\n",
    "\n",
    "`realloc` is used to change the size of memory that you've already allocated. It takes in a pointer the starting address of the existing block, and the size of the new block. The new size can be larger or smaller than you started. The compiler may find a new pointer if a single contingious block of the size you requested can not be done in place. "
   ]
  },
  {
   "cell_type": "code",
   "execution_count": 7,
   "metadata": {},
   "outputs": [],
   "source": [
    "int* c; \n",
    "c = (int*)calloc(10, sizeof(int));\n",
    "    \n",
    "c = (int*)realloc(c, sizeof(int)*30);"
   ]
  },
  {
   "cell_type": "code",
   "execution_count": 8,
   "metadata": {},
   "outputs": [],
   "source": [
    "free(c); //never forget to deallocate :)"
   ]
  }
 ],
 "metadata": {
  "kernelspec": {
   "display_name": "xeus C++14",
   "language": "",
   "name": "xeus-cling-cpp14"
  },
  "language_info": {
   "codemirror_mode": "text/x-c++src",
   "file_extension": ".cpp",
   "mimetype": "text/x-c++src",
   "name": "c++",
   "version": ""
  }
 },
 "nbformat": 4,
 "nbformat_minor": 2
}
