{
 "cells": [
  {
   "cell_type": "markdown",
   "metadata": {},
   "source": [
    "## Auto \n",
    "\n",
    "In C++ there are types for all kinds of data - ints, strings, structs, pointers, etc.. Auto is a way to let C++ duduce what kind of type we are dealing with. Take the following function that returns an int: "
   ]
  },
  {
   "cell_type": "code",
   "execution_count": 1,
   "metadata": {},
   "outputs": [],
   "source": [
    "int func()\n",
    "{\n",
    "    return 12; \n",
    "}"
   ]
  },
  {
   "cell_type": "markdown",
   "metadata": {},
   "source": [
    "Both the coder, and the compiler know that the return type should be a string when we call the function. If assigning the output of the function to a variable, we can either type `int`, or `auto` to let C++ infer the type for us. "
   ]
  },
  {
   "cell_type": "code",
   "execution_count": 4,
   "metadata": {},
   "outputs": [
    {
     "name": "stdout",
     "output_type": "stream",
     "text": [
      "(int) 12\n"
     ]
    }
   ],
   "source": [
    "int a  = func(); \n",
    "auto b = func();\n",
    "a, b"
   ]
  },
  {
   "cell_type": "markdown",
   "metadata": {},
   "source": [
    "One huge benefit of this, as you can imagine, is the ability to turn C++, in part, into a weakly typed language, where we don't need to specify the type ever. While this is possible, its not recommended, as it makes the code messier. \n",
    "\n",
    "But if you decide to make a style change to your code, for example turning function's return type from a string into a const char* everywhere, then if you used auto you do not need to make any downstream changes where the function is used!"
   ]
  },
  {
   "cell_type": "code",
   "execution_count": 5,
   "metadata": {},
   "outputs": [],
   "source": [
    "#include <string>\n",
    "std::string getName() //can change this type without a problem! \n",
    "{\n",
    "    return \"Mohit\"; \n",
    "}"
   ]
  },
  {
   "cell_type": "code",
   "execution_count": 6,
   "metadata": {},
   "outputs": [
    {
     "name": "stdout",
     "output_type": "stream",
     "text": [
      "(std::basic_string<char> &) \"Mohit\"\n"
     ]
    }
   ],
   "source": [
    "auto name = getName(); \n",
    "name"
   ]
  },
  {
   "cell_type": "markdown",
   "metadata": {},
   "source": [
    "However, be weary that using this can break other things downline. For example, if I try to use `.size()` on a const char. "
   ]
  },
  {
   "cell_type": "code",
   "execution_count": 1,
   "metadata": {},
   "outputs": [
    {
     "name": "stderr",
     "output_type": "stream",
     "text": [
      "input_line_8:3:12: warning: ISO C++11 does not allow conversion from string literal to 'char *'\n",
      "      [-Wwritable-strings]\n",
      "    return \"Mohit\"; \n",
      "           ^\n",
      "input_line_8:7:5: error: member reference base type 'char *' is not a structure or union\n",
      "name.size()\n",
      "~~~~^~~~~\n"
     ]
    }
   ],
   "source": [
    "#include <string>\n",
    "char* getName() //can change this type without a problem! \n",
    "{\n",
    "    return \"Mohit\"; \n",
    "}\n",
    "auto name = getName(); \n",
    "name.size()"
   ]
  },
  {
   "cell_type": "markdown",
   "metadata": {},
   "source": [
    "So for these causes, I would never use `auto`, personally. \n",
    "    \n",
    "The main use-case is for avoiding writing big type names. Below I build a vector of strings, and then use an iterator to loop over all of them and print. \n",
    "\n",
    "`std::vector<std::string>::iterator` is quite long, so this is a great place for auto to infer the type. "
   ]
  },
  {
   "cell_type": "code",
   "execution_count": 3,
   "metadata": {},
   "outputs": [
    {
     "name": "stdout",
     "output_type": "stream",
     "text": [
      "(std::vector<std::string> &) { \"apple\", \"orange\" }\n"
     ]
    }
   ],
   "source": [
    "#include<vector>\n",
    "#include<iostream>\n",
    "\n",
    "std::vector<std::string> strings; \n",
    "strings.push_back(\"apple\"); \n",
    "strings.push_back(\"orange\");\n",
    "strings"
   ]
  },
  {
   "cell_type": "code",
   "execution_count": 4,
   "metadata": {},
   "outputs": [
    {
     "name": "stdout",
     "output_type": "stream",
     "text": [
      "apple\n",
      "orange\n"
     ]
    }
   ],
   "source": [
    "for (std::vector<std::string>::iterator it =strings.begin();\n",
    "     it != strings.end(); it++)\n",
    "{\n",
    "    std::cout << *it << std::endl;  \n",
    "}"
   ]
  },
  {
   "cell_type": "code",
   "execution_count": 5,
   "metadata": {},
   "outputs": [
    {
     "name": "stdout",
     "output_type": "stream",
     "text": [
      "apple\n",
      "orange\n"
     ]
    }
   ],
   "source": [
    "for (auto it =strings.begin(); it != strings.end(); it++)\n",
    "{\n",
    "    std::cout << *it << std::endl;  \n",
    "}"
   ]
  },
  {
   "cell_type": "markdown",
   "metadata": {},
   "source": [
    "### Recap \n",
    "\n",
    "Use auto for long type names! Or if you truly don't know what the type name is (but just try to avoid those situations). "
   ]
  },
  {
   "cell_type": "code",
   "execution_count": null,
   "metadata": {},
   "outputs": [],
   "source": []
  }
 ],
 "metadata": {
  "kernelspec": {
   "display_name": "xeus C++14",
   "language": "",
   "name": "xeus-cling-cpp14"
  },
  "language_info": {
   "codemirror_mode": "text/x-c++src",
   "file_extension": ".cpp",
   "mimetype": "text/x-c++src",
   "name": "c++",
   "version": ""
  }
 },
 "nbformat": 4,
 "nbformat_minor": 2
}
