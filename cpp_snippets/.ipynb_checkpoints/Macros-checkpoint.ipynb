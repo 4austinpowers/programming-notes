{
 "cells": [
  {
   "cell_type": "markdown",
   "metadata": {},
   "source": [
    "## Macros \n",
    "\n",
    "Using C++ Macro is about using the preprocessor to automate some text editing steps. As you may know, the preprocessor is responsible for taking any code prefaced with a `#` and manipulating it with some rules. `#include` copy and pastes header files, and `#define` does a 'find and replace' in the document. \n",
    "\n",
    "A macro can take advantage of these properties of find and replace to automate some annoying text editing. Senarios where this may be useful include creating cross platform code, or acoiding writing long repetitive text. Lets see some examples. "
   ]
  },
  {
   "cell_type": "code",
   "execution_count": 1,
   "metadata": {},
   "outputs": [],
   "source": [
    "//here are some standard includes\n",
    "#include <iostream>\n",
    "#include <string>"
   ]
  },
  {
   "cell_type": "code",
   "execution_count": 2,
   "metadata": {},
   "outputs": [
    {
     "name": "stdout",
     "output_type": "stream",
     "text": [
      "hello\n"
     ]
    }
   ],
   "source": [
    "//here is a define find and replace \n",
    "#define REPLACE std::cout << \"hello\" << std::endl; \n",
    "\n",
    "REPLACE"
   ]
  },
  {
   "cell_type": "markdown",
   "metadata": {},
   "source": [
    "You can see above that by writing `#define`, our replacement term `REPLACE` and our find term `std::cout << \"hello\" << std::endl; `, we could execute the find term by just writing `REPLACE`\n",
    "\n",
    "We are simply changing the way the code gets generated, but the compiler sees the same thing. This is because the preprocessor directives occur before compiling, so the find and replace is unknown to the compiler. \n",
    "\n",
    "Also, this is a stupid example. If `REPLACE` was defined in another file, it would get confusing very quickly. A better use for `#define` would be for logging. The `#define` can take in arguments, so something like this is allowed: \n",
    "\n",
    "We could use this type of logging for debugging purposes. "
   ]
  },
  {
   "cell_type": "code",
   "execution_count": 3,
   "metadata": {},
   "outputs": [
    {
     "name": "stdout",
     "output_type": "stream",
     "text": [
      "hello\n"
     ]
    }
   ],
   "source": [
    "#define LOG_THIS(X) std::cout << X << std::endl\n",
    "\n",
    "LOG_THIS(\"hello\");"
   ]
  },
  {
   "cell_type": "markdown",
   "metadata": {},
   "source": [
    "Then we are ready for production code, we change the find text to \"\". We can also make us of `ifdef` conditional logic to only use the macro if a debug flag is set. You would set this flag in [Visual Studio](https://www.youtube.com/watch?v=j3mYki1SrKE&index=55&list=PLlrATfBNZ98dudnM48yfGUldqGD0S4FFb)"
   ]
  },
  {
   "cell_type": "code",
   "execution_count": 4,
   "metadata": {},
   "outputs": [],
   "source": [
    "#ifdef DEBUG\n",
    "#define LOG(X) std::cout << X << std::endl\n",
    "#else \n",
    "#define LOG(X)\n",
    "LOG(\"hello\");"
   ]
  },
  {
   "cell_type": "code",
   "execution_count": null,
   "metadata": {},
   "outputs": [],
   "source": []
  }
 ],
 "metadata": {
  "kernelspec": {
   "display_name": "xeus C++14",
   "language": "",
   "name": "xeus-cling-cpp14"
  },
  "language_info": {
   "codemirror_mode": "text/x-c++src",
   "file_extension": ".cpp",
   "mimetype": "text/x-c++src",
   "name": "c++",
   "version": ""
  }
 },
 "nbformat": 4,
 "nbformat_minor": 2
}
