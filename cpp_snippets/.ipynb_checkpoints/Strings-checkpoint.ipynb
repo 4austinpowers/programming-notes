{
 "cells": [
  {
   "cell_type": "markdown",
   "metadata": {},
   "source": [
    "## Strings \n",
    "\n",
    "A string is a group of characters (text). Either a single character, or a full parahraph of larger. Strings are made of ascii characters, which are letters, numbers, punctuation etc. The data type char, which is 1 byte of memory, is the building blocks of strings. A string can be thought of as an array of characters. \n",
    "\n",
    "We've seen const char pointers before. These are const since we typically don't want to change their value. "
   ]
  },
  {
   "cell_type": "code",
   "execution_count": 1,
   "metadata": {},
   "outputs": [],
   "source": [
    "const char* name = \"Homer\";"
   ]
  },
  {
   "cell_type": "code",
   "execution_count": 2,
   "metadata": {
    "scrolled": false
   },
   "outputs": [
    {
     "name": "stdout",
     "output_type": "stream",
     "text": [
      "H\n",
      "o\n",
      "m\n",
      "e\n",
      "r\n",
      "\u0000\n",
      "\u0000\n",
      "\u0000\n"
     ]
    }
   ],
   "source": [
    "#include <iostream>\n",
    "for (int i = 0; i< sizeof(name); i++)\n",
    "{\n",
    "    std::cout << *(name+i) << std::endl; \n",
    "}"
   ]
  },
  {
   "cell_type": "markdown",
   "metadata": {},
   "source": [
    "Notice that we can access data in the string, name, just like we did with arrrays. The name of the string, in our case `name`, is a pointer to the start of an array. By incrementing the pointer, we get the next position of the array. Also notice that we get two spaces after `Homer` is done printing. These are the null termination characters that mark the end of the array. These null termination characters allow us to see how large the string is."
   ]
  },
  {
   "cell_type": "code",
   "execution_count": 3,
   "metadata": {},
   "outputs": [
    {
     "name": "stdout",
     "output_type": "stream",
     "text": [
      "(const char) '0x00'\n"
     ]
    }
   ],
   "source": [
    "*(name+5) //null termination char - 0"
   ]
  },
  {
   "cell_type": "markdown",
   "metadata": {},
   "source": [
    "Also note that char pointers are defined with double quotes, while chars are defined with single quotes. "
   ]
  },
  {
   "cell_type": "code",
   "execution_count": 4,
   "metadata": {},
   "outputs": [],
   "source": [
    "char c = '1';\n",
    "const char* charp = \"hello\";"
   ]
  },
  {
   "cell_type": "markdown",
   "metadata": {},
   "source": [
    "So these are all chars and char pointers, not strings. You use strings from the string standard libray. std::string's underlying data type is chars; they are const char arrays! This means they are immutable. "
   ]
  },
  {
   "cell_type": "code",
   "execution_count": 5,
   "metadata": {},
   "outputs": [],
   "source": [
    "#include<string>"
   ]
  },
  {
   "cell_type": "code",
   "execution_count": 6,
   "metadata": {},
   "outputs": [
    {
     "name": "stdout",
     "output_type": "stream",
     "text": [
      "(std::string &) \"Homer\"\n"
     ]
    }
   ],
   "source": [
    "std::string str  = \"Homer\";\n",
    "str"
   ]
  },
  {
   "cell_type": "code",
   "execution_count": 7,
   "metadata": {},
   "outputs": [
    {
     "name": "stdout",
     "output_type": "stream",
     "text": [
      "(unsigned long) 5\n"
     ]
    }
   ],
   "source": [
    "str.size() //get the size of the string "
   ]
  },
  {
   "cell_type": "code",
   "execution_count": 8,
   "metadata": {},
   "outputs": [
    {
     "name": "stdout",
     "output_type": "stream",
     "text": [
      "(std::string &) \"Homer Simpson\"\n"
     ]
    }
   ],
   "source": [
    "str += \" Simpson\"; //concat two strings \n",
    "str"
   ]
  },
  {
   "cell_type": "code",
   "execution_count": 9,
   "metadata": {},
   "outputs": [
    {
     "name": "stdout",
     "output_type": "stream",
     "text": [
      "(std::string &) \"Marge Simpson\"\n"
     ]
    }
   ],
   "source": [
    "//another way to concatenate two strings \n",
    "std::string concat = std::string(\"Marge\")  + \" Simpson\"; \n",
    "concat"
   ]
  },
  {
   "cell_type": "code",
   "execution_count": 15,
   "metadata": {},
   "outputs": [
    {
     "name": "stdout",
     "output_type": "stream",
     "text": [
      "(bool) true\n"
     ]
    }
   ],
   "source": [
    "//check if a substring is in a string\n",
    "str.find(\"z\") == std::string::npos"
   ]
  }
 ],
 "metadata": {
  "kernelspec": {
   "display_name": "xeus C++14",
   "language": "",
   "name": "xeus-cling-cpp14"
  },
  "language_info": {
   "codemirror_mode": "text/x-c++src",
   "file_extension": ".cpp",
   "mimetype": "text/x-c++src",
   "name": "c++",
   "version": ""
  }
 },
 "nbformat": 4,
 "nbformat_minor": 2
}
