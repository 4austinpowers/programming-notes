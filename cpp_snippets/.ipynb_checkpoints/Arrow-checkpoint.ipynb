{
 "cells": [
  {
   "cell_type": "markdown",
   "metadata": {},
   "source": [
    "## The Arrow Pointer \n",
    "\n",
    "The arrow operator is used for calling methods on pointers to classes. You will need this if you allocate objects on the heap (since the return value is a pointer) or if you allocate a pointer object manually. \n",
    "\n",
    "Normally, an Entity class method could be called as so: "
   ]
  },
  {
   "cell_type": "code",
   "execution_count": 2,
   "metadata": {},
   "outputs": [],
   "source": [
    "#include <iostream>\n",
    "\n",
    "class Entity\n",
    "{\n",
    "    public: \n",
    "        int x; \n",
    "        void Print() const {std::cout << \"hello!\" << std::endl; }\n",
    "};"
   ]
  },
  {
   "cell_type": "code",
   "execution_count": 3,
   "metadata": {},
   "outputs": [
    {
     "name": "stdout",
     "output_type": "stream",
     "text": [
      "hello!\n"
     ]
    }
   ],
   "source": [
    "Entity e; \n",
    "e.Print();"
   ]
  },
  {
   "cell_type": "markdown",
   "metadata": {},
   "source": [
    "But for a pointer, this would not work. We would need to dereference the pointer first, to get to the overlying class method.  This is the same case for accessing the `x` variable. "
   ]
  },
  {
   "cell_type": "code",
   "execution_count": 5,
   "metadata": {},
   "outputs": [
    {
     "name": "stdout",
     "output_type": "stream",
     "text": [
      "hello!\n"
     ]
    }
   ],
   "source": [
    "Entity* e_ptr = &e; \n",
    "(*e_ptr).Print() //parenthesis for dereferening precedent "
   ]
  },
  {
   "cell_type": "markdown",
   "metadata": {},
   "source": [
    "This is a bit messy, so we can make use of the arrow operator that does the dereferencing for us! The arrow is just a short cut for dereferencing when we need to call a method on a pointer to an object. "
   ]
  },
  {
   "cell_type": "code",
   "execution_count": 7,
   "metadata": {},
   "outputs": [
    {
     "name": "stdout",
     "output_type": "stream",
     "text": [
      "hello!\n"
     ]
    }
   ],
   "source": [
    "e_ptr->Print();"
   ]
  },
  {
   "cell_type": "markdown",
   "metadata": {},
   "source": [
    "### Arrow Operator Overloading \n",
    "\n",
    "Since arrow is an operator, it means we can overload it. This may be useful for writing things like a scoped pointer class. \n",
    "\n",
    "In the example below, we create a pointer class for Enitity that has a destructor which automatically destroys it when it goes out of scope. \n",
    "\n",
    "```c++\n",
    "class ScopedPtr\n",
    "{\n",
    "    private:\n",
    "        Entity* Obj; \n",
    "    public: \n",
    "        ScopedPtr(Entity* entity) \n",
    "            : Obj(entity) {}\n",
    "            \n",
    "       ~ScopedPtr()\n",
    "       {\n",
    "           delete Obj; \n",
    "       }\n",
    "};\n",
    "\n",
    "ScopedPtr entity = new Entity(); //so this works \n",
    "```\n",
    "\n",
    "What if I wanted to call the `Print` function, or access the `x`, ot would be ugly. I would need to write an additional public method \n",
    "\n",
    "```c++\n",
    "Entity* GetObject() {return Obj;}\n",
    "```\n",
    "\n",
    "and call it like so: \n",
    "\n",
    "```c++\n",
    "entity.GetObject()->Print(); \n",
    "```\n",
    "\n",
    "which is not inuitive and doesn't follow the same design as a heap allocated Entity or pointer, like the first exmaple. This is where we can overload the arrow operator for an Entity object! "
   ]
  },
  {
   "cell_type": "code",
   "execution_count": 8,
   "metadata": {},
   "outputs": [],
   "source": [
    "class ScopedPtr\n",
    "{\n",
    "    private:\n",
    "        Entity* Obj; \n",
    "    public: \n",
    "        ScopedPtr(Entity* entity) \n",
    "            : Obj(entity) {}\n",
    "            \n",
    "       ~ScopedPtr()\n",
    "       {\n",
    "           delete Obj; \n",
    "       }\n",
    "    \n",
    "    Entity* operator->() \n",
    "    {\n",
    "        return Obj; \n",
    "    }\n",
    "};\n"
   ]
  },
  {
   "cell_type": "code",
   "execution_count": 9,
   "metadata": {},
   "outputs": [
    {
     "name": "stdout",
     "output_type": "stream",
     "text": [
      "hello!\n"
     ]
    }
   ],
   "source": [
    "ScopedPtr entity = new Entity(); \n",
    "entity->Print(); "
   ]
  },
  {
   "cell_type": "markdown",
   "metadata": {},
   "source": [
    "This is very powerful because you can start to define your own constructs and automations in your code, while making it look and feel like native C++. "
   ]
  }
 ],
 "metadata": {
  "kernelspec": {
   "display_name": "xeus C++14",
   "language": "",
   "name": "xeus-cling-cpp14"
  },
  "language_info": {
   "codemirror_mode": "text/x-c++src",
   "file_extension": ".cpp",
   "mimetype": "text/x-c++src",
   "name": "c++",
   "version": ""
  }
 },
 "nbformat": 4,
 "nbformat_minor": 2
}
