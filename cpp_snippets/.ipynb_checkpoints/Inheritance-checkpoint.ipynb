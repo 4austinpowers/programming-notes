{
 "cells": [
  {
   "cell_type": "markdown",
   "metadata": {},
   "source": [
    "## Inheritance \n",
    "\n",
    "Inheritance is a hugely importan topic for object oriented programming. It allows you to have a parent class and children classes, where the children inherit traits (properties, methods) from the parent, while also being able to change and create their own. In other words, we can start with a base class and branch into many subclasses, where the base class contains shared functionality between all the branches. This allows us to reuse code, saving time. \n",
    "\n",
    "The subclasses can either change old functionality slightly, or create totally new functionality. Inheriting from a parent class is simpler than adding a single line of code, its half of one! "
   ]
  },
  {
   "cell_type": "code",
   "execution_count": 1,
   "metadata": {},
   "outputs": [],
   "source": [
    "#include <iostream>\n",
    "\n",
    "class Parent\n",
    "{\n",
    "    public: \n",
    "        const char* lastName;\n",
    "        const char* firstName;\n",
    "        \n",
    "        void saySomething()\n",
    "        {\n",
    "            std::cout << \"my name is \"<< firstName << \" \" \n",
    "                << lastName << \"!\" << std::endl; \n",
    "        }\n",
    "    \n",
    "    private: \n",
    "        const char* spouse; \n",
    "};\n",
    "\n",
    "//inherit using : public Parent \n",
    "class Child1 : public Parent \n",
    "{\n",
    "\n",
    "    public: \n",
    "        int grade; \n",
    "        const char* firstName = \"Bart\";\n",
    "    \n",
    "};"
   ]
  },
  {
   "cell_type": "code",
   "execution_count": 2,
   "metadata": {},
   "outputs": [
    {
     "name": "stdout",
     "output_type": "stream",
     "text": [
      "my name is Marge Simpson!\n"
     ]
    }
   ],
   "source": [
    "Parent mom; \n",
    "mom.firstName = \"Marge\";\n",
    "mom.lastName = \"Simpson\";\n",
    "mom.saySomething(); "
   ]
  },
  {
   "cell_type": "code",
   "execution_count": 3,
   "metadata": {},
   "outputs": [
    {
     "name": "stdout",
     "output_type": "stream",
     "text": [
      "my name is "
     ]
    }
   ],
   "source": [
    "Child1 bart; \n",
    "bart.firstName = \"Bart\"; \n",
    "bart.lastName = \"Simpson\";\n",
    "bart.saySomething();"
   ]
  },
  {
   "cell_type": "code",
   "execution_count": 6,
   "metadata": {},
   "outputs": [],
   "source": [
    "bart.grade = 4; "
   ]
  },
  {
   "cell_type": "code",
   "execution_count": 7,
   "metadata": {},
   "outputs": [
    {
     "name": "stderr",
     "output_type": "stream",
     "text": [
      "input_line_17:2:6: error: no member named 'grade' in 'Parent'\n",
      " mom.grade = 12;\n",
      " ~~~ ^\n"
     ]
    }
   ],
   "source": [
    "//this will fail since it is an inherited property.\n",
    "mom.grade = 12;"
   ]
  },
  {
   "cell_type": "code",
   "execution_count": null,
   "metadata": {},
   "outputs": [],
   "source": []
  }
 ],
 "metadata": {
  "kernelspec": {
   "display_name": "xeus C++14",
   "language": "",
   "name": "xeus-cling-cpp14"
  },
  "language_info": {
   "codemirror_mode": "text/x-c++src",
   "file_extension": ".cpp",
   "mimetype": "text/x-c++src",
   "name": "c++",
   "version": ""
  }
 },
 "nbformat": 4,
 "nbformat_minor": 2
}
