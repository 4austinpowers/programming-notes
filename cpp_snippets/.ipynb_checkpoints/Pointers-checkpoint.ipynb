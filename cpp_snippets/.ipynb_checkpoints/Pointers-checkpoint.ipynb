{
 "cells": [
  {
   "cell_type": "markdown",
   "metadata": {},
   "source": [
    "## Pointers \n",
    "\n",
    "[Great Video](https://www.youtube.com/watch?v=DTxHyVn0ODg&index=16&list=PLlrATfBNZ98dudnM48yfGUldqGD0S4FFb)\n",
    "\n",
    "Pointers are possibly the most important concept in C++. If our C++ program has variables and data, then that data is stored somewhere in the computer's memory. Pointers are a tool for us to access the spots in memory. \n",
    "\n",
    "We can imagine the computer's memory like a single long street with houses on only one side. Each of these houses has an address. If we want to deliver a package to a specific house, say house 354, we lookup the address 354 to know where to go. So a pointer of a variable in C++ is just its address of a location in memory where data is stored. \n",
    "\n",
    "This is useful to us, because the pointer is an integer, which is only 4 bytes of memory. The object which the pointer points to could be waaayyy bigger, but pointers allow us to manipulate and reference that big object without using the computational effort of moving the big object directly. \n",
    "\n",
    "So if pointers are just integers, do they in turn have pointers? Yes. You can theoretically have a giant chain of pointers and variables, but usually one connection is enough. \n",
    "\n",
    "#### How do we create a pointer?\n",
    "\n",
    "We can create a pointer with a '*' asterisk. Typically, a pointer has a type, which denotes what type of object the pointer is point to. It is *NOT* the type of the pointer, because the pointer is just an integer. Denoting the type is just something that makes our life easier.\n",
    "\n",
    "We denote it because a pointer alone does not tell us how big the object it is pointing to is. By specifying that the pointer is pointing to an int, we know that the refereced object is 4 bytes starting from this specific memory location.\n",
    "\n",
    "We can start by creating a null pointer, a pointer that points to nothing. "
   ]
  },
  {
   "cell_type": "code",
   "execution_count": 5,
   "metadata": {},
   "outputs": [
    {
     "name": "stderr",
     "output_type": "stream",
     "text": [
      "input_line_15:2:8: error: redefinition of 'ptr'\n",
      " void* ptr = nullptr; \n",
      "       ^\n",
      "input_line_7:2:8: note: previous definition is here\n",
      " void* ptr = nullptr; \n",
      "       ^\n"
     ]
    }
   ],
   "source": [
    "void* ptr = nullptr; \n",
    "ptr"
   ]
  },
  {
   "cell_type": "markdown",
   "metadata": {},
   "source": [
    "Cool, a null pointer. Completely useless, but hey, it gets the point across. Eyy. Ok, heres the problem. We need something to point to! If we create a variable, var, we can access its location in memory using the amperand operator, &. We can assign this value to a pointer variable. "
   ]
  },
  {
   "cell_type": "code",
   "execution_count": 6,
   "metadata": {},
   "outputs": [
    {
     "name": "stderr",
     "output_type": "stream",
     "text": [
      "input_line_17:2:6: error: redefinition of 'var'\n",
      " int var = 8; \n",
      "     ^\n",
      "input_line_10:2:6: note: previous definition is here\n",
      " int var = 8; \n",
      "     ^\n"
     ]
    }
   ],
   "source": [
    "#include <iostream>\n",
    "\n",
    "int var = 8; \n",
    "int* var_ptr = &var; \n",
    "\n",
    "std::cout << \"value: \" << var\n",
    "    << \" pointer: \"<< var_ptr; "
   ]
  },
  {
   "cell_type": "markdown",
   "metadata": {},
   "source": [
    "Above, we are creating a variable, and then storing its memory location to another variable. \n",
    "\n",
    "As we can see, we get the value 8 as expected, but the pointer value is represented in hexadecimal form. It is still an integer, even though it may not look like one. \n",
    "\n",
    "#### Dereferecing\n",
    "\n",
    "Great. But now lets say we just have the var_ptr. What do we do if we want to access that data which var_ptr points to, which is 8. We need to dereference the pointer. We can do this by putting a * before the pointer. "
   ]
  },
  {
   "cell_type": "code",
   "execution_count": 3,
   "metadata": {},
   "outputs": [
    {
     "name": "stdout",
     "output_type": "stream",
     "text": [
      "(int) 8\n"
     ]
    }
   ],
   "source": [
    "*var_ptr"
   ]
  }
 ],
 "metadata": {
  "kernelspec": {
   "display_name": "xeus C++14",
   "language": "",
   "name": "xeus-cling-cpp14"
  },
  "language_info": {
   "codemirror_mode": "text/x-c++src",
   "file_extension": ".cpp",
   "mimetype": "text/x-c++src",
   "name": "c++",
   "version": ""
  }
 },
 "nbformat": 4,
 "nbformat_minor": 2
}
