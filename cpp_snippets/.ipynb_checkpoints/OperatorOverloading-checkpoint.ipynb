{
 "cells": [
  {
   "cell_type": "markdown",
   "metadata": {},
   "source": [
    "## Operator Overloading \n",
    "\n",
    "Operators (`+ - / * ^`) etc. are super convenient ways to do certain operations. It would be great to be able to use these for classes we define. We can! Here is an example of a vector class that can add itself with another vector object using `+`."
   ]
  },
  {
   "cell_type": "code",
   "execution_count": 1,
   "metadata": {},
   "outputs": [],
   "source": [
    "struct Vector2\n",
    "{\n",
    "    float x, y; \n",
    "    \n",
    "    Vector2(float x, float y) \n",
    "        : x(x), y(y) {}\n",
    "    \n",
    "    Vector2 Add(const Vector2& other) const \n",
    "    {\n",
    "        return Vector2(x + other.x, y + other.y); \n",
    "    }\n",
    "    \n",
    "    //operator overload \n",
    "    Vector2 operator+(const Vector2& other) const \n",
    "    {\n",
    "        return Add(other);\n",
    "    }\n",
    "\n",
    "};"
   ]
  },
  {
   "cell_type": "code",
   "execution_count": 2,
   "metadata": {},
   "outputs": [
    {
     "name": "stdout",
     "output_type": "stream",
     "text": [
      "1.2 1.2"
     ]
    }
   ],
   "source": [
    "#include <iostream>\n",
    "Vector2 v1(0.1, 0.5); \n",
    "Vector2 v2(1.1, 0.7);\n",
    "\n",
    "Vector2 v3 = v1+v2;\n",
    "std::cout << v3.x << \" \" <<  v3.y;"
   ]
  },
  {
   "cell_type": "markdown",
   "metadata": {},
   "source": [
    "We can also overload std::cout "
   ]
  },
  {
   "cell_type": "code",
   "execution_count": 4,
   "metadata": {},
   "outputs": [
    {
     "name": "stderr",
     "output_type": "stream",
     "text": [
      "input_line_11:3:1: error: function definition is not allowed here\n",
      "{\n",
      "^\n"
     ]
    }
   ],
   "source": [
    "std::ostream&  operator<< (std::ostream& stream, const Vector2& other)\n",
    "{\n",
    "    stream << other.x, << \", \" << other.y; \n",
    "    return stream;\n",
    "}"
   ]
  },
  {
   "cell_type": "code",
   "execution_count": null,
   "metadata": {},
   "outputs": [],
   "source": [
    "std::cout << v3; "
   ]
  }
 ],
 "metadata": {
  "kernelspec": {
   "display_name": "xeus C++14",
   "language": "",
   "name": "xeus-cling-cpp14"
  },
  "language_info": {
   "codemirror_mode": "text/x-c++src",
   "file_extension": ".cpp",
   "mimetype": "text/x-c++src",
   "name": "c++",
   "version": ""
  }
 },
 "nbformat": 4,
 "nbformat_minor": 2
}
