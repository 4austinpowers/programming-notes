{
 "cells": [
  {
   "cell_type": "markdown",
   "metadata": {},
   "source": [
    "## Classes\n",
    "\n",
    "Often variables share some theme. Classes are a way to group data together. Classes are prototypes for this self-similar code that you can use to create instances of the class. Each instance is called an object. \n",
    "\n",
    "Objects have properties, which are varibles containing data about the object. So a dog object might have relevant properties called ears, eyes, tail, fur, color etc. \n",
    "\n",
    "By default, these properties are private data members, so they can only be accessed within the scope of the class code. We can specify in the code to make certain properties public, or available to the whole code base, if we think it will be useful. Typically we like to keep properties private if we do not want them to be access or altered elsewhere in the. Technically we can make it public and just choose not to edit them, but marking them as private helps to organize and constrain the code to execute as intended and can help avoid bugs. "
   ]
  },
  {
   "cell_type": "code",
   "execution_count": 1,
   "metadata": {},
   "outputs": [],
   "source": [
    "class gamePlayer\n",
    "{\n",
    "    public: \n",
    "        int x, y; \n",
    "        int speed; \n",
    "    private:\n",
    "        char name; \n",
    "    \n",
    "};"
   ]
  },
  {
   "cell_type": "code",
   "execution_count": 2,
   "metadata": {},
   "outputs": [],
   "source": [
    "//create an instance of the player object\n",
    "gamePlayer p1; "
   ]
  },
  {
   "cell_type": "code",
   "execution_count": 3,
   "metadata": {},
   "outputs": [],
   "source": [
    "//assign the x location of the player \n",
    "p1.x = 12;"
   ]
  },
  {
   "cell_type": "markdown",
   "metadata": {},
   "source": [
    "Now lets say we want to create a function to change the game player's location. This function would be a member of the class and is called a method of the class. Any argument inside a class method that shares the name of a class property is that property itself. "
   ]
  },
  {
   "cell_type": "code",
   "execution_count": 4,
   "metadata": {},
   "outputs": [],
   "source": [
    "class gamePlayer2\n",
    "{\n",
    "    public: \n",
    "        int x, y; \n",
    "        int speed; \n",
    "    \n",
    "    void setSpeed(int s)\n",
    "    {\n",
    "        speed = s;\n",
    "    }\n",
    "    \n",
    "    private: \n",
    "        char name; \n",
    "};"
   ]
  },
  {
   "cell_type": "code",
   "execution_count": 5,
   "metadata": {},
   "outputs": [
    {
     "name": "stdout",
     "output_type": "stream",
     "text": [
      "8"
     ]
    }
   ],
   "source": [
    "#include <iostream>\n",
    "\n",
    "gamePlayer2 p2; \n",
    "p2.setSpeed(8); \n",
    "\n",
    "std::cout << p2.speed; "
   ]
  },
  {
   "cell_type": "markdown",
   "metadata": {},
   "source": [
    "## Structs\n",
    "\n",
    "So what if we don't want to specify public for all our data members? What if we want the class properties and methods to default to public. Use a struct! Pretty much the only difference between classes and structs are the visibility of their data members. For the above example, we would not have to specify public and private when writing the class code. Structs were made for backwards compatibility with C, which is why the same a bit redundant - they are. But it can be useful at times. "
   ]
  },
  {
   "cell_type": "code",
   "execution_count": 6,
   "metadata": {},
   "outputs": [
    {
     "name": "stderr",
     "output_type": "stream",
     "text": [
      "input_line_13:2:5: error: 'name' is a private member of 'gamePlayer2'\n",
      " p2.name = 'a'\n",
      "    ^\n",
      "input_line_10:13:14: note: declared private here\n",
      "        char name; \n",
      "             ^\n"
     ]
    }
   ],
   "source": [
    "p2.name = 'a'"
   ]
  },
  {
   "cell_type": "markdown",
   "metadata": {},
   "source": [
    "Boo. Let's make a struct. "
   ]
  },
  {
   "cell_type": "code",
   "execution_count": 7,
   "metadata": {},
   "outputs": [],
   "source": [
    "struct gamePlayer3\n",
    "{\n",
    "    int x, y; \n",
    "    int speed; \n",
    "    char name;\n",
    "    \n",
    "    void setSpeed(int s)\n",
    "    {\n",
    "        speed = s;\n",
    "    }   \n",
    "};"
   ]
  },
  {
   "cell_type": "code",
   "execution_count": 8,
   "metadata": {},
   "outputs": [
    {
     "name": "stdout",
     "output_type": "stream",
     "text": [
      "(char) 'a'\n"
     ]
    }
   ],
   "source": [
    "gamePlayer3 p3; \n",
    "p3.name = 'a'; \n",
    "p3.name"
   ]
  },
  {
   "cell_type": "markdown",
   "metadata": {},
   "source": [
    "Structs are good for creating simple structures of data, for example a vector of floats. You can still have struct methods, but the difference is that we should just use structs for simple data organization, not complex functionality. This is not a hard rule, but just an industry standard. "
   ]
  },
  {
   "cell_type": "code",
   "execution_count": 9,
   "metadata": {},
   "outputs": [],
   "source": [
    "struct vec2\n",
    "{\n",
    "    //vector with x and y components \n",
    "    float x, y; \n",
    "    \n",
    "     //set the xy values \n",
    "    void setXY(float xIn, float yIn)\n",
    "    {\n",
    "        x = xIn; \n",
    "        y = yIn; \n",
    "    }\n",
    "    \n",
    "    //add two vectors\n",
    "    void addVec2(vec2 v2) \n",
    "    {\n",
    "        x = v2.x + x;\n",
    "        y = v2.y + y;\n",
    "        \n",
    "    }\n",
    "};"
   ]
  },
  {
   "cell_type": "markdown",
   "metadata": {},
   "source": [
    "## Writing a Class\n",
    "\n",
    "Heres a more in depth example of a log class! "
   ]
  },
  {
   "cell_type": "code",
   "execution_count": 10,
   "metadata": {},
   "outputs": [],
   "source": [
    "#include <iostream>\n",
    "\n",
    "class Logger\n",
    "{\n",
    "    private: \n",
    "        int logLevel = 0; \n",
    "    public: \n",
    "        const int logLevelTrace = 0;\n",
    "        const int logLevelWarn = 1;\n",
    "        const int logLevelError = 2;\n",
    "        \n",
    "        void setLevel(int level)\n",
    "        {\n",
    "            logLevel = level; \n",
    "        }\n",
    "    \n",
    "        void Trace(const char* message)\n",
    "        {\n",
    "            if (logLevel >= logLevelTrace)\n",
    "                std::cout << \"[TRACE]: \" << message << std::endl; \n",
    "        }\n",
    "        void Warn(const char* message)\n",
    "        {\n",
    "            if (logLevel >= logLevelWarn)\n",
    "                std::cout << \"[WARN]: \" << message << std::endl; \n",
    "        }\n",
    "        void Error(const char* message)\n",
    "        {\n",
    "            if (logLevel >= logLevelError)\n",
    "                std::cout << \"[ERROR]: \" << message << std::endl; \n",
    "        }\n",
    "};"
   ]
  },
  {
   "cell_type": "code",
   "execution_count": 12,
   "metadata": {},
   "outputs": [
    {
     "name": "stdout",
     "output_type": "stream",
     "text": [
      "[WARN]: warning message\n",
      "[TRACE]: trace message\n"
     ]
    }
   ],
   "source": [
    "Logger logger; \n",
    "logger.setLevel(logger.logLevelWarn); \n",
    "\n",
    "logger.Warn(\"warning message\");\n",
    "logger.Trace(\"trace message\");\n",
    "logger.Error(\"error message\");"
   ]
  },
  {
   "cell_type": "code",
   "execution_count": null,
   "metadata": {},
   "outputs": [],
   "source": []
  }
 ],
 "metadata": {
  "kernelspec": {
   "display_name": "xeus C++14",
   "language": "",
   "name": "xeus-cling-cpp14"
  },
  "language_info": {
   "codemirror_mode": "text/x-c++src",
   "file_extension": ".cpp",
   "mimetype": "text/x-c++src",
   "name": "c++",
   "version": ""
  }
 },
 "nbformat": 4,
 "nbformat_minor": 2
}
