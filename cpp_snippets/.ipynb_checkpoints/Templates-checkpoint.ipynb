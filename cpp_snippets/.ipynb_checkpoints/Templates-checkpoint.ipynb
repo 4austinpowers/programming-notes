{
 "cells": [
  {
   "cell_type": "markdown",
   "metadata": {},
   "source": [
    "## Templates \n",
    "\n",
    "Templates are powerful. They are mainly used for when you have a function that will want to take in different types. If we simply wanted to make function that prints an `int`, easy enough. But if we want to add the functionality for floats and strings, we have to overload the function where the only thing that changes is the argument type. "
   ]
  },
  {
   "cell_type": "code",
   "execution_count": 1,
   "metadata": {},
   "outputs": [
    {
     "name": "stdout",
     "output_type": "stream",
     "text": [
      "12\n"
     ]
    }
   ],
   "source": [
    "#include <iostream>\n",
    "#include <string>\n",
    "\n",
    "void Print(int i)\n",
    "{\n",
    "    std::cout << i << std::endl; \n",
    "}\n",
    "\n",
    "Print(12);"
   ]
  },
  {
   "cell_type": "code",
   "execution_count": 2,
   "metadata": {},
   "outputs": [
    {
     "name": "stdout",
     "output_type": "stream",
     "text": [
      "hello\n"
     ]
    }
   ],
   "source": [
    "void Print(std::string s)\n",
    "{\n",
    "    std::cout << s << std::endl; \n",
    "}\n",
    "\n",
    "Print(\"hello\");"
   ]
  },
  {
   "cell_type": "markdown",
   "metadata": {},
   "source": [
    "A template solves this code duplication issue. A template basically writes code for you based on a set of rules. You just need to add the first two lines to the function you see below. `T` could be any variable name. `T` can be subsituted for any typename in used in the main code. \n",
    "\n",
    "Templates don't actually exist in the code until you use them, so this may cause some weird debugging issues. A version of the temlate code with the type you are using gets created at compile time.  "
   ]
  },
  {
   "cell_type": "code",
   "execution_count": 3,
   "metadata": {},
   "outputs": [],
   "source": [
    "template <typename T>\n",
    "void Print(T value)\n",
    "{\n",
    "    std::cout << value << std::endl; \n",
    "}"
   ]
  },
  {
   "cell_type": "code",
   "execution_count": 4,
   "metadata": {},
   "outputs": [
    {
     "name": "stdout",
     "output_type": "stream",
     "text": [
      "3.4\n",
      "4\n",
      "hello world\n"
     ]
    }
   ],
   "source": [
    "Print(3.4);\n",
    "Print(4);\n",
    "Print(\"hello world\");"
   ]
  },
  {
   "cell_type": "markdown",
   "metadata": {},
   "source": [
    "Templates are also not limited to types. They can be used for sizes (this is actually how the standard library works!). "
   ]
  },
  {
   "cell_type": "code",
   "execution_count": 5,
   "metadata": {},
   "outputs": [],
   "source": [
    "template<int N>\n",
    "class Arr\n",
    "{\n",
    "    private: \n",
    "        int arr[N]; \n",
    "    public: \n",
    "        int GetSize() const {return N;}\n",
    "};"
   ]
  },
  {
   "cell_type": "code",
   "execution_count": 6,
   "metadata": {},
   "outputs": [],
   "source": [
    "Arr<5> A;\n",
    "Arr<29> B;"
   ]
  },
  {
   "cell_type": "code",
   "execution_count": 7,
   "metadata": {},
   "outputs": [
    {
     "name": "stdout",
     "output_type": "stream",
     "text": [
      "(int) 5\n"
     ]
    }
   ],
   "source": [
    "A.GetSize()"
   ]
  },
  {
   "cell_type": "code",
   "execution_count": 8,
   "metadata": {},
   "outputs": [
    {
     "name": "stdout",
     "output_type": "stream",
     "text": [
      "(int) 29\n"
     ]
    }
   ],
   "source": [
    "B.GetSize() "
   ]
  },
  {
   "cell_type": "markdown",
   "metadata": {},
   "source": [
    "Lets go one step further and generalize the Arr class to be any type and any size. So we will have array of type, T, and size N. "
   ]
  },
  {
   "cell_type": "code",
   "execution_count": 9,
   "metadata": {},
   "outputs": [],
   "source": [
    "template<typename T, int N>\n",
    "class Array\n",
    "{\n",
    "    private: \n",
    "        T arr[N]; \n",
    "    public: \n",
    "        int GetSize() const {return N;}\n",
    "};"
   ]
  },
  {
   "cell_type": "code",
   "execution_count": 10,
   "metadata": {},
   "outputs": [],
   "source": [
    "Array<std::string, 50> C;"
   ]
  },
  {
   "cell_type": "code",
   "execution_count": 11,
   "metadata": {},
   "outputs": [
    {
     "name": "stdout",
     "output_type": "stream",
     "text": [
      "(int) 50\n"
     ]
    }
   ],
   "source": [
    "C.GetSize()"
   ]
  },
  {
   "cell_type": "code",
   "execution_count": null,
   "metadata": {},
   "outputs": [],
   "source": []
  }
 ],
 "metadata": {
  "kernelspec": {
   "display_name": "xeus C++14",
   "language": "",
   "name": "xeus-cling-cpp14"
  },
  "language_info": {
   "codemirror_mode": "text/x-c++src",
   "file_extension": ".cpp",
   "mimetype": "text/x-c++src",
   "name": "c++",
   "version": ""
  }
 },
 "nbformat": 4,
 "nbformat_minor": 2
}
