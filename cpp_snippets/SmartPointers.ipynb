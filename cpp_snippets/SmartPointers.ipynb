{
 "cells": [
  {
   "cell_type": "markdown",
   "metadata": {},
   "source": [
    "## Smart Pointers \n",
    "\n",
    "Recall that `new` is used to create variables on the heap, and `delete` is used to delete those variables to free up space. Smart Pointers are a way to automate that process; so you don't have to call delete after delete. They are a wrapper around a real raw pointer. There are different types of smart pointers that solve this problem for different use-cases. \n",
    "\n",
    "#### Unique Pointer \n",
    "\n",
    "A unique pointer is a scoped pointer, who's lifetime is determined by the scope it is in. You can't copy a unique pointer, since its pointing to a specific place in memory, so when the unique pointer dies, any other references to that pointer would also die. \n",
    "\n"
   ]
  },
  {
   "cell_type": "code",
   "execution_count": 1,
   "metadata": {},
   "outputs": [],
   "source": [
    "class Entity\n",
    "{\n",
    "    public: \n",
    "        Entity()\n",
    "        {\n",
    "            std::cout << \"created entity!\" << std::endl; \n",
    "        }\n",
    "\n",
    "        ~Entity()\n",
    "        {\n",
    "            std::cout << \"destroyed entity!\" << std::endl; \n",
    "        }\n",
    "    \n",
    "};"
   ]
  },
  {
   "cell_type": "code",
   "execution_count": 3,
   "metadata": {},
   "outputs": [
    {
     "name": "stdout",
     "output_type": "stream",
     "text": [
      "created entity!\n",
      "destroyed entity!\n"
     ]
    }
   ],
   "source": [
    "{\n",
    "    std::unique_ptr<Entity> entity = std::make_unique<Entity>(); \n",
    "    \n",
    "}"
   ]
  },
  {
   "cell_type": "code",
   "execution_count": null,
   "metadata": {},
   "outputs": [],
   "source": []
  }
 ],
 "metadata": {
  "kernelspec": {
   "display_name": "xeus C++14",
   "language": "",
   "name": "xeus-cling-cpp14"
  },
  "language_info": {
   "codemirror_mode": "text/x-c++src",
   "file_extension": ".cpp",
   "mimetype": "text/x-c++src",
   "name": "c++",
   "version": ""
  }
 },
 "nbformat": 4,
 "nbformat_minor": 2
}
