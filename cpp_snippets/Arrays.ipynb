{
 "cells": [
  {
   "cell_type": "markdown",
   "metadata": {},
   "source": [
    "## Arrays\n",
    "\n",
    "An array is a collection (usually of the same type) in a row. You can next arrays to creates matrices and so on. It is like having multiple variables in one variable. \n",
    "\n",
    "Arrays in C++ are integer pointers. So the array itself is a pointer to the data in the array. \n",
    "\n",
    "You can define an array as so: "
   ]
  },
  {
   "cell_type": "code",
   "execution_count": 1,
   "metadata": {},
   "outputs": [],
   "source": [
    "int example[5]; //an array of 5 integers "
   ]
  },
  {
   "cell_type": "code",
   "execution_count": 2,
   "metadata": {},
   "outputs": [],
   "source": [
    "example[0] = 2; //set the integer at the first index to 0 \n",
    "example[4] = 4; //set last index to 4"
   ]
  },
  {
   "cell_type": "code",
   "execution_count": 3,
   "metadata": {},
   "outputs": [
    {
     "name": "stdout",
     "output_type": "stream",
     "text": [
      "2"
     ]
    }
   ],
   "source": [
    "#include <iostream>\n",
    "std::cout << example[0]; "
   ]
  },
  {
   "cell_type": "markdown",
   "metadata": {},
   "source": [
    "Since exmaple is an integer pointer, we can do this: "
   ]
  },
  {
   "cell_type": "code",
   "execution_count": 4,
   "metadata": {},
   "outputs": [],
   "source": [
    "int* ptr = example; "
   ]
  },
  {
   "cell_type": "markdown",
   "metadata": {},
   "source": [
    "Arrays go great with for loops."
   ]
  },
  {
   "cell_type": "code",
   "execution_count": 5,
   "metadata": {},
   "outputs": [
    {
     "name": "stdout",
     "output_type": "stream",
     "text": [
      "20004"
     ]
    }
   ],
   "source": [
    "for (int i = 0; i < 5; i++)\n",
    "{\n",
    "    std::cout << example[i]; \n",
    "}"
   ]
  },
  {
   "cell_type": "markdown",
   "metadata": {},
   "source": [
    "Something interesting: when we access example[2], the compiler is actually first going to the 0th index of the array pointer, and then adding 8 bytes (4 bytes per integer). All of the data in array is stored continguously in a line in memory. So doing something like this: \n",
    "\n",
    "```c++\n",
    "example[2] = 5; \n",
    "```\n",
    "\n",
    "is actually us writing to an offset of 8 bytes from the pointer exmaple. So we can do it the same by doing this: \n"
   ]
  },
  {
   "cell_type": "code",
   "execution_count": 6,
   "metadata": {},
   "outputs": [
    {
     "name": "stdout",
     "output_type": "stream",
     "text": [
      "(int) 5\n"
     ]
    }
   ],
   "source": [
    "//take the integer pointer (array) -- start of the array in memory\n",
    "//add two to the memory location \n",
    "//dereference \n",
    "//set equal to 5\n",
    "*(example+2) = 5;\n",
    "example[2]"
   ]
  },
  {
   "cell_type": "markdown",
   "metadata": {},
   "source": [
    "We can also create arrays on the heap (which means it will stay alive until we destroy it or until the program ends). "
   ]
  },
  {
   "cell_type": "code",
   "execution_count": 7,
   "metadata": {},
   "outputs": [],
   "source": [
    "int stackArr[5]; \n",
    "int* heapArr = new int[5]; "
   ]
  },
  {
   "cell_type": "code",
   "execution_count": 8,
   "metadata": {},
   "outputs": [],
   "source": [
    "delete[] heapArr; //must use delete with brackers"
   ]
  },
  {
   "cell_type": "markdown",
   "metadata": {},
   "source": [
    "You can get the size of the array in bytes. You can divide that by the data type to get the number of items in the array. You can only do this with stack allocated arrays."
   ]
  },
  {
   "cell_type": "code",
   "execution_count": 9,
   "metadata": {},
   "outputs": [
    {
     "name": "stdout",
     "output_type": "stream",
     "text": [
      "(unsigned long) 5\n"
     ]
    }
   ],
   "source": [
    "sizeof(example)/sizeof(int)"
   ]
  }
 ],
 "metadata": {
  "kernelspec": {
   "display_name": "xeus C++14",
   "language": "",
   "name": "xeus-cling-cpp14"
  },
  "language_info": {
   "codemirror_mode": "text/x-c++src",
   "file_extension": ".cpp",
   "mimetype": "text/x-c++src",
   "name": "c++",
   "version": ""
  }
 },
 "nbformat": 4,
 "nbformat_minor": 2
}
