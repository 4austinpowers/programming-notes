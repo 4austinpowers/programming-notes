{
 "cells": [
  {
   "cell_type": "markdown",
   "metadata": {},
   "source": [
    "## Constructor Member Initializer Lists \n",
    "\n",
    "A Constructor Member Initializer Lists is a way for us to initialize our class member functions in the constructor. Basically, it is a slightly easier, faster, and cleaner way to initialize data members of a class in the constructor. Ordinarily, we might init the data members like so: \n"
   ]
  },
  {
   "cell_type": "code",
   "execution_count": 1,
   "metadata": {},
   "outputs": [
    {
     "name": "stdout",
     "output_type": "stream",
     "text": [
      "Unknown\n",
      "Billy\n"
     ]
    }
   ],
   "source": [
    "#include<string>\n",
    "#include<iostream>\n",
    "\n",
    "class Entity \n",
    "{\n",
    "    private: \n",
    "        std::string m_Name; \n",
    "    public: \n",
    "        //constructor if no name is given \n",
    "        Entity ()\n",
    "        {\n",
    "            m_Name = \"Unknown\";\n",
    "        }\n",
    "    \n",
    "        //constructor if name is given \n",
    "        Entity (const std::string& name)\n",
    "        {\n",
    "            m_Name = name;\n",
    "        }\n",
    "    \n",
    "    //print the name \n",
    "    const std::string& getName() const {return m_Name;}\n",
    "};\n",
    "\n",
    "Entity e1; \n",
    "std::cout << e1.getName() << std::endl; \n",
    "\n",
    "Entity e2(\"Billy\"); \n",
    "std::cout << e2.getName() << std::endl;"
   ]
  },
  {
   "cell_type": "markdown",
   "metadata": {},
   "source": [
    "This works fine, where we use `=` to assign the init data for the various data members, but we can actually do it a bit cleaner. In the constructor after the `()`, we can add a colon, `:`, followed by each data member name and its value in parenthesis. "
   ]
  },
  {
   "cell_type": "code",
   "execution_count": 2,
   "metadata": {},
   "outputs": [
    {
     "name": "stdout",
     "output_type": "stream",
     "text": [
      "Unknown\n",
      "Billy\n"
     ]
    }
   ],
   "source": [
    "class Entity2 \n",
    "{\n",
    "    private: \n",
    "        std::string m_Name; \n",
    "        int score; \n",
    "    public: \n",
    "        //constructor if no name is given \n",
    "        Entity2 ()\n",
    "            : m_Name(\"Unknown\"), score(0)\n",
    "        {}\n",
    "    \n",
    "        //constructor if name is given \n",
    "        Entity2 (const std::string& name)\n",
    "            : m_Name(name), score(0)\n",
    "        {}\n",
    "    \n",
    "    //print the name \n",
    "    const std::string& getName() const {return m_Name;}\n",
    "};\n",
    "\n",
    "Entity2 e2_1; \n",
    "std::cout << e2_1.getName() << std::endl; \n",
    "\n",
    "Entity2 e2_2(\"Billy\"); \n",
    "std::cout << e2_2.getName() << std::endl;"
   ]
  },
  {
   "cell_type": "markdown",
   "metadata": {},
   "source": [
    "A few things to keep in mind: \n",
    "    \n",
    "1. order matters! You must keep the order in which list out the data member init list as you have declared them in the scope of the class. \n",
    "\n",
    "2. Multiple init parameters are separated by a comma, and no `;` at the end.\n",
    "\n",
    "Member Initializer Lists are also useful for avoiding duplicate code. By declaring "
   ]
  },
  {
   "cell_type": "code",
   "execution_count": 3,
   "metadata": {},
   "outputs": [],
   "source": [
    "class Example\n",
    "{\n",
    "    public: \n",
    "        //constructor with no args\n",
    "        Example()\n",
    "        {\n",
    "            std::cout << \"created Example with no args\" << std::endl;\n",
    "        }\n",
    "\n",
    "        //constructor with args\n",
    "        Example(int x)\n",
    "        {\n",
    "            std::cout << \"created Example with \" << x << std::endl;\n",
    "        }\n",
    "};\n",
    "\n",
    "class Test_NoList\n",
    "{\n",
    "    private:\n",
    "        Example e; //create Example object \n",
    "    \n",
    "    public: \n",
    "        Test_NoList()\n",
    "        {\n",
    "            e = Example(8); //init without list \n",
    "        }\n",
    "    \n",
    "};\n"
   ]
  },
  {
   "cell_type": "code",
   "execution_count": 4,
   "metadata": {},
   "outputs": [
    {
     "name": "stdout",
     "output_type": "stream",
     "text": [
      "created Example with no args\n",
      "created Example with 8\n"
     ]
    }
   ],
   "source": [
    "Test_NoList t1; "
   ]
  },
  {
   "cell_type": "markdown",
   "metadata": {},
   "source": [
    "The Example object constructor gets called twice! This is because we are actually creating it twice, once in the private scope and once in the public. The first is getting thrown away immediately, a waste of compute. You can see that we write `Example` twice; this is where the error is happeing. We can fix that with a constructor initializer list. "
   ]
  },
  {
   "cell_type": "code",
   "execution_count": 5,
   "metadata": {},
   "outputs": [],
   "source": [
    "class Test_List\n",
    "{\n",
    "    private:\n",
    "    Example e; //create Example object \n",
    "    \n",
    "    public: \n",
    "        Test_List()\n",
    "            : e(8)\n",
    "        {}\n",
    "};"
   ]
  },
  {
   "cell_type": "code",
   "execution_count": 6,
   "metadata": {},
   "outputs": [
    {
     "name": "stdout",
     "output_type": "stream",
     "text": [
      "created Example with 8\n"
     ]
    }
   ],
   "source": [
    "Test_List t2; "
   ]
  },
  {
   "cell_type": "markdown",
   "metadata": {},
   "source": [
    "This fixes the issue! "
   ]
  }
 ],
 "metadata": {
  "kernelspec": {
   "display_name": "xeus C++14",
   "language": "",
   "name": "xeus-cling-cpp14"
  },
  "language_info": {
   "codemirror_mode": "text/x-c++src",
   "file_extension": ".cpp",
   "mimetype": "text/x-c++src",
   "name": "c++",
   "version": ""
  }
 },
 "nbformat": 4,
 "nbformat_minor": 2
}
