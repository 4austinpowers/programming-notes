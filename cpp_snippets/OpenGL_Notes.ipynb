{
 "cells": [
  {
   "cell_type": "markdown",
   "metadata": {},
   "source": [
    "# OpenGL Notes\n",
    "\n",
    "# TO DO \n",
    "\n",
    "* link videos \n",
    "\n",
    "Check out these tutorial series for implementation! \n",
    "* [TheChernoProject Tutorial Series]()\n",
    "* [Coding Made Easy Tutorial Series](https://www.youtube.com/watch?v=Mbk9M_R60KU&list=PLHJE4y54mpC5UT0fouyswCW9e1HStmlXL&index=1)\n",
    "\n",
    "These notes follow Cherno's series in C++. \n",
    "\n",
    "OpenGL is a graphics API - it allows us to access our GPU for graphics rendering. The first thing to know about OpenGL is that it is not a library or game engine. It is just a specification. There is no code or implementation you write! So this means you cannot download it. Your GPU manufacturer, so NVIDIA, Intel, or AMD are the ones who actually implement it (which also implies that it is not actually open source. OpenGL is not necessarily the \"best\" graphics API, there is also  Direct3d, Vulcan are other APIs for this purpose. OpenGL is just easy to learn and cross-platform. \n",
    "\n",
    "OpenGL was orginally written in the 90s. Modern OpenGL is a variety that gives you more control on functions you can write. Specifically it allows you to write shaders, programs that run on your GPU. However, this means there is some setup you need to do to make this work. \n",
    "\n",
    "## Installing OpenGL \n",
    "\n",
    "A great tutorial on setting up OpenGL can be found [here](https://www.youtube.com/watch?v=OR4fNpBjmq8)\n",
    "\n",
    "A few additional libraries we will need: \n",
    "* [Glew]() helps us abstract away some of the boiler plate code that makes OpenGL work. \n",
    "* [GLFW](www.glfw.org) provide an implementation for creating a window, a context, and give access to input \n",
    "    \n",
    "    \n",
    "The first step in actually writing OpenGL code is first including the GLEW and other libraries that are dependencies. You may notice that there is no actual OpenGL library. This is because most machines come with OpenGL already installed. You can see a video for general Visual Studio static library linking [here](https://www.youtube.com/watch?v=or1dAmUO8k0). \n",
    "\n",
    "## Getting Started \n",
    "\n",
    "As mentioned, there is some boilerplate setup you need to do to get a Modern OpenGL project going. You'll need to create a vertex buffer and a shader. \n",
    "\n",
    "#### Vertex Buffer \n",
    "\n",
    "A vertex buffer is just a buffer in memory that we can push bytes of data into. The difference between this and just a standard array is that the vertex buffer exists in our GPU. The idea is that we push a bunch of data into the vertex buffer and issue a draw call to draw that data, which just tells the GPU \"hey, render the data in that vertex buffer\".  We need to tell the GPU how to read that data and how to render it on the screen. This draw call comes from the CPU. \n",
    "\n",
    "#### Shader \n",
    "\n",
    "The shader is program that runs on the GPU. It takes the draw call, and interprets how to layout the vertex buffer data and render it to the screen. \n",
    "\n",
    "An important thing to understand is that OpenGL is a state machine. This means that the programmer sets a series of states, for OpenGL to execute. We define the states for OpenGl, so when we send it a vertex buffer and shader, it knows how to render the image based on its state. "
   ]
  },
  {
   "cell_type": "code",
   "execution_count": null,
   "metadata": {},
   "outputs": [],
   "source": []
  }
 ],
 "metadata": {
  "kernelspec": {
   "display_name": "Python 3",
   "language": "python",
   "name": "python3"
  },
  "language_info": {
   "codemirror_mode": {
    "name": "ipython",
    "version": 3
   },
   "file_extension": ".py",
   "mimetype": "text/x-python",
   "name": "python",
   "nbconvert_exporter": "python",
   "pygments_lexer": "ipython3",
   "version": "3.6.3"
  }
 },
 "nbformat": 4,
 "nbformat_minor": 2
}
