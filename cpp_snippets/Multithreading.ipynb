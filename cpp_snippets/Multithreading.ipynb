{
 "cells": [
  {
   "cell_type": "markdown",
   "metadata": {},
   "source": [
    "# Multithreading \n",
    "\n",
    "Multithreading is the concept in programming of executing the same piece of code on multiple threads of a computer. Normally a piece of code is just executed on one, but since most computers have 2 or more cores, you can see performance gains by parallizing pieces of your code. This is especially important when you have an application with many things to compute. To use multithreading, you can use the multithreading library in the C++ standard library. \n",
    "\n",
    "The main jist is that you need to start a thread explicitly, then join that thread back to the main part of the code when it is done executing. \n",
    "\n",
    "To start a thread, you use `std::thread` to create a new thread object. \n",
    "\n",
    "You pass a function pointer, or just the function name, into that object. \n",
    "\n",
    "The code inside that function runs on another thread, until its job is complete (you specify how this is determined). Then, you join the thread back with the main code and continue the code as usual. Below is an example: \n"
   ]
  },
  {
   "cell_type": "markdown",
   "metadata": {},
   "source": [
    "```c++\n",
    "#include <iostream>\n",
    "#include <thread>\n",
    "\n",
    "static bool is_finished = false; \n",
    "\n",
    "void DoWork()\n",
    "{\n",
    "    \n",
    "    std::cout << \"Starting Thread ID: \" << std:this_thread::get_id() << std::endl; \n",
    "    \n",
    "    while (!is_finished)\n",
    "    {\n",
    "        std::cout << \"Working..\\n\"; \n",
    "        std::this_thread::sleep_for(100) //sleep for 100ms \n",
    "    }\n",
    "    \n",
    "}\n",
    "\n",
    "int main()\n",
    "{\n",
    "    // create a thread that \"works\" until you end it by pressing enter \n",
    "    std::thread worker(DoWork); \n",
    "    \n",
    "    //once this is passed (press enter) the bool will switch\n",
    "    std:cin.get(); \n",
    "    is_finished = true; \n",
    "    //now the thread can be join with the main program and it can run as normal \n",
    "    worker.join(); \n",
    "    std::cout << \"thread is finished\" << std::endl; \n",
    "    \n",
    "    std::cin.get(); //press enter to end the program \n",
    "    \n",
    "}\n",
    "\n",
    "```"
   ]
  },
  {
   "cell_type": "code",
   "execution_count": null,
   "metadata": {},
   "outputs": [],
   "source": []
  }
 ],
 "metadata": {
  "kernelspec": {
   "display_name": "xeus C++14",
   "language": "",
   "name": "xeus-cling-cpp14"
  },
  "language_info": {
   "codemirror_mode": "text/x-c++src",
   "file_extension": ".cpp",
   "mimetype": "text/x-c++src",
   "name": "c++",
   "version": ""
  }
 },
 "nbformat": 4,
 "nbformat_minor": 2
}
