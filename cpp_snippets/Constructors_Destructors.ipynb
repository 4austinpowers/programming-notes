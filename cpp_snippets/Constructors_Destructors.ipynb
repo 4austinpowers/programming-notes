{
 "cells": [
  {
   "cell_type": "markdown",
   "metadata": {},
   "source": [
    "## Constructors \n",
    "\n",
    "A constructor gives default arguments for a class. A construcutor is called whenever a class is instantiated into a new object, so you can add any initialization code here. Below we see what happens with no constructor. A constructor (and destructor) is always a public method. "
   ]
  },
  {
   "cell_type": "code",
   "execution_count": 1,
   "metadata": {},
   "outputs": [
    {
     "name": "stdout",
     "output_type": "stream",
     "text": [
      "0 0\n"
     ]
    }
   ],
   "source": [
    "#include <iostream>\n",
    "\n",
    "//with no construcutor \n",
    "class Entity\n",
    "{\n",
    "  public:\n",
    "    float X, Y;\n",
    "    \n",
    "    void Print()\n",
    "    {\n",
    "        std::cout << X << \" \" << Y << std::endl; \n",
    "    }\n",
    "    \n",
    "};\n",
    "\n",
    "Entity e; \n",
    "e.Print()"
   ]
  },
  {
   "cell_type": "markdown",
   "metadata": {},
   "source": [
    "Here in Cling, our default values for the class variables are initialized to zero. In Visual Studio, however, these values would get set to whatever was in their memory before the program start, so some garbage value. If we want to preset these values, we need to use a constructor. To do this, we might add an init method and call it whenever we instantiate an object. But this is a lot of excessive code. \n",
    "\n",
    "```c++\n",
    "void Init()\n",
    "{\n",
    "    X = 1.0; \n",
    "    Y = 1.0; \n",
    "}\n",
    "```\n",
    "\n",
    "A contructor is actually very similar syntactically! It just does not have a return type and always shares its method name with the class. \n",
    "\n",
    "```c++\n",
    "Entity()\n",
    "{\n",
    "    X = 1.0; \n",
    "    Y = 1.0; \n",
    "}\n",
    "```"
   ]
  },
  {
   "cell_type": "code",
   "execution_count": 2,
   "metadata": {},
   "outputs": [
    {
     "name": "stdout",
     "output_type": "stream",
     "text": [
      "1 1\n"
     ]
    }
   ],
   "source": [
    "#include <iostream>\n",
    "\n",
    "//with no construcutor \n",
    "class Entity2\n",
    "{\n",
    "  public:\n",
    "    float X, Y;\n",
    "    \n",
    "    //constructor \n",
    "    Entity2()\n",
    "    {\n",
    "        X = 1.0; \n",
    "        Y = 1.0; \n",
    "    }\n",
    "\n",
    "    void Print()\n",
    "    {\n",
    "        std::cout << X << \" \" << Y << std::endl; \n",
    "    }\n",
    "    \n",
    "};\n",
    "\n",
    "Entity2 e2; \n",
    "e2.Print()"
   ]
  },
  {
   "cell_type": "markdown",
   "metadata": {},
   "source": [
    "## Destructors \n",
    "\n",
    "Similar to how a constructor gets called whenever you instantiate an object, a destructor gets called whenever you destroy an object. This is mainly for freeing memory used by that object. \n",
    "\n",
    "A destructor looks exactly like a constructor except begins with a tilda ~. You also don't need to put any code into it since its duty is just to destroy all the object data from memory. Sometimes it may be nice to add a print message to log the destruction. "
   ]
  },
  {
   "cell_type": "code",
   "execution_count": 3,
   "metadata": {},
   "outputs": [],
   "source": [
    "class C\n",
    "{\n",
    "    public: \n",
    "        int x, y; \n",
    "        C()\n",
    "        {\n",
    "            int x = 0; \n",
    "            int y = 1;\n",
    "        }\n",
    "\n",
    "        //destructor \n",
    "        ~C()\n",
    "        {\n",
    "            std::cout << \"destroyed C\" << std::endl; \n",
    "        }; \n",
    "    \n",
    "};"
   ]
  },
  {
   "cell_type": "markdown",
   "metadata": {},
   "source": [
    "I will instantiate C in a scope, so that it gets destroyed at the end of a scope (this woudl normally happen at the end of a main function in a real program)."
   ]
  },
  {
   "cell_type": "code",
   "execution_count": 4,
   "metadata": {},
   "outputs": [
    {
     "name": "stdout",
     "output_type": "stream",
     "text": [
      "901842236\n",
      "destroyed C\n"
     ]
    }
   ],
   "source": [
    "{\n",
    "    C c; \n",
    "    std::cout << c.x << std::endl; \n",
    "}"
   ]
  }
 ],
 "metadata": {
  "kernelspec": {
   "display_name": "xeus C++14",
   "language": "",
   "name": "xeus-cling-cpp14"
  },
  "language_info": {
   "codemirror_mode": "text/x-c++src",
   "file_extension": ".cpp",
   "mimetype": "text/x-c++src",
   "name": "c++",
   "version": ""
  }
 },
 "nbformat": 4,
 "nbformat_minor": 2
}
