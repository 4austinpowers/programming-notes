{
 "cells": [
  {
   "cell_type": "markdown",
   "metadata": {},
   "source": [
    "## Static \n",
    "\n",
    "There are a few different ways to use the `static` keyword in C++. Static can be used inside a function, inside a class, or outside the scope of either. \n",
    "\n",
    "#### Static Outside Scope \n",
    "\n",
    "Static outside the scope of a function or class marks a variable to have the same value shared accross multiple C++ files. This is a sort of hyper global variable. Since these Jupyter notebooks cannot have multiple files, I will not provide an example, but you can find one [here](https://www.youtube.com/watch?v=f3FVU-iwNuA&list=PLlrATfBNZ98dudnM48yfGUldqGD0S4FFb&index=21).\n",
    "\n",
    "#### Static in a function \n",
    "\n",
    "In regards to static inside the scope of a function,  normally a variable gets deleted from memory after it's out of scope. But variables static in a function will stay in memory, but only within the scope of that function call. In the example below, if `a` was not marked static, a would rest to zero at every call and the output would always be printing `a`. Instead, with static, a is initialized on the first call, and its value is carried over for each function call. "
   ]
  },
  {
   "cell_type": "code",
   "execution_count": 1,
   "metadata": {},
   "outputs": [
    {
     "name": "stdout",
     "output_type": "stream",
     "text": [
      "0\n",
      "1\n",
      "2\n",
      "3\n",
      "4\n",
      "5\n"
     ]
    }
   ],
   "source": [
    "#include <iostream>\n",
    "void IncrementLog()\n",
    "{\n",
    "    static int a = 0; \n",
    "    std::cout << a << std::endl; \n",
    "    a++; \n",
    "    \n",
    "}\n",
    "\n",
    "IncrementLog();\n",
    "IncrementLog();\n",
    "IncrementLog();\n",
    "IncrementLog();\n",
    "IncrementLog();\n",
    "IncrementLog();\n"
   ]
  },
  {
   "cell_type": "markdown",
   "metadata": {},
   "source": [
    "This is the equivalent of setting a global variable and using inside the scope of the function, except a global variable would be available to all other functions as well. With the static implementation, `a` is only available to the `IncrementLog` function. Below is an example of the global variable implementation. "
   ]
  },
  {
   "cell_type": "code",
   "execution_count": 2,
   "metadata": {},
   "outputs": [],
   "source": [
    "int b = 0;"
   ]
  },
  {
   "cell_type": "code",
   "execution_count": 3,
   "metadata": {},
   "outputs": [
    {
     "name": "stdout",
     "output_type": "stream",
     "text": [
      "0\n",
      "1\n",
      "2\n",
      "3\n",
      "4\n"
     ]
    }
   ],
   "source": [
    "void IncrementLog2()\n",
    "{\n",
    "    std::cout << b << std::endl; \n",
    "    b++; \n",
    "}\n",
    "\n",
    "IncrementLog2();\n",
    "IncrementLog2();\n",
    "IncrementLog2();\n",
    "IncrementLog2();\n",
    "IncrementLog2();"
   ]
  },
  {
   "cell_type": "markdown",
   "metadata": {},
   "source": [
    "#### Static in Classes & Structs \n",
    "\n",
    "Static in a class or struct is very similar to static in functions. A static variable or object in a struct is one that is shared across all instances of that class. If there are 5 instances of a class, there is only one version of the shared static variable. If one instance makes a change to that static variable, then all other instances see that change. A static method shares this same idea. \n",
    "\n",
    "Both static methods and variables can be accessed without an instance of the class. You can access them using `::`. Lets see an example."
   ]
  },
  {
   "cell_type": "code",
   "execution_count": 4,
   "metadata": {},
   "outputs": [
    {
     "name": "stderr",
     "output_type": "stream",
     "text": [
      "IncrementalExecutor::executeFunction: symbol '_ZN6Entity1zE' unresolved while linking function '_GLOBAL__sub_I_cling_module_8'!\n",
      "You are probably missing the definition of Entity::z\u0000T18:3\n",
      "Maybe you need to load the corresponding shared library?\n"
     ]
    },
    {
     "name": "stdout",
     "output_type": "stream",
     "text": [
      "55778486771\n"
     ]
    }
   ],
   "source": [
    "#include <iostream>\n",
    "class Entity\n",
    "{\n",
    "    public: \n",
    "        int x, y; \n",
    "        static int z; \n",
    "    \n",
    "};\n",
    "\n",
    "\n",
    "Entity e; \n",
    "e.x = 7; //access a property as usual \n",
    "e.y = 9; \n",
    "e.z = 10; \n",
    "std::cout << e.x << e.y << e.z << std::endl; \n",
    "\n",
    "Entity e2; \n",
    "e2.x = 5; \n",
    "e2.y = 5; \n",
    "std::cout << e2.x << e2.y << e2.z << std::endl;"
   ]
  },
  {
   "cell_type": "markdown",
   "metadata": {},
   "source": [
    "We can see here that even though we did not define an e2.z, it shares the same value as that of instance e. Additionally, we can access the static member without an instance as so: "
   ]
  },
  {
   "cell_type": "code",
   "execution_count": 5,
   "metadata": {},
   "outputs": [
    {
     "name": "stderr",
     "output_type": "stream",
     "text": [
      "IncrementalExecutor::executeFunction: symbol '_ZN6Entity1zE' unresolved while linking [cling interface function]!\n",
      "You are probably missing the definition of Entity::z\u0000T18:3\n",
      "Maybe you need to load the corresponding shared library?\n"
     ]
    }
   ],
   "source": [
    "Entity::z = 0;"
   ]
  },
  {
   "cell_type": "markdown",
   "metadata": {},
   "source": [
    "We can utilize static methods in a similar way. "
   ]
  },
  {
   "cell_type": "code",
   "execution_count": 6,
   "metadata": {},
   "outputs": [
    {
     "name": "stderr",
     "output_type": "stream",
     "text": [
      "input_line_14:4:14: error: expected ';' at end of declaration list\n",
      "        int x\n",
      "             ^\n",
      "             ;\n",
      "input_line_14:12:10: error: no member named 'Print' in 'Object'\n",
      " Object::Print(); \n",
      " ~~~~~~~~^\n"
     ]
    }
   ],
   "source": [
    "class Object\n",
    "{\n",
    "    public: \n",
    "        int x\n",
    "        \n",
    "        static void Print()\n",
    "        {\n",
    "            std::cout << \"hi printing a static method\" ;\n",
    "        }\n",
    "};\n",
    "\n",
    "Object::Print(); "
   ]
  },
  {
   "cell_type": "markdown",
   "metadata": {},
   "source": [
    "Above we have no instance of Object, we are accessing the static Print method from the class itself. However, we get an error if we try to access a non-static property inside a static method. A static method must contain only static properties. The reason for this is because all non-static class methods secrelty get an instance as an arugment every time. You may have seen this in Python as `def func(self)` where `self` is the instance. There actually is no such thing as a class if you break it down, just functions that get instances as an argument. A non-static method is the same as writing a function outside a class, except it is in the classes' namespace, which is why we access it via `::`. With this in mind, it makes sense that you can't access non-static (instance) properties in a static method, because the static method doesn't know what they are, since they don't even see an instance at all! "
   ]
  },
  {
   "cell_type": "code",
   "execution_count": 7,
   "metadata": {},
   "outputs": [
    {
     "name": "stderr",
     "output_type": "stream",
     "text": [
      "input_line_15:8:74: error: invalid use of member 'x' in static member function\n",
      "            std::cout << \"printing non static x with static method: \" << x;\n",
      "                                                                         ^\n"
     ]
    }
   ],
   "source": [
    "class Object2\n",
    "{\n",
    "    public: \n",
    "        int x;\n",
    "        \n",
    "        static void Print()\n",
    "        {\n",
    "            std::cout << \"printing non static x with static method: \" << x;\n",
    "        }\n",
    "    \n",
    "};\n",
    "\n",
    "Object2::Print(); "
   ]
  }
 ],
 "metadata": {
  "kernelspec": {
   "display_name": "xeus C++14",
   "language": "",
   "name": "xeus-cling-cpp14"
  },
  "language_info": {
   "codemirror_mode": "text/x-c++src",
   "file_extension": ".cpp",
   "mimetype": "text/x-c++src",
   "name": "c++",
   "version": ""
  }
 },
 "nbformat": 4,
 "nbformat_minor": 2
}
