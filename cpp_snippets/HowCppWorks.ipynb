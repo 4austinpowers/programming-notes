{
 "cells": [
  {
   "cell_type": "markdown",
   "metadata": {},
   "source": [
    "## How C++ works\n",
    "\n",
    "[A good accompanying video](https://www.youtube.com/watch?v=SfGuIVzE_Os&list=PLlrATfBNZ98dudnM48yfGUldqGD0S4FFb&index=5)\n",
    "\n",
    "How does code go from text files to executable files? First, lets take a look at some basic code. "
   ]
  },
  {
   "cell_type": "code",
   "execution_count": 1,
   "metadata": {},
   "outputs": [],
   "source": [
    "#include <iostream>\n",
    "\n",
    "int main()\n",
    "{\n",
    "    std::cout << \"Hello World!\" << std::endl; \n",
    "}"
   ]
  },
  {
   "cell_type": "markdown",
   "metadata": {},
   "source": [
    "What do we have here? Lets start at line 1. \n",
    "\n",
    "#### Preprocessor Directives\n",
    "\n",
    "```c++\n",
    "#include <iostream> \n",
    "```\n",
    "\n",
    "Any time you see #include, this is called a preprocessor directive. As the name suggests, the compiler is directed to preprocess this file before compiling any other piece of code. `#include <iostream>` specifically imports the iostream library, which is used for printing text to the console. All it does, is search for the files related to the iostream library, and pastes it to the top of your code. So the C++ compiler actually sees thousands of lines of code, written by many programmars, when compiling your code. We stand on the shoulders of giants! \n",
    "\n",
    "You will typically include other header files that you or others wrote. By including these headers (.h file exension), you can use fuctions that were written and declared somewhere else. \n",
    "\n",
    "#### The main() function\n",
    "\n",
    "```c++\n",
    "int main()\n",
    "```\n",
    "\n",
    "Next is the line that contains the main function. Every C++ program has a main function. You can define many functions in a C++ program, but the main must be presented and it will always be executed. Typically, other functions are called in the main function to keep the code clean and modular. \n",
    "\n",
    "Any function is also always has `{}` braces. These define the scope of the function. Anything that happens inside the braces are in the scope of the function, and anything outside is not a part of the function. So our main function only contains the next line. \n",
    "\n",
    "We will talk more about this later, but the `int` at the start of the line specifies the return type of the program. A function must return either one object/primitive of a specific type, or nothing (void). Here we return the primitive type, `int`, or integer. This may be a bad time to introduce this, since main is the one special case where we do not need to specifiy `return`, since it is implied. \n",
    "\n",
    "#### Printing to Console \n",
    "\n",
    "```c++\n",
    "std::cout << \"Hello World!\" << std::cout \n",
    "```\n",
    "\n",
    "This line is the output of our program. We can see from running the program that we print \"Hello World!\" to the console, so this is clearly where the action happens. The `std::`'s on either side are an exmaple of using the iostream functions. `std::` means we are using functions imported from the standard library, and `cout` and `endl` are the two functions we are using. `cout` sets us up to print the console, and `endl` prints a new line. The `<<` angular brackets on either side are syntax required for printing. Every statement when printing must be separated by `<<`, and the full statement ends with a semicolon. \n",
    "\n",
    "Another confusing bit, is that these angular brackets are actually functions. The brackets here are another special case (there are not too many special cases, you are seeing the majority here..). If you are familiar with another language, you can think of them as typed below. The \"Hello World!\" text is getting pushed to std::cout, and then the new line std::endl is getting pushed, so both are printed to the console.  \n",
    "\n",
    "```javascript\n",
    "std::cout.print(\"Hello World!\").print(std::endl)\n",
    "```\n",
    "Since this is the last line of the main function, our program terminates. \n",
    "\n",
    "\n",
    "-----------------------------------------------\n",
    "And thats it! A basic C++ program! Here it is again for covenience as you read on. \n",
    "\n",
    "```c++\n",
    "#include <iostream>\n",
    "\n",
    "int main()\n",
    "{\n",
    "    std::cout << \"Hello World!\" << std::endl; \n",
    "}\n",
    "```\n",
    "\n",
    "## Compilation \n",
    "\n",
    "#### Preprocessing \n",
    "\n",
    "If you've written your code error free, as it is above, you're ready to compile. Know that only .cpp files get compiled, not the header .h files (those are only declarations of functions used for clean, modular coding). Remeber that the headers get included into other .cpp files via the `#include` preprocessor directive. So the header file text is copied and pasted into the .cpp file, then the whole thing is compiles, are after the preproecssing. \n",
    "\n",
    "#### Final Compilation \n",
    "\n",
    "After preprocessing and linking together the various .cpp files in the project, the code compiles and executable is created. Check out the video for more on this and how to do it in Visual Studio. "
   ]
  }
 ],
 "metadata": {
  "kernelspec": {
   "display_name": "xeus C++14",
   "language": "",
   "name": "xeus-cling-cpp14"
  },
  "language_info": {
   "codemirror_mode": "text/x-c++src",
   "file_extension": ".cpp",
   "mimetype": "text/x-c++src",
   "name": "c++",
   "version": ""
  }
 },
 "nbformat": 4,
 "nbformat_minor": 2
}
