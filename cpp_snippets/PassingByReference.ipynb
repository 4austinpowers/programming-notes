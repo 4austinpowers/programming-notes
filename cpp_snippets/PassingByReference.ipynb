{
 "cells": [
  {
   "cell_type": "markdown",
   "metadata": {},
   "source": [
    "## Passing by Reference\n",
    "\n",
    "Lets say we want to increment and log the value of a variable. If we define a variable a, then pass it into a function and increment it, then when we print it out, it should be incremented, right?"
   ]
  },
  {
   "cell_type": "code",
   "execution_count": 1,
   "metadata": {},
   "outputs": [],
   "source": [
    "#include <iostream>\n",
    "\n",
    "\n",
    "//a function to increment and log the value of a variable \n",
    "void Increment(int a)\n",
    "{\n",
    "    a++; \n",
    "    std::cout << \"value of a in func: \" << a << std::endl; \n",
    "    //std::cout << \"address of a in func: \" << &a << std::endl; \n",
    "    \n",
    "}"
   ]
  },
  {
   "cell_type": "code",
   "execution_count": 2,
   "metadata": {
    "scrolled": false
   },
   "outputs": [
    {
     "name": "stdout",
     "output_type": "stream",
     "text": [
      "value of a start: 100\n",
      "value of a in func: 101\n",
      "value of a outside: 100\n"
     ]
    }
   ],
   "source": [
    "int a = 100; \n",
    "std::cout << \"value of a start: \" << a << std::endl; \n",
    "Increment(a); \n",
    "std::cout << \"value of a outside: \" << a << std::endl; \n"
   ]
  },
  {
   "cell_type": "markdown",
   "metadata": {},
   "source": [
    "Something is wrong. Do you see what? \n",
    "    \n",
    "The value of a did not get incremented, because in cell 2, we passed a *copy* of a into the function increment. The increment function takes an int, a, as an arugment, but this a is a local variable only available inside the scope of the function. We could have just as easily used any other name. The function takes in a copy of global a defined in cell 2. \n",
    "\n",
    "We can solve this with the concept of passing by reference. This means we maninpulate the object directly in the function, rather than manipulating a copy of that object. Since references are implemented using pointers, by passing in a reference, we are always mainpulating the object directly. We also do not need to change anything about the code, other than adding a `&` operator! \n",
    "\n",
    "It is also a good practice to not repeat the same name of variables in global and local scopes. Lets fix that, too. "
   ]
  },
  {
   "cell_type": "code",
   "execution_count": 3,
   "metadata": {},
   "outputs": [],
   "source": [
    "void IncrementPassByRef(int &val) //take in a reference \n",
    "{\n",
    "    std::cout << \"value of func arg: \" << val; \n",
    "    std::cout << \" address of func arg: \" << &val << std::endl; \n",
    "    \n",
    "    val++;  \n",
    "}"
   ]
  },
  {
   "cell_type": "code",
   "execution_count": 4,
   "metadata": {},
   "outputs": [
    {
     "name": "stdout",
     "output_type": "stream",
     "text": [
      "value of a: 100 address of a: 0x7f24b8763044\n",
      "value of func arg: 100 address of func arg: 0x7f24b8763044\n",
      "value of a: 101 address of a: 0x7f24b8763044\n"
     ]
    }
   ],
   "source": [
    "a = 100; \n",
    "std::cout << \"value of a: \" << a; \n",
    "std::cout << \" address of a: \" << &a << std::endl;\n",
    "\n",
    "IncrementPassByRef(a); //pass in the memory address \n",
    "    \n",
    "std::cout << \"value of a: \" << a; \n",
    "std::cout << \" address of a: \" << &a << std::endl;"
   ]
  },
  {
   "cell_type": "markdown",
   "metadata": {},
   "source": [
    "We can see in the second line of the output that by passing by reference we are always manipulating the value of a directly, the address is the same as that outside the function. In doing so, the value is incremented at the source so we see the value 101 this time!. "
   ]
  }
 ],
 "metadata": {
  "kernelspec": {
   "display_name": "xeus C++14",
   "language": "",
   "name": "xeus-cling-cpp14"
  },
  "language_info": {
   "codemirror_mode": "text/x-c++src",
   "file_extension": ".cpp",
   "mimetype": "text/x-c++src",
   "name": "c++",
   "version": ""
  }
 },
 "nbformat": 4,
 "nbformat_minor": 2
}
