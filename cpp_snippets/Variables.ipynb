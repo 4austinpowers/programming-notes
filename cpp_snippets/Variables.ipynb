{
 "cells": [
  {
   "cell_type": "markdown",
   "metadata": {},
   "source": [
    "## Variables in C++ \n",
    "\n",
    "When we write code, we typically want to manipulate data in some way. Maybe change the contents of a file, merge and clean data from various files together, generate information to create images in a video game, or perfom statistics on buisiness or science data. Any type of data we want to use in the code must be stored somehow. We accomplish this with variables. Variables are simply containers for data. \n",
    "\n",
    "Variables hold the data by storing them in the computer's memory (RAM). This is a temporary storage, so the variables only exist while the program is running. But within the code, we can even save those variables permanately by writing them to disk. \n",
    "\n",
    "Variables have types. We can store numeric data, text data, or even types of data we create ourselves. In C++, and most languages, we are given a set of basic data types, these are called primitives. These primities are like atoms, the cannot be broken down into further data types, and they are the building blocks for all the rest of the type of code we create. All data types have a specific size, and we can take advantage of this feature in clever ways. \n",
    "\n",
    "Lets create some primitive data types and variables. \n",
    "\n",
    "#### Integers \n",
    "\n",
    "Integers are whole numbers, and take 4 bytes of memory. We can store numbers roughly from negative to positive 2 billion. You can do math for this: 1 byte is 8 bits, which can have a value of 0 or 1. So 4 bytes is 32 bits, and the first bit is for postive or negative specification. So the remaining 2^31 = 2147483648\n",
    "\n",
    "We can create a variable by declaring the data type, then the varible name, the value (optional), and close if off with a semicolon. You don't have to give the data type a value immediately, you can assign it, or reassign an existing variable, later in the code. When reassigning, you do not need to specify the data type anymore. "
   ]
  },
  {
   "cell_type": "code",
   "execution_count": 1,
   "metadata": {},
   "outputs": [
    {
     "name": "stdout",
     "output_type": "stream",
     "text": [
      "(int) 5\n"
     ]
    }
   ],
   "source": [
    "int a = 5; \n",
    "int b; //no value\n",
    "\n",
    "a"
   ]
  },
  {
   "cell_type": "code",
   "execution_count": 2,
   "metadata": {},
   "outputs": [
    {
     "name": "stdout",
     "output_type": "stream",
     "text": [
      "(int) 1\n"
     ]
    }
   ],
   "source": [
    "a = 1; \n",
    "a"
   ]
  },
  {
   "cell_type": "markdown",
   "metadata": {},
   "source": [
    "A variable can have numbers and characters in the name but it must start with a character. "
   ]
  },
  {
   "cell_type": "code",
   "execution_count": 3,
   "metadata": {},
   "outputs": [
    {
     "name": "stderr",
     "output_type": "stream",
     "text": [
      "input_line_13:3:5: error: expected unqualified-id\n",
      "int 3r = 5; \n",
      "    ^\n"
     ]
    }
   ],
   "source": [
    "//wont work \n",
    "int 3r = 5; "
   ]
  },
  {
   "cell_type": "markdown",
   "metadata": {},
   "source": [
    "\"But I dont care about positive or negative numbers! I only want positive numbers!\" I hear you say. We'll I've got you covered. You can use an unsigned int, which as the name implies, gets rid of the reservation of 1 bit for signage so we have 32 bits to play with, which doubles the 2 billion values we have to 4B. "
   ]
  },
  {
   "cell_type": "code",
   "execution_count": 4,
   "metadata": {},
   "outputs": [
    {
     "name": "stdout",
     "output_type": "stream",
     "text": [
      "(unsigned int) 3147483648\n"
     ]
    }
   ],
   "source": [
    "unsigned int u = 3147483648; \n",
    "u"
   ]
  },
  {
   "cell_type": "markdown",
   "metadata": {},
   "source": [
    "Other basic intger variations include: \n",
    "    \n",
    "    char - 1 byte\n",
    "    short - 2 bytes \n",
    "    int - 4 bytes \n",
    "    long - 4 bytes \n",
    "    long long - 8 bytes \n",
    "    \n",
    "You can specify unsigned for any of these to get rid of the sign and get that extra bit of wiggle room for positive only values. \n",
    "\n",
    "#### Chars \n",
    "\n",
    "Chars are typically used for storing characters as well as numbers, which makes it unique. A char must be enclosed in '' quotes and only be one digit long. "
   ]
  },
  {
   "cell_type": "code",
   "execution_count": 5,
   "metadata": {},
   "outputs": [
    {
     "name": "stdout",
     "output_type": "stream",
     "text": [
      "(char) '3'\n"
     ]
    }
   ],
   "source": [
    "char c = 'h'; \n",
    "char c_num = '3'"
   ]
  },
  {
   "cell_type": "markdown",
   "metadata": {},
   "source": [
    "Technically we can store characters with the other integer types too, since a computer stores everything as a number. 'A' in a computer' ASCII format is 64. So why store characters as integers?  Well, to make life easier, we have designated the char data type to be used for characters. So if we print a char, we get the character representation, not the integer. Its the same thing under the hood, but it makes understanding and using these abstractions easier to think about if we designate a separation between text and numbers. \n",
    "\n",
    "The only real difference between these types is the data they take up in memory. The rest is up to the user on how to effiently use those types. "
   ]
  },
  {
   "cell_type": "code",
   "execution_count": 6,
   "metadata": {},
   "outputs": [
    {
     "name": "stdout",
     "output_type": "stream",
     "text": [
      "(char) 'h'\n"
     ]
    }
   ],
   "source": [
    "c"
   ]
  },
  {
   "cell_type": "markdown",
   "metadata": {},
   "source": [
    "#### Floats and Doubles\n",
    "\n",
    "Floats and Doubles are used for decimal numbers. Floats are 4 bytes and doubles are 8 bytes large. We must specify a float with a 'f' suffix, which is a bit annoying. "
   ]
  },
  {
   "cell_type": "code",
   "execution_count": 7,
   "metadata": {
    "collapsed": true
   },
   "outputs": [],
   "source": [
    "float f = 1.25f;\n",
    "double d = 1.25;\n",
    "f"
   ]
  },
  {
   "cell_type": "markdown",
   "metadata": {},
   "source": [
    "#### Boolean \n",
    "\n",
    "A boolean is a true or false value. The computer sees this as 0 and non-zero. A zero is equivalent to false, and a non-zero is true. It is 1 byte. "
   ]
  },
  {
   "cell_type": "code",
   "execution_count": 10,
   "metadata": {},
   "outputs": [
    {
     "name": "stdout",
     "output_type": "stream",
     "text": [
      "(bool) false\n"
     ]
    }
   ],
   "source": [
    "bool b_true = true; \n",
    "bool b_num = 0; \n",
    "b_num"
   ]
  },
  {
   "cell_type": "code",
   "execution_count": 11,
   "metadata": {},
   "outputs": [
    {
     "name": "stdout",
     "output_type": "stream",
     "text": [
      "(bool) true\n"
     ]
    }
   ],
   "source": [
    "b_num = 123; \n",
    "b_num"
   ]
  },
  {
   "cell_type": "code",
   "execution_count": null,
   "metadata": {
    "collapsed": true
   },
   "outputs": [],
   "source": []
  }
 ],
 "metadata": {
  "kernelspec": {
   "display_name": "xeus C++14",
   "language": "",
   "name": "xeus-cling-cpp14"
  },
  "language_info": {
   "codemirror_mode": "text/x-c++src",
   "file_extension": ".cpp",
   "mimetype": "text/x-c++src",
   "name": "c++",
   "version": ""
  }
 },
 "nbformat": 4,
 "nbformat_minor": 2
}
