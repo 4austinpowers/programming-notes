{
 "cells": [
  {
   "cell_type": "markdown",
   "metadata": {},
   "source": [
    "## This Keyword \n",
    "\n",
    "`This` is a keyword that is only accessible through a membor function, or within a method of a class. It is a pointer to the current instance of the class that the method belongs to. It is exactly like `self` in Python. More concretley, if I have a class `CL` with variable `x`, and an instance of the class `Inst`, then a member function in `CL` that says `this.x` will allow `Inst` to access its `x` variable.  \n",
    "\n",
    "In the example below, I want to assign the variable x in the `set_x` method. However, if the method argument is `x`, simply writing `x=x;` would reassign the temporary variable with itself, not assign the `x` class variable. What we can do instead is use `this->x` to access the current object instance's `x` variable.\n",
    "\n",
    "Note that we use the arrow operator to access members of this, since it is a pointer. See the [notes on the arrow operator](Arrow.ipynb) for more. "
   ]
  },
  {
   "cell_type": "code",
   "execution_count": 1,
   "metadata": {},
   "outputs": [],
   "source": [
    "class CL\n",
    "{\n",
    "    public: \n",
    "        int x = 0;\n",
    "    \n",
    "        void set_x(int x)\n",
    "        { \n",
    "            this->x = x;\n",
    "        } \n",
    "};"
   ]
  },
  {
   "cell_type": "code",
   "execution_count": 2,
   "metadata": {},
   "outputs": [
    {
     "name": "stdout",
     "output_type": "stream",
     "text": [
      "(int) 6\n"
     ]
    }
   ],
   "source": [
    "CL inst;\n",
    "inst.set_x(6); \n",
    "inst.x"
   ]
  },
  {
   "cell_type": "code",
   "execution_count": null,
   "metadata": {},
   "outputs": [],
   "source": []
  }
 ],
 "metadata": {
  "kernelspec": {
   "display_name": "xeus C++14",
   "language": "",
   "name": "xeus-cling-cpp14"
  },
  "language_info": {
   "codemirror_mode": "text/x-c++src",
   "file_extension": ".cpp",
   "mimetype": "text/x-c++src",
   "name": "c++",
   "version": ""
  }
 },
 "nbformat": 4,
 "nbformat_minor": 2
}
