{
 "cells": [
  {
   "cell_type": "markdown",
   "metadata": {},
   "source": [
    "# Static Arrays \n",
    "\n",
    "Static Arrays are an array type the sized is fact, and you must declare the size of the array at its initialization. It has the memory footprint of a C-style array, but the interface of std::vector. Note that std::array is actually a C-style array wrapper, where it is stored on the stack.\n",
    "\n",
    "std::vector has a memory penalty for having the ability to be dynamically resized (allocates more memory that it needs). std::array avoids this by declaring the size in advance. \n",
    "\n",
    "In general, you should use std::array when the size of the array is known before hand, and std::vector when not. Never use the C-style array. "
   ]
  },
  {
   "cell_type": "code",
   "execution_count": 1,
   "metadata": {},
   "outputs": [],
   "source": [
    "std::array<int, 5> data; \n",
    "data[0] = 1; \n",
    "data[3] = 4; \n",
    "\n",
    "//normal C-style array \n",
    "int dataC[5]; "
   ]
  },
  {
   "cell_type": "markdown",
   "metadata": {},
   "source": [
    "Why is this better than the C-style array? Well, the fixed size allows us to ask the array how large it is. \n",
    "\n",
    "Additionally, it does bounds checking, so `data[5]` would return in error with std::array, but dataC would not. It would just write new data. "
   ]
  },
  {
   "cell_type": "code",
   "execution_count": 2,
   "metadata": {},
   "outputs": [
    {
     "name": "stdout",
     "output_type": "stream",
     "text": [
      "(unsigned long) 5\n"
     ]
    }
   ],
   "source": [
    "data.size()"
   ]
  }
 ],
 "metadata": {
  "kernelspec": {
   "display_name": "xeus C++14",
   "language": "",
   "name": "xeus-cling-cpp14"
  },
  "language_info": {
   "codemirror_mode": "text/x-c++src",
   "file_extension": ".cpp",
   "mimetype": "text/x-c++src",
   "name": "c++",
   "version": ""
  }
 },
 "nbformat": 4,
 "nbformat_minor": 2
}
