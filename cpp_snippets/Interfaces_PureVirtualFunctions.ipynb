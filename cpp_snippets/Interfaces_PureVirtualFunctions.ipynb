{
 "cells": [
  {
   "cell_type": "markdown",
   "metadata": {},
   "source": [
    "## Interfaces - Pure Virtual Functions \n",
    "\n",
    "[video](https://www.youtube.com/watch?v=UWAdd13EfM8&index=29&list=PLlrATfBNZ98dudnM48yfGUldqGD0S4FFb)\n",
    "\n",
    "A pure virtual function allows us to create a unimplemented function in a base class, and then implement them later in subclasses. This brings up a common tool in OOP, interfaces. An interface is a class that consits only of unimplemented methods, where those methods are each implemented in subclasses, acting as a template of sorts. \n",
    "\n",
    "For example, in our example from the previous Virutal Function tutorial. By having the GetName function defined with a body in the Entity class, overriding in the Player subclass is totally optional. If we did not override it, it would just default to the Entity implementation. \n",
    "\n",
    "However, is some cases, it might make more sense to not implement the Entity version of GetName, and force ourselves to implement it in the subclass. \n",
    "\n",
    "```c++\n",
    "\n",
    "class Entity\n",
    "{\n",
    "    public:\n",
    "        virtual std::string GetName() {return \"Entity\";}\n",
    "};\n",
    "\n",
    "class Player : public Entity\n",
    "{\n",
    "    private: \n",
    "        std::string m_Name; \n",
    "        \n",
    "    public: \n",
    "        Player(const std::string& name) \n",
    "            : m_Name(name) {}\n",
    "            \n",
    "        std::string GetName() override { return m_Name; }\n",
    "};\n",
    "```\n",
    "\n",
    "To make the GetName function a Pure Virtual function, we keep it marked as `virtual`, but we must add `=0` instead of the body. In any subclass we **must** implement the method in the subclass. \n",
    "\n",
    "```c++\n",
    "\n",
    "virtual std::string GetName() = 0;\n",
    "```"
   ]
  },
  {
   "cell_type": "code",
   "execution_count": null,
   "metadata": {},
   "outputs": [],
   "source": []
  }
 ],
 "metadata": {
  "kernelspec": {
   "display_name": "xeus C++14",
   "language": "",
   "name": "xeus-cling-cpp14"
  },
  "language_info": {
   "codemirror_mode": "text/x-c++src",
   "file_extension": ".cpp",
   "mimetype": "text/x-c++src",
   "name": "c++",
   "version": ""
  }
 },
 "nbformat": 4,
 "nbformat_minor": 2
}
