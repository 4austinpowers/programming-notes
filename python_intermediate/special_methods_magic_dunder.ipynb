{
 "cells": [
  {
   "cell_type": "markdown",
   "metadata": {},
   "source": [
    "# Special Methods\n",
    "\n",
    "Take a minute to pause and reflect on the past few lessons. We've covered the core strucutre on OOP including classes, inheritance, methods, and attributes. That's a lot! You're freakin' amazing! \n",
    "\n",
    "With the meaty stuff out of the way, we can start to look at some special methods. These are used less often, but still great to know. I'm going to copy over our Hosue/Apartment code so we have something to work with. "
   ]
  },
  {
   "cell_type": "code",
   "execution_count": 2,
   "metadata": {
    "collapsed": true
   },
   "outputs": [],
   "source": [
    "#original parent House class does not change \n",
    "class House: \n",
    "    '''define the House class'''\n",
    "    #define class variable value_increase \n",
    "    value_increase = 0.10 \n",
    "    \n",
    "    def __init__(self, color, size, location, value):\n",
    "        # initialize the constructor \n",
    "        self.color = color \n",
    "        self.size = size \n",
    "        self.location = location \n",
    "        self.value = int(value)\n",
    "        \n",
    "    def good_year_increase(self):\n",
    "        #increase value of home by value_increase \n",
    "        self.value = self.value* (1 + self.value_increase) \n",
    "        \n",
    "    def tagline(self):\n",
    "        #tagline from house data  \n",
    "        tag = 'A beautiful {} sized, {} home in {}'.format(self.size, \n",
    "                                                    self.color, \n",
    "                                                    self. location)\n",
    "        return tag \n",
    "    \n",
    "\n",
    "class Apartment(House): \n",
    "    #reduce year-to-year value increase \n",
    "    value_increase = 0.02 \n",
    "    \n",
    "    #copy House init 1st line, add apt_num, gym \n",
    "    def __init__(self, color, size, location, value, apt_num, gym):\n",
    "        \n",
    "        #copy __init__ attributes from House we want to keep \n",
    "        super().__init__(color, size, location, value)\n",
    "        \n",
    "        #init new child attributes \n",
    "        self.apt_num = apt_num\n",
    "        self.gym = gym \n",
    "\n",
    "#create a child instance\n",
    "#its starting to get long, so I'll stack \n",
    "apartment1 = Apartment('blue',\n",
    "                       'small',\n",
    "                       'Paris',\n",
    "                       20000, \n",
    "                       '3B', \n",
    "                       True)"
   ]
  },
  {
   "cell_type": "markdown",
   "metadata": {},
   "source": [
    "The special methods we will be covering have double underscore flanking either side, link the `__init__` method. Pythonistas like to call this \"dunder\". So \"dunder init\" really just means `__init__`. There are a few other dunder methods that are important to include. Let me highlight the context of the first one. Look what happens when we print out the the Apartment instance, apartment1, we just get an object and its place in memory, which is pretty useless.  "
   ]
  },
  {
   "cell_type": "code",
   "execution_count": 4,
   "metadata": {},
   "outputs": [
    {
     "data": {
      "text/plain": [
       "<__main__.Apartment at 0x1a9f8a958d0>"
      ]
     },
     "execution_count": 4,
     "metadata": {},
     "output_type": "execute_result"
    }
   ],
   "source": [
    "apartment1"
   ]
  },
  {
   "cell_type": "markdown",
   "metadata": {},
   "source": [
    "The first dunder to highlight is `__repr__` which is meant to be an unambiguous representation of the object and should be used for dubugging, logging etc. The second is `__str__` which is more of a readable representation of the object. Typically, we want the `__repr__` as a minumum. It will take this structure: \n",
    "\n",
    "```python \n",
    "\n",
    "def __repr__(self):\n",
    "    return \"Object('{}', '{}', '{}'...)\".format(self.attribute1,\n",
    "                                                self.attribute2, \n",
    "                                                self.attribute3)\n",
    "\n",
    "```\n",
    "\n",
    "As you can see, it is a formatter that gives away attribute information of the class instance. It is simple and concise, but very readable. This is where the `__str__` method comes in. `__str__` is more ambiguous on the common way to write it. \n",
    "\n",
    "```python\n",
    "\n",
    "def __str__(self): \n",
    "    return '{} - {}'.format(self.attribute1, self.attribute2)\n",
    "    \n",
    "\n",
    "```\n",
    "\n",
    "\n",
    "This is just to showcase some attributes of the instance, maybe not all of them. \n",
    "\n",
    "\n",
    "You might expect that the way to call `__repr__` or `__str__` is as `instance.__repr__()`, and you'd be right. This works fine. But you can also call them as repr(instance) which is often a bit simpler and more intuitive. \n",
    "\n",
    "Lets see `__repr__` in action. "
   ]
  },
  {
   "cell_type": "code",
   "execution_count": 9,
   "metadata": {},
   "outputs": [
    {
     "data": {
      "text/plain": [
       "\"Apartment('blue', 'small', 'Paris', '20000', '3B', 'True',)\""
      ]
     },
     "execution_count": 9,
     "metadata": {},
     "output_type": "execute_result"
    }
   ],
   "source": [
    "class Apartment(House): \n",
    "    #reduce year-to-year value increase \n",
    "    value_increase = 0.02 \n",
    "    \n",
    "    #copy House init 1st line, add apt_num, gym \n",
    "    def __init__(self, color, size, location, value, apt_num, gym):\n",
    "        \n",
    "        #copy __init__ attributes from House we want to keep \n",
    "        super().__init__(color, size, location, value)\n",
    "        \n",
    "        #init new child attributes \n",
    "        self.apt_num = apt_num\n",
    "        self.gym = gym \n",
    "        \n",
    "    def __repr__(self):\n",
    "        return \"Apartment('{}', '{}', '{}', '{}', '{}', '{}',)\".format(self.color, \n",
    "                                                                      self.size, \n",
    "                                                                      self.location, \n",
    "                                                                      self.value, \n",
    "                                                                      self.apt_num, \n",
    "                                                                      self.gym)\n",
    "    \n",
    "apartment1 = Apartment('blue',\n",
    "                       'small',\n",
    "                       'Paris',\n",
    "                       20000, \n",
    "                       '3B', \n",
    "                       True)\n",
    "\n",
    "repr(apartment1)"
   ]
  },
  {
   "cell_type": "code",
   "execution_count": null,
   "metadata": {
    "collapsed": true
   },
   "outputs": [],
   "source": []
  }
 ],
 "metadata": {
  "kernelspec": {
   "display_name": "Python 3",
   "language": "python",
   "name": "python3"
  },
  "language_info": {
   "codemirror_mode": {
    "name": "ipython",
    "version": 3
   },
   "file_extension": ".py",
   "mimetype": "text/x-python",
   "name": "python",
   "nbconvert_exporter": "python",
   "pygments_lexer": "ipython3",
   "version": "3.5.2"
  },
  "widgets": {
   "state": {},
   "version": "1.1.2"
  }
 },
 "nbformat": 4,
 "nbformat_minor": 2
}
