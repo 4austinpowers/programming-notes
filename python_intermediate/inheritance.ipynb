{
 "cells": [
  {
   "cell_type": "markdown",
   "metadata": {},
   "source": [
    "## Inheritance \n",
    "\n",
    "Inheritance let's us inherit attributes and methods from a parent class. We can create subclasses (children) which have all the properties of the parent, plus more. We can also overwrite attributes and methods inherited from the parent, without affecting the parent itself.  \n",
    "\n",
    "Let's say we want to look specifically at apartments and condos. Regarding our previous House class example, apartments and condos should contain all the same class attributes, like color, location, value, and size. Instead of copying code into the apartment and condo classes, we can make them children of Home and inherit the parent's properties. \n",
    "\n",
    "Let's grab the code from our House example add create a subclass, called Apartment. To start, we will need to create the new class structure for apartment, and pass in which parent we want to inherit from as an argument. \n",
    "\n",
    "```python\n",
    "\n",
    "class Apartment(House): \n",
    "    pass\n",
    "\n",
    "```\n",
    "\n",
    "I implement the code below. The `pass` term explicitly shows that the Apartment code does nothing except inherit from its parents. "
   ]
  },
  {
   "cell_type": "code",
   "execution_count": 20,
   "metadata": {},
   "outputs": [
    {
     "name": "stdout",
     "output_type": "stream",
     "text": [
      "A beautiful small sized, blue home in Paris\n",
      "A beautiful small sized, blue home in Paris\n"
     ]
    }
   ],
   "source": [
    "class House: \n",
    "    '''define the House class'''\n",
    "    #define class variable value_increase \n",
    "    value_increase = 0.10 \n",
    "    \n",
    "    def __init__(self, color, size, location, value):\n",
    "        # initialize the constructor \n",
    "        self.color = color \n",
    "        self.size = size \n",
    "        self.location = location \n",
    "        self.value = value \n",
    "        \n",
    "    def good_year_increase(self):\n",
    "        #increase value of home by value_increase \n",
    "        self.value = self.value* (1 + self.value_increase) \n",
    "        \n",
    "    def tagline(self):\n",
    "        #tagline from house data  \n",
    "        tag = 'A beautiful {} sized, {} home in {}'.format(self.size, \n",
    "                                                    self.color, \n",
    "                                                    self. location)\n",
    "        return tag \n",
    "    \n",
    "\n",
    "class Apartment(House): \n",
    "    pass \n",
    "\n",
    "#create a parent instance\n",
    "house1 = House ('blue', 'small', 'Paris', '300000')\n",
    "print (house1.tagline())\n",
    "\n",
    "#create a child instance\n",
    "apartment1 = Apartment('blue', 'small', 'Paris', '300000')\n",
    "print (apartment1.tagline())"
   ]
  },
  {
   "cell_type": "markdown",
   "metadata": {},
   "source": [
    "What does this show? We were able to create an Apartment instance the exact same way we created its parent, a House instance. Under the hood, when Apartment was called, the Python interpreter looked for an `__init__` method to initialize the instance. Not finding one (all we had was pass) it searched the parent class structure and borrowed code from there. To get a better idea of this, we can use Python's build in `help` method to explore how Apartment is working. Let's try that. "
   ]
  },
  {
   "cell_type": "code",
   "execution_count": 21,
   "metadata": {},
   "outputs": [
    {
     "name": "stdout",
     "output_type": "stream",
     "text": [
      "Help on class Apartment in module __main__:\n",
      "\n",
      "class Apartment(House)\n",
      " |  define the House class\n",
      " |  \n",
      " |  Method resolution order:\n",
      " |      Apartment\n",
      " |      House\n",
      " |      builtins.object\n",
      " |  \n",
      " |  Methods inherited from House:\n",
      " |  \n",
      " |  __init__(self, color, size, location, value)\n",
      " |      Initialize self.  See help(type(self)) for accurate signature.\n",
      " |  \n",
      " |  good_year_increase(self)\n",
      " |  \n",
      " |  tagline(self)\n",
      " |  \n",
      " |  ----------------------------------------------------------------------\n",
      " |  Data descriptors inherited from House:\n",
      " |  \n",
      " |  __dict__\n",
      " |      dictionary for instance variables (if defined)\n",
      " |  \n",
      " |  __weakref__\n",
      " |      list of weak references to the object (if defined)\n",
      " |  \n",
      " |  ----------------------------------------------------------------------\n",
      " |  Data and other attributes inherited from House:\n",
      " |  \n",
      " |  value_increase = 0.1\n",
      "\n",
      "None\n"
     ]
    }
   ],
   "source": [
    "print (help(Apartment))"
   ]
  },
  {
   "cell_type": "markdown",
   "metadata": {},
   "source": [
    "The important thing to notice in the help info above is the `Method Resolution Order`. It highlights the order in which code is searched for and executed. We see the order: Apartment, House, builtins.objects. So the Python interpreter first looked for the `__init__` method in the Apartment class, then the House class, and found it. If it did not find it in the Apartment class, it would have searched `builtins.objects` which would be the barebones way initialize an instance of a class. \n",
    "\n",
    "Further on in the help doc, we see which methods and attributes Apartment inherited from House. \n",
    "\n",
    "Now, this alone isn't terribly useful. The power of children and subclasses comes in when we can modify the properties inherited from the parent. Let's say that apartments in general do not increase in value as much as houses, so we can modify the `value_increase` attribute to be reduced from 0.10. "
   ]
  },
  {
   "cell_type": "code",
   "execution_count": 22,
   "metadata": {},
   "outputs": [
    {
     "name": "stdout",
     "output_type": "stream",
     "text": [
      "house increase:  330000.0\n",
      "apartment increase:  306000.0\n"
     ]
    }
   ],
   "source": [
    "class House: \n",
    "    '''define the House class'''\n",
    "    #define class variable value_increase \n",
    "    value_increase = 0.10 \n",
    "    \n",
    "    def __init__(self, color, size, location, value):\n",
    "        # initialize the constructor \n",
    "        self.color = color \n",
    "        self.size = size \n",
    "        self.location = location \n",
    "        self.value = int(value)\n",
    "        \n",
    "    def good_year_increase(self):\n",
    "        #increase value of home by value_increase \n",
    "        self.value = self.value* (1 + self.value_increase) \n",
    "        \n",
    "    def tagline(self):\n",
    "        #tagline from house data  \n",
    "        tag = 'A beautiful {} sized, {} home in {}'.format(self.size, \n",
    "                                                    self.color, \n",
    "                                                    self. location)\n",
    "        return tag \n",
    "    \n",
    "\n",
    "class Apartment(House): \n",
    "    #reduce year-to-year value increase \n",
    "    value_increase = 0.02 \n",
    "\n",
    "    \n",
    "#create a parent instance\n",
    "house1 = House ('blue', 'small', 'Paris', '300000')\n",
    "house1.good_year_increase()\n",
    "print ('house increase: ', house1.value)\n",
    "\n",
    "#create a child instance\n",
    "apartment1 = Apartment('blue', 'small', 'Paris', '300000')\n",
    "apartment1.good_year_increase()\n",
    "print ('apartment increase: ', apartment1.value)"
   ]
  },
  {
   "cell_type": "markdown",
   "metadata": {},
   "source": [
    "The thing to take away with this example, is that by changing the value of `value_increase` in the subclass child, it had no influence on the parent's repsective value. \n",
    "\n",
    "### Additional Information in Subclasses \n",
    "\n",
    "Often we want to pass in more information for the subclass than what the original class has. For example, the Apartment class may also what the attributes for apartment number, and the boolean, \"gym access\". For this, we will need to create an `__init__` for Apartment. To do this, we will copy the first line of the `__init__` method from the parent, House. But ONLY the first line. It is tempting to copy the whole init method, but this is repetitive and makes for ugly code. \n",
    "\n",
    "We need the first line only because we want the same arguments as the parent. To transfer the rest of initialization, where we assign `self.color` etc., we use the built-in `super` method. `super().__init__` takes in as arguments all of the attributes we want to copy over from the parent, except self. This is confusing, so remember not to include `self` in `super`!  \n",
    "\n",
    "After borrowing the parent attribute initialization using super, we will need to initialize the new attributes, `apt_num`, and `gym` in the child. This happens just as we did before, using `self.apt_num = apt_num`.  "
   ]
  },
  {
   "cell_type": "code",
   "execution_count": 24,
   "metadata": {},
   "outputs": [
    {
     "name": "stdout",
     "output_type": "stream",
     "text": [
      "True\n",
      "20000\n",
      "3B\n"
     ]
    }
   ],
   "source": [
    "#original parent House class does not change \n",
    "class House: \n",
    "    '''define the House class'''\n",
    "    #define class variable value_increase \n",
    "    value_increase = 0.10 \n",
    "    \n",
    "    def __init__(self, color, size, location, value):\n",
    "        # initialize the constructor \n",
    "        self.color = color \n",
    "        self.size = size \n",
    "        self.location = location \n",
    "        self.value = int(value)\n",
    "        \n",
    "    def good_year_increase(self):\n",
    "        #increase value of home by value_increase \n",
    "        self.value = self.value* (1 + self.value_increase) \n",
    "        \n",
    "    def tagline(self):\n",
    "        #tagline from house data  \n",
    "        tag = 'A beautiful {} sized, {} home in {}'.format(self.size, \n",
    "                                                    self.color, \n",
    "                                                    self. location)\n",
    "        return tag \n",
    "    \n",
    "\n",
    "class Apartment(House): \n",
    "    #reduce year-to-year value increase \n",
    "    value_increase = 0.02 \n",
    "    \n",
    "    #copy House init 1st line, add apt_num, gym \n",
    "    def __init__(self, color, size, location, value, apt_num, gym):\n",
    "        \n",
    "        #copy __init__ attributes from House we want to keep \n",
    "        super().__init__(color, size, location, value)\n",
    "        \n",
    "        #init new child attributes \n",
    "        self.apt_num = apt_num\n",
    "        self.gym = gym \n",
    "\n",
    "#create a child instance\n",
    "#its starting to get long, so I'll stack \n",
    "apartment1 = Apartment('blue',\n",
    "                       'small',\n",
    "                       'Paris',\n",
    "                       20000, \n",
    "                       '3B', \n",
    "                       True)\n",
    "\n",
    "#print out some attributes \n",
    "print (apartment1.gym)\n",
    "print (apartment1.value)\n",
    "print (apartment1.apt_num)"
   ]
  },
  {
   "cell_type": "markdown",
   "metadata": {},
   "source": [
    "Just for fun, I will now create a new subclass of House called Condo, which will include attrbutes like `pool` and `ocean_access`. Additionally, I will create a method that will increase the value of the Condo if it has ocean/pool access. I will leave fewer comments here, so see if you can fill in the comments to prove that you understand what is going on. "
   ]
  },
  {
   "cell_type": "code",
   "execution_count": 31,
   "metadata": {},
   "outputs": [
    {
     "name": "stdout",
     "output_type": "stream",
     "text": [
      "red\n",
      "150000\n",
      "True\n",
      "False\n",
      "270000.0\n"
     ]
    }
   ],
   "source": [
    "class Condo(House):\n",
    "    '''subclass Condo inheriting from House'''\n",
    "    \n",
    "    value_increase = 0.8\n",
    "    \n",
    "    def __init__(self, color, size, location, value, pool, ocean_access): \n",
    "        super().__init__(color, size, location, value)\n",
    "        \n",
    "        self.pool = pool\n",
    "        self.ocean_access = ocean_access\n",
    "        \n",
    "    def inc_value(self): \n",
    "        if self.pool: \n",
    "            self.value *= (1+self.value_increase)\n",
    "\n",
    "        if self.ocean_access: \n",
    "            self.value *= (1+self.value_increase)\n",
    "\n",
    "        \n",
    "condo1 = Condo('red', 'medium', 'Hawaii', '150000', False, True)\n",
    "print (condo1.color)\n",
    "print (condo1.value)\n",
    "print (condo1.ocean_access)\n",
    "print (condo1.pool)\n",
    "\n",
    "\n",
    "condo1.inc_value()\n",
    "print (condo1.value)"
   ]
  },
  {
   "cell_type": "code",
   "execution_count": 34,
   "metadata": {},
   "outputs": [
    {
     "data": {
      "text/plain": [
       "{'color': 'red',\n",
       " 'location': 'Hawaii',\n",
       " 'ocean_access': True,\n",
       " 'pool': False,\n",
       " 'size': 'medium',\n",
       " 'value': 270000.0}"
      ]
     },
     "execution_count": 34,
     "metadata": {},
     "output_type": "execute_result"
    }
   ],
   "source": [
    "condo1.__dict__"
   ]
  },
  {
   "cell_type": "code",
   "execution_count": null,
   "metadata": {
    "collapsed": true
   },
   "outputs": [],
   "source": []
  }
 ],
 "metadata": {
  "kernelspec": {
   "display_name": "Python 3",
   "language": "python",
   "name": "python3"
  },
  "language_info": {
   "codemirror_mode": {
    "name": "ipython",
    "version": 3
   },
   "file_extension": ".py",
   "mimetype": "text/x-python",
   "name": "python",
   "nbconvert_exporter": "python",
   "pygments_lexer": "ipython3",
   "version": "3.5.2"
  },
  "widgets": {
   "state": {},
   "version": "1.1.2"
  }
 },
 "nbformat": 4,
 "nbformat_minor": 2
}
