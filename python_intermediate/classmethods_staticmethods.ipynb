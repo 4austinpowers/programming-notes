{
 "cells": [
  {
   "cell_type": "markdown",
   "metadata": {},
   "source": [
    "# Class Methods and Static Methods\n",
    "\n",
    "### Class Methods\n",
    "\n",
    "[Good video tutorial](https://www.youtube.com/watch?v=rq8cL2XMM5M&index=36&list=PL-osiE80TeTt2d9bfVyTiXJA-UTHn6WwU)\n",
    "\n",
    "In the last tutorial we explored classes, and the difference between instance variables and class variables. In this tutorial we will exploring class methods, reguular methods, and static methods. As explained last time, regular methods in a class take in the first argument as `self`, the instance, automatically. What if we want a method to take in a class instead of an instance? This is called a `classmethod` and we can do that using a decorator. A decorator specifies some instructions for the code that follows it, but all we need to know for now is to create a class method, we use `@classmethod`. \n",
    "\n",
    "When would we need to use a class method, or put another way, when would we need a class to be an argument to a method? One example is when we need to parse data and format it such that it can be input as the arguments when instantiating a class.  Take our house example: "
   ]
  },
  {
   "cell_type": "code",
   "execution_count": 10,
   "metadata": {},
   "outputs": [
    {
     "name": "stdout",
     "output_type": "stream",
     "text": [
      "pink medium San Francisco 1000000\n",
      "A beautiful medium sized, pink home in San Francisco\n"
     ]
    }
   ],
   "source": [
    "class House: \n",
    "    '''define the House class'''\n",
    "    #define class variable value_increase \n",
    "    value_increase = 0.10 \n",
    "    \n",
    "    def __init__(self, color, size, location, value):\n",
    "        # initialize the constructor \n",
    "        self.color = color \n",
    "        self.size = size \n",
    "        self.location = location \n",
    "        self.value = value \n",
    "    \n",
    "    def tagline(self):\n",
    "        #tagline from house data  \n",
    "        tag = 'A beautiful {} sized, {} home in {}'.format(self.size, \n",
    "                                                    self.color, \n",
    "                                                    self. location)\n",
    "        return tag \n",
    "\n",
    "#how input data may appear \n",
    "house_data = 'pink-medium-San Francisco-1000000'\n",
    "\n",
    "#parse data to format for instantiation \n",
    "color, size, location, value = house_data.split('-')\n",
    "print (color, size, location, value)\n",
    "\n",
    "#instantiate class \n",
    "house1 = House(color, size, location, value)\n",
    "\n",
    "#check that it worked \n",
    "print (house1.tagline())"
   ]
  },
  {
   "cell_type": "markdown",
   "metadata": {},
   "source": [
    "This compiles fine, but it does not scale well and is not very Pythonic. A better way to parse the data pre-instantiation would be with a class method. I'll build this first and explain later. "
   ]
  },
  {
   "cell_type": "code",
   "execution_count": 9,
   "metadata": {},
   "outputs": [
    {
     "name": "stdout",
     "output_type": "stream",
     "text": [
      "A beautiful medium sized, pink home in San Francisco\n"
     ]
    }
   ],
   "source": [
    "class House: \n",
    "    '''define the House class'''\n",
    "    #define class variable value_increase \n",
    "    value_increase = 0.10 \n",
    "    \n",
    "    def __init__(self, color, size, location, value):\n",
    "        # initialize the constructor \n",
    "        self.color = color \n",
    "        self.size = size \n",
    "        self.location = location \n",
    "        self.value = value \n",
    "        \n",
    "    def tagline(self):\n",
    "        #tagline from house data  \n",
    "        tag = 'A beautiful {} sized, {} home in {}'.format(self.size, \n",
    "                                                    self.color, \n",
    "                                                    self. location)\n",
    "        return tag \n",
    "\n",
    "    @classmethod #decorator \n",
    "    def from_string(cls, data):\n",
    "        #parse the data\n",
    "        color, size, location, value = data.split('-')\n",
    "        #put parsed data into class object \n",
    "        return cls(color, size, location, value)\n",
    "    \n",
    "#how input data may appear \n",
    "house_data = 'pink-medium-San Francisco-1000000'\n",
    "\n",
    "#parse and instantiate class using classmethod\n",
    "house1 = House.from_string(house_data)\n",
    "\n",
    "#check that it worked \n",
    "print (house1.tagline())"
   ]
  },
  {
   "cell_type": "markdown",
   "metadata": {},
   "source": [
    "What just happened? We got rid of the pre-parsing for instantiating that occured outside the class structure and implemented it inside the class by using a classmethod. We created the classmethod using the `@classmethod decorator`, and then made a method as usual. The arguments to the class method are a class, which by convention is always called `cls`, and in our case here, the data that needs to be parsed, `data`. We then parse the data as we did would normally, using `.split`. Then we create and return a class using `cls`. When we go and call `House.from_string(house_data)`, we are instantiating the class using the non-parsed data. Internally, the data is getting parsed and the class is instantiated inside the class method! \n",
    "\n",
    "More generally, we've done something much more profound. We have created a new way to instantiate objects. Using class methods, we can take in any arbitrary form of data and manipulate it to instantiate the object that we want. We can package up this manipulation into a tidy class method, and put it inside the class structure we want to create so that it can be used quickly and efficiently. \n",
    "\n",
    "An example of this is the `datetime` library. We can instantiate a datetime object in a variety of ways, all using class methods under the hood: "
   ]
  },
  {
   "cell_type": "code",
   "execution_count": 61,
   "metadata": {},
   "outputs": [
    {
     "name": "stdout",
     "output_type": "stream",
     "text": [
      "2017-10-16 16:01:59.106857\n",
      "1917-07-16 00:00:00\n",
      "1970-01-09 03:26:41\n"
     ]
    }
   ],
   "source": [
    "import datetime\n",
    "\n",
    "#use a current time object from time.time()\n",
    "date1 = datetime.datetime.today()\n",
    "\n",
    "#use ordinal time formatting \n",
    "date2 = datetime.datetime.fromordinal(700001)\n",
    "\n",
    "#use a timestamp object\n",
    "date3 = datetime.datetime.fromtimestamp(700001)\n",
    "\n",
    "print (date1)\n",
    "print (date2)\n",
    "print (date3)"
   ]
  },
  {
   "cell_type": "markdown",
   "metadata": {},
   "source": [
    "Under the hood, this is what we see: "
   ]
  },
  {
   "cell_type": "markdown",
   "metadata": {},
   "source": [
    "```python \n",
    "... other stuff above \n",
    "\n",
    "@classmethod \n",
    "def fromtimestamp(cls, t):\n",
    "    '''Construct a date from a POSIX timestamp (like time.time()'''\n",
    "    y, m, d, hh, mm, ss, weekday, jday, dst = _time.localtime(t)\n",
    "    return cls(y, m, d)\n",
    "    \n",
    "@classmethod\n",
    "def today(cls):\n",
    "    '''Construct a date from time.time()'''\n",
    "    t = _time.time()\n",
    "    return cls(fromtimestamp(t)\n",
    "    \n",
    "@classmethod\n",
    "def fromordinal(cls, n):\n",
    "    '''Construct a datetime from a proleptic Gregorian Ordinal'''\n",
    "    \n",
    "    ...\n",
    "\n",
    "```\n",
    "\n",
    "Do you see the similarities with our House code? Take a moment to try and understand what is going on here. Watch the Youtube video referenced at the top of this tutorial for a more in depth explanation, around min 9. "
   ]
  },
  {
   "cell_type": "markdown",
   "metadata": {},
   "source": [
    "### Static Methods \n",
    "\n",
    "When working with classes, regular methods automatically passed in the instance in as the first arugment, as `self`. Class methods automatically passed in the class as the first argument, as `cls`. Static methods don't pass in anything automatically. They behave just as regular functions, but we include them in our class because they have some logical connection with the class. \n",
    "\n",
    "Creating a static method is just as easy as a class method, with a decorator, `@staticmethod`. It is easy to mixup the three methods we have so far. One way to check if the method you have written is a static method is to see whether you reference the instance or class in the method. If not, it is a static method. An example of when we might need this in the House class is if we want to see if some price is outside of our budget. Let's say our budget for a home is $500,000. We can check if some price (not the price of a home in question) is in our out of our budget. \n",
    "\n",
    "Notice that in the example below, "
   ]
  },
  {
   "cell_type": "code",
   "execution_count": 66,
   "metadata": {},
   "outputs": [
    {
     "name": "stdout",
     "output_type": "stream",
     "text": [
      "True\n",
      "False\n"
     ]
    }
   ],
   "source": [
    "class House: \n",
    "    '''define the House class'''\n",
    "    #define class variable value_increase \n",
    "    value_increase = 0.10 \n",
    "    \n",
    "    def __init__(self, color, size, location, value):\n",
    "        # initialize the constructor \n",
    "        self.color = color \n",
    "        self.size = size \n",
    "        self.location = location \n",
    "        self.value = value \n",
    "        \n",
    "    @staticmethod \n",
    "    def is_in_budget(price): \n",
    "        if price<=500000: \n",
    "            return True \n",
    "        else: \n",
    "            return False \n",
    "        \n",
    "print (House.is_in_budget(400000))\n",
    "print (House.is_in_budget(1000000))"
   ]
  },
  {
   "cell_type": "code",
   "execution_count": null,
   "metadata": {
    "collapsed": true
   },
   "outputs": [],
   "source": []
  }
 ],
 "metadata": {
  "kernelspec": {
   "display_name": "Python 3",
   "language": "python",
   "name": "python3"
  },
  "language_info": {
   "codemirror_mode": {
    "name": "ipython",
    "version": 3
   },
   "file_extension": ".py",
   "mimetype": "text/x-python",
   "name": "python",
   "nbconvert_exporter": "python",
   "pygments_lexer": "ipython3",
   "version": "3.5.2"
  },
  "widgets": {
   "state": {},
   "version": "1.1.2"
  }
 },
 "nbformat": 4,
 "nbformat_minor": 2
}
