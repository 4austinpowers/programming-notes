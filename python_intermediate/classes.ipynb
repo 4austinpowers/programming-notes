{
 "cells": [
  {
   "cell_type": "markdown",
   "metadata": {},
   "source": [
    "# Classes\n",
    "\n",
    "#### Why should we even use classes?\n",
    "\n",
    "They allow us to logically organize our data functions so that they are easy to reuse and build upon. \n",
    "\n",
    "### Parts of a Class: \n",
    "\n",
    "Classes are made up of organized functions and data (varaibles). In Object Oriented Property (OOP) Functions are often called methods, and data is often called attributes. There is a difference between a class, and an instance of a class. A class itself is a blueprint from which you can create instances of that class (like making many similar but unique houses from a blueprint). \n",
    "\n",
    "It is important to understand the difference between class variables and instance varaibles, which we will discuss later. \n",
    "\n",
    "#### Lets make a simple class: "
   ]
  },
  {
   "cell_type": "code",
   "execution_count": 1,
   "metadata": {
    "collapsed": true
   },
   "outputs": [],
   "source": [
    "class House: \n",
    "    '''\n",
    "    create a barebones class 'blueprint' \n",
    "    '''\n",
    "    pass \n",
    "\n",
    "#create some instances of the House class\n",
    "house1 = House()\n",
    "house2 = House()"
   ]
  },
  {
   "cell_type": "code",
   "execution_count": 2,
   "metadata": {},
   "outputs": [
    {
     "name": "stdout",
     "output_type": "stream",
     "text": [
      "<__main__.House object at 0x0000022CCB95CA20>\n",
      "<__main__.House object at 0x0000022CCB95C9E8>\n"
     ]
    }
   ],
   "source": [
    "#what are the house instances exactly?\n",
    "print (house1)\n",
    "print (house2)"
   ]
  },
  {
   "cell_type": "markdown",
   "metadata": {},
   "source": [
    "Each house instance has a unique place in memory. \n",
    "\n",
    "### Attributes \n",
    "\n",
    "We can give each instance of a class some variables, which carry data unique to that instance. Another name for these variables are the instance attributes. One option to do this is after the instances is created (called `instantiated` in OOP)"
   ]
  },
  {
   "cell_type": "code",
   "execution_count": 3,
   "metadata": {},
   "outputs": [],
   "source": [
    "#give houses color, size, and location attributes \n",
    "house1.color = 'white'\n",
    "house1.size = 'medium'\n",
    "house1.location = 'San Francisco'\n",
    "\n",
    "house2.color = 'blue'\n",
    "house2.size = 'small'\n",
    "house2.location = 'Paris'"
   ]
  },
  {
   "cell_type": "code",
   "execution_count": 4,
   "metadata": {},
   "outputs": [
    {
     "name": "stdout",
     "output_type": "stream",
     "text": [
      "white\n",
      "blue\n"
     ]
    }
   ],
   "source": [
    "print (house1.color)\n",
    "print (house2.color)"
   ]
  },
  {
   "cell_type": "markdown",
   "metadata": {},
   "source": [
    "### Initalizing a Class\n",
    "\n",
    "Manually setting these variables at every instantiation is a lot of work and error prone. Instead we can set the variables when the instance is instantiated. We do this using a special `__init__` method. You can think of `__init__` as saying 'initialize', but in OOP terms this is called the constructor of the class. \n",
    "\n",
    "When we create a class thethe `__init__`  method is executed automatically. So this is the place to initialze any default variables. Additionally, when we create other methods inside a class, they recieve the instance as the first argument automatically. By convention, we call this instance `self`.\n",
    "\n",
    "```python \n",
    "\n",
    "def __init__(self):\n",
    "    #initialze default variables\n",
    "\n",
    "```\n",
    "\n",
    " You can technically call this first argument whatever you want, but its a good idea to stick to convention so it is easier for you, and others to read and debug your code. Call it `self`. \n",
    " \n",
    "The other arguments for `__init__` are whatever you need them to be. In our `House` example: color, size, and location. \n",
    " \n",
    "As mentioned earlier, the `self` property of the class is the instance itself. So saying `self.color = 'red'` inside of the `class` initializaion code is the same as saying `House1.color = 'red'` later on. However, since we are writing `self.color` inside of the `__init__` method, this is happening automatically when the class is instantiated! When we instantiate the `House` class as `house1`, we do not need to feed in `self` because that is done automatically. \n",
    "\n",
    "This is pretty confusing so lets see an example. "
   ]
  },
  {
   "cell_type": "code",
   "execution_count": 5,
   "metadata": {},
   "outputs": [],
   "source": [
    "class House: \n",
    "    '''define the House class'''\n",
    "    \n",
    "    def __init__(self, color, size, location):\n",
    "        \n",
    "        '''\n",
    "        initialize the class with a constructor\n",
    "        - always add self arugment\n",
    "        - additional arguments are: color, size, and location\n",
    "        '''\n",
    "        \n",
    "        #set instance variables \n",
    "        self.color = color \n",
    "        self.size = size \n",
    "        self.location = location \n",
    "        \n",
    "        \n",
    "#create an instance of the House class\n",
    "#feed in the added arguments, in order\n",
    "house1 = House('white', 'medium', 'San Francisco')\n",
    "house2 = House('blue', 'small', 'Paris')"
   ]
  },
  {
   "cell_type": "code",
   "execution_count": 6,
   "metadata": {},
   "outputs": [
    {
     "name": "stdout",
     "output_type": "stream",
     "text": [
      "white\n",
      "medium\n",
      "San Francisco\n",
      "\n",
      "blue\n",
      "small\n",
      "Paris\n"
     ]
    }
   ],
   "source": [
    "print (house1.color)\n",
    "print (house1.size)\n",
    "print (house1.location)\n",
    "print ()\n",
    "\n",
    "print (house2.color)\n",
    "print (house2.size)\n",
    "print (house2.location)"
   ]
  },
  {
   "cell_type": "markdown",
   "metadata": {},
   "source": [
    "So what just happened? First we created the class just as we did before with `class House:`. Then we initialzied the default attributes with the `__init__` constructor. When we instantiated the House class as `house1`, all of these variables (color, size, location) were automatically set based on the arugments of the instantiation. The same was done for `house2`. Instead of manually setting the default variables in 3 lines, we did it all at once when the class was instantiated. \n",
    "\n",
    "### Methods \n",
    "\n",
    "So we can now create a class and set default attribute values for that class. But this is only interesting if we can do something with these values. That is what methods are for. As mentioned, methods are just functions. Since the function exists inside a class, its first argument is automatically the instance, `self`. \n",
    "\n",
    "```python \n",
    "\n",
    "def method(self):\n",
    "    #add two attributes (assume they are #'s)\n",
    "    sum_total = self.attribute1 + self.attribute2 \n",
    "    return sum_total\n",
    "\n",
    "```\n",
    "\n",
    "In our house example, lets create a method for the class that creates a tagline for any house instance that could be put on an online listing. "
   ]
  },
  {
   "cell_type": "code",
   "execution_count": 7,
   "metadata": {},
   "outputs": [
    {
     "name": "stdout",
     "output_type": "stream",
     "text": [
      "A beautiful medium sized, pink home in San Francisco\n",
      "A beautiful small sized, blue home in Paris\n"
     ]
    }
   ],
   "source": [
    "class House: \n",
    "    '''define the House class'''\n",
    "    \n",
    "    def __init__(self, color, size, location):\n",
    "        # initialize the constructor \n",
    "        self.color = color \n",
    "        self.size = size \n",
    "        self.location = location \n",
    "    \n",
    "    def tagline(self):\n",
    "        #print a tagline based on properties of the home \n",
    "        tag = 'A beautiful {} sized, {} home in {}'.format(self.size, \n",
    "                                                    self.color, \n",
    "                                                    self. location)\n",
    "        return tag \n",
    "        \n",
    "        \n",
    "#create instances of the house class\n",
    "house1 = House('pink', 'medium', 'San Francisco')\n",
    "house2 = House('blue', 'small', 'Paris')\n",
    "\n",
    "print (house1.tagline())\n",
    "print (house2.tagline())\n"
   ]
  },
  {
   "cell_type": "markdown",
   "metadata": {},
   "source": [
    "A few things to notice: first is that to call the method, I used `house1.tagline()` with parenthesis. If I did not include parnethesis we would simply get a message showing the object and method in memory, which is not very useful. To apply the method, we need to call it with parenthesis. "
   ]
  },
  {
   "cell_type": "code",
   "execution_count": 8,
   "metadata": {},
   "outputs": [
    {
     "data": {
      "text/plain": [
       "<bound method House.tagline of <__main__.House object at 0x0000022CCB989908>>"
      ]
     },
     "execution_count": 8,
     "metadata": {},
     "output_type": "execute_result"
    }
   ],
   "source": [
    "# no parenthesis, no call \n",
    "house1.tagline"
   ]
  },
  {
   "cell_type": "markdown",
   "metadata": {},
   "source": [
    "Next I will reiterate, because it is important to understand, the first argument for the method is `self`, and that is inferred when you call it, so you do not need to add it manually. To highlight what happens when this is forgotten, I will create the `tagline` method below, but not feed in `self` when building the class. "
   ]
  },
  {
   "cell_type": "code",
   "execution_count": 9,
   "metadata": {
    "collapsed": true
   },
   "outputs": [],
   "source": [
    "class House: \n",
    "    '''define the House class'''\n",
    "    \n",
    "    def __init__(self, color, size, location):\n",
    "        # initialize the constructor \n",
    "        self.color = color \n",
    "        self.size = size \n",
    "        self.location = location \n",
    "    \n",
    "    def tagline():\n",
    "        #no self argument! \n",
    "        tag = 'A beautiful {} sized, {} home in {}'.format(self.size, \n",
    "                                                    self.color, \n",
    "                                                    self. location)\n",
    "        return tag \n",
    "    \n",
    "house1 = House('pink', 'medium', 'San Francisco')"
   ]
  },
  {
   "cell_type": "markdown",
   "metadata": {},
   "source": [
    "The class builds and is instantiated fine, which is deceptive. Look what happens when we call `tagline`"
   ]
  },
  {
   "cell_type": "code",
   "execution_count": 10,
   "metadata": {},
   "outputs": [
    {
     "ename": "TypeError",
     "evalue": "tagline() takes 0 positional arguments but 1 was given",
     "output_type": "error",
     "traceback": [
      "\u001b[1;31m---------------------------------------------------------------------------\u001b[0m",
      "\u001b[1;31mTypeError\u001b[0m                                 Traceback (most recent call last)",
      "\u001b[1;32m<ipython-input-10-aecc650d57e3>\u001b[0m in \u001b[0;36m<module>\u001b[1;34m()\u001b[0m\n\u001b[1;32m----> 1\u001b[1;33m \u001b[0mhouse1\u001b[0m\u001b[1;33m.\u001b[0m\u001b[0mtagline\u001b[0m\u001b[1;33m(\u001b[0m\u001b[1;33m)\u001b[0m\u001b[1;33m\u001b[0m\u001b[0m\n\u001b[0m",
      "\u001b[1;31mTypeError\u001b[0m: tagline() takes 0 positional arguments but 1 was given"
     ]
    }
   ],
   "source": [
    "house1.tagline()"
   ]
  },
  {
   "cell_type": "markdown",
   "metadata": {},
   "source": [
    "A TypeError, where tagline expects 0 arguments but one was given. This is confusing because it looks like we did not give any arguments when calling `tagline`, but infact one was inferred, the instance itself, `self`.   "
   ]
  },
  {
   "cell_type": "markdown",
   "metadata": {},
   "source": [
    "### Class Variables \n",
    "\n",
    "We saw that instance variables are created in the `__init__` method, and can be edited once the class is initialzed. But what about variables that are the same for each instace? For example, imagine that the value of a home is rebalanced every year, and in a certain good year, the values of every home on the market goes up by 10%. This 10% value should be hardcoded so that it applies to every instance of a house that was created. \n",
    "\n",
    "Without class variables, this is how we would do it. But there are some issues. "
   ]
  },
  {
   "cell_type": "code",
   "execution_count": 11,
   "metadata": {},
   "outputs": [
    {
     "name": "stdout",
     "output_type": "stream",
     "text": [
      "1100000.0\n"
     ]
    }
   ],
   "source": [
    "class House: \n",
    "    '''define the House class'''\n",
    "    \n",
    "    def __init__(self, color, size, location, value,):\n",
    "        # initialize the constructor \n",
    "        self.color = color \n",
    "        self.size = size \n",
    "        self.location = location \n",
    "        self.value = value \n",
    "    \n",
    "    def good_year_increase(self):\n",
    "        #increase value of home by 10% \n",
    "        self.value = self.value* (1 + .10) \n",
    "    \n",
    "house1 = House('pink', 'medium', 'San Francisco', 1000000)\n",
    "\n",
    "house1.good_year_increase() #increase value of home \n",
    "print (house1.value) #inspect the change "
   ]
  },
  {
   "cell_type": "markdown",
   "metadata": {},
   "source": [
    "This works, but can you see this issues? What if we want to access the value increase, by calling something like `house1.increase_amount`? We cannot do that since the value 0.10 is not assigned to a accessible variable. Moreover, we cannot change the value of the value increase after the fact. Instead we can pull the 0.10 out and assign it as a class variable at the top of the class. See below. "
   ]
  },
  {
   "cell_type": "code",
   "execution_count": 12,
   "metadata": {},
   "outputs": [
    {
     "name": "stdout",
     "output_type": "stream",
     "text": [
      "1100000.0\n"
     ]
    }
   ],
   "source": [
    "class House: \n",
    "    '''define the House class'''\n",
    "    #define class variable value_increase \n",
    "    value_increase = 0.10 \n",
    "    \n",
    "    def __init__(self, color, size, location, value,):\n",
    "        # initialize the constructor \n",
    "        self.color = color \n",
    "        self.size = size \n",
    "        self.location = location \n",
    "        self.value = value \n",
    "    \n",
    "    def good_year_increase(self):\n",
    "        #increase value of home by value_increase \n",
    "        self.value = self.value* (1 + self.value_increase) \n",
    "    \n",
    "house1 = House('pink', 'medium', 'San Francisco', 1000000)\n",
    "\n",
    "house1.good_year_increase() #increase value of home \n",
    "print (house1.value) #inspect the change "
   ]
  },
  {
   "cell_type": "markdown",
   "metadata": {},
   "source": [
    "This seems mostly the same as the previous implementation, but check out what we can do now. If we want to prod the `House` class or `house1` instance for the value of `value_increase`, we can do that by calling that attribute.  "
   ]
  },
  {
   "cell_type": "code",
   "execution_count": 13,
   "metadata": {},
   "outputs": [
    {
     "data": {
      "text/plain": [
       "0.1"
      ]
     },
     "execution_count": 13,
     "metadata": {},
     "output_type": "execute_result"
    }
   ],
   "source": [
    "House.value_increase"
   ]
  },
  {
   "cell_type": "code",
   "execution_count": 14,
   "metadata": {},
   "outputs": [
    {
     "data": {
      "text/plain": [
       "0.1"
      ]
     },
     "execution_count": 14,
     "metadata": {},
     "output_type": "execute_result"
    }
   ],
   "source": [
    "house1.value_increase"
   ]
  },
  {
   "cell_type": "markdown",
   "metadata": {},
   "source": [
    "Additionally, if we want to change the value of `value_increase` later on, we can do that, too! Notice that we can reassgin the value to just the instance, and make the effects local, or we can make those affects global to all instances by reassigning the value in the `House` class.  "
   ]
  },
  {
   "cell_type": "code",
   "execution_count": 15,
   "metadata": {},
   "outputs": [
    {
     "name": "stdout",
     "output_type": "stream",
     "text": [
      "instance  0.4\n",
      "class 0.1\n",
      "1540000.0\n"
     ]
    }
   ],
   "source": [
    "house1.value_increase = 0.4\n",
    "\n",
    "print ('instance ', house1.value_increase)\n",
    "print ('class', House.value_increase)\n",
    "\n",
    "house1.good_year_increase() #increase value by another 40%  \n",
    "print (house1.value) #inspect the change "
   ]
  },
  {
   "cell_type": "markdown",
   "metadata": {},
   "source": [
    "If you have any confusion up until this point, make sure to review or check out some other tutorials to make sure you fully grasp classes, methods, and class vs. instance attribures. Here is a great [Youtube playlist](https://www.youtube.com/watch?v=ZDa-Z5JzLYM&index=34&list=PL-osiE80TeTt2d9bfVyTiXJA-UTHn6WwU), particularly OOP Tutorials 1 and 2. \n",
    "\n",
    "Like class vs. instance attribures, next we will be discussing class vs. instance methods. "
   ]
  },
  {
   "cell_type": "code",
   "execution_count": null,
   "metadata": {
    "collapsed": true
   },
   "outputs": [],
   "source": []
  }
 ],
 "metadata": {
  "kernelspec": {
   "display_name": "Python 3",
   "language": "python",
   "name": "python3"
  },
  "language_info": {
   "codemirror_mode": {
    "name": "ipython",
    "version": 3
   },
   "file_extension": ".py",
   "mimetype": "text/x-python",
   "name": "python",
   "nbconvert_exporter": "python",
   "pygments_lexer": "ipython3",
   "version": "3.5.2"
  },
  "widgets": {
   "state": {},
   "version": "1.1.2"
  }
 },
 "nbformat": 4,
 "nbformat_minor": 2
}
